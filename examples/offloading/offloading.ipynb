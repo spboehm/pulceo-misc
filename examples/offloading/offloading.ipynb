{
 "cells": [
  {
   "cell_type": "code",
   "execution_count": 1,
   "id": "b2cdee8a",
   "metadata": {},
   "outputs": [],
   "source": [
    "# orchestration details\n",
    "orchestration_id = \"offloading\""
   ]
  },
  {
   "cell_type": "markdown",
   "id": "3720168c",
   "metadata": {},
   "source": [
    "## Connect to PULCEO"
   ]
  },
  {
   "cell_type": "code",
   "execution_count": 2,
   "id": "3c19da6d",
   "metadata": {},
   "outputs": [
    {
     "name": "stdout",
     "output_type": "stream",
     "text": [
      "PRM health check passed.\n",
      "PSM health check passed.\n",
      "PMS health check passed.\n"
     ]
    }
   ],
   "source": [
    "from dotenv import load_dotenv\n",
    "load_dotenv(override=True)\n",
    "from pulceo.sdk import *\n",
    "\n",
    "# configuration\n",
    "scheme = \"http\"\n",
    "host = \"localhost\"\n",
    "prm_port = 7878 # default 7878\n",
    "psm_port = 7979 # default 7979\n",
    "pms_port = 7777 # default 7777\n",
    "\n",
    "# initiate the API\n",
    "pulceo_api = API(prm_port = prm_port)\n",
    "# check health of all services\n",
    "pulceo_api.check_health()"
   ]
  },
  {
   "cell_type": "markdown",
   "id": "3df85fc1",
   "metadata": {},
   "source": [
    "## Orchestration Context"
   ]
  },
  {
   "cell_type": "code",
   "execution_count": 3,
   "id": "5421798b",
   "metadata": {},
   "outputs": [
    {
     "data": {
      "text/plain": [
       "[{'service': 'psm',\n",
       "  'uuid': '940eb17d-8923-46c0-bc36-2c348cc3e070',\n",
       "  'name': 'default'},\n",
       " {'service': 'prm',\n",
       "  'uuid': '940eb17d-8923-46c0-bc36-2c348cc3e070',\n",
       "  'name': 'default'},\n",
       " {'service': 'pms',\n",
       "  'uuid': '940eb17d-8923-46c0-bc36-2c348cc3e070',\n",
       "  'name': 'default'}]"
      ]
     },
     "execution_count": 3,
     "metadata": {},
     "output_type": "execute_result"
    }
   ],
   "source": [
    "# check for the current orchestration context\n",
    "pulceo_api.get_orchestration_context(scope=\"all\")"
   ]
  },
  {
   "cell_type": "code",
   "execution_count": 4,
   "id": "32173f21",
   "metadata": {},
   "outputs": [
    {
     "name": "stdout",
     "output_type": "stream",
     "text": [
      "Orchestration created successfully.\n"
     ]
    },
    {
     "data": {
      "text/plain": [
       "{'uuid': 'afea3460-f3aa-4ede-bcae-64ab89c0edd7',\n",
       " 'name': 'offloading',\n",
       " 'description': 'Orchestration solution for offloading',\n",
       " 'status': 'NEW',\n",
       " 'properties': {'key': 'value'}}"
      ]
     },
     "execution_count": 4,
     "metadata": {},
     "output_type": "execute_result"
    }
   ],
   "source": [
    "# create an orchestration\n",
    "pulceo_api.create_orchestration(orchestration_id, \"Orchestration solution for offloading\", {\"key\":\"value\"})"
   ]
  },
  {
   "cell_type": "code",
   "execution_count": 5,
   "id": "efc197cd",
   "metadata": {},
   "outputs": [
    {
     "name": "stdout",
     "output_type": "stream",
     "text": [
      "Orchestration status updated to RUNNING.\n"
     ]
    },
    {
     "data": {
      "text/plain": [
       "{'startTimestamp': '2025-08-28 17:34:06.253505',\n",
       " 'endTimestamp': '',\n",
       " 'uuid': 'afea3460-f3aa-4ede-bcae-64ab89c0edd7',\n",
       " 'name': 'offloading',\n",
       " 'description': 'Orchestration solution for offloading',\n",
       " 'status': 'RUNNING',\n",
       " 'properties': {'key': 'value'}}"
      ]
     },
     "execution_count": 5,
     "metadata": {},
     "output_type": "execute_result"
    }
   ],
   "source": [
    "# start orchestration\n",
    "pulceo_api.start_orchestration(orchestration_id)\n",
    "# stop orchestration\n",
    "pulceo_api.read_orchestration(orchestration_id)"
   ]
  },
  {
   "cell_type": "markdown",
   "id": "214f3ea1",
   "metadata": {},
   "source": [
    "## Creation"
   ]
  },
  {
   "cell_type": "markdown",
   "id": "d05fa2b1",
   "metadata": {},
   "source": [
    "### Nodes"
   ]
  },
  {
   "cell_type": "code",
   "execution_count": 6,
   "id": "2ce7354e",
   "metadata": {},
   "outputs": [
    {
     "name": "stdout",
     "output_type": "stream",
     "text": [
      "Node created successfully.\n"
     ]
    },
    {
     "data": {
      "text/plain": [
       "{'uuid': 'b4272f56-79b0-47ef-b3f2-2aff330f05fa',\n",
       " 'providerName': 'default',\n",
       " 'hostname': 'h5138.pi.uni-bamberg.de',\n",
       " 'pnaUUID': '644e3577-cb1e-4604-8635-5684bcc2cf42',\n",
       " 'node': {'name': 'edge1',\n",
       "  'type': 'EDGE',\n",
       "  'layer': 1,\n",
       "  'role': 'WORKLOAD',\n",
       "  'group': '',\n",
       "  'country': 'Germany',\n",
       "  'state': 'Bavaria',\n",
       "  'city': 'Bamberg',\n",
       "  'longitude': 10.87,\n",
       "  'latitude': 49.9036,\n",
       "  'tags': [{'key': 'properties', 'value': 'C++, Linux, Python'}]}}"
      ]
     },
     "execution_count": 6,
     "metadata": {},
     "output_type": "execute_result"
    }
   ],
   "source": [
    "# pdh-pna1\n",
    "pulceo_api.create_node(\"resources/nodes/edge1.json\")\n"
   ]
  },
  {
   "cell_type": "code",
   "execution_count": 7,
   "id": "ef2cd53b",
   "metadata": {},
   "outputs": [
    {
     "name": "stdout",
     "output_type": "stream",
     "text": [
      "Node created successfully.\n"
     ]
    },
    {
     "data": {
      "text/plain": [
       "{'uuid': '2604af91-712c-4392-8b0c-195495da5570',\n",
       " 'providerName': 'default',\n",
       " 'hostname': 'h5136.pi.uni-bamberg.de',\n",
       " 'pnaUUID': '422a362f-bee4-4e0e-9d35-6dbaaa276c8b',\n",
       " 'node': {'name': 'edge2',\n",
       "  'type': 'EDGE',\n",
       "  'layer': 1,\n",
       "  'role': 'WORKLOAD',\n",
       "  'group': '',\n",
       "  'country': 'Germany',\n",
       "  'state': 'Bavaria',\n",
       "  'city': 'Bamberg',\n",
       "  'longitude': 10.87,\n",
       "  'latitude': 49.9036,\n",
       "  'tags': [{'key': 'properties', 'value': 'C++, Linux, Python'}]}}"
      ]
     },
     "execution_count": 7,
     "metadata": {},
     "output_type": "execute_result"
    }
   ],
   "source": [
    "# pdh-pna2\n",
    "pulceo_api.create_node(\"resources/nodes/edge2.json\")"
   ]
  },
  {
   "cell_type": "code",
   "execution_count": null,
   "id": "a3e1906c",
   "metadata": {},
   "outputs": [],
   "source": [
    "# TODO: Possibility 1 (manually)\n",
    "\n",
    "# create nodes via json\n",
    "#pulceo_api.create_node(\"resources/nodes/edge0.json\")\n",
    "#pulceo_api.create_node(\"resources/nodes/edge1.json\")"
   ]
  },
  {
   "cell_type": "code",
   "execution_count": 8,
   "id": "f181359f",
   "metadata": {},
   "outputs": [
    {
     "data": {
      "text/plain": [
       "[{'uuid': 'b4272f56-79b0-47ef-b3f2-2aff330f05fa',\n",
       "  'providerName': 'default',\n",
       "  'hostname': 'h5138.pi.uni-bamberg.de',\n",
       "  'pnaUUID': '644e3577-cb1e-4604-8635-5684bcc2cf42',\n",
       "  'node': {'name': 'edge1',\n",
       "   'type': 'EDGE',\n",
       "   'layer': 1,\n",
       "   'role': 'WORKLOAD',\n",
       "   'group': '',\n",
       "   'country': 'Germany',\n",
       "   'state': 'Bavaria',\n",
       "   'city': 'Bamberg',\n",
       "   'longitude': 10.87,\n",
       "   'latitude': 49.9036,\n",
       "   'tags': [{'key': 'properties', 'value': 'C++, Linux, Python'}]}},\n",
       " {'uuid': '2604af91-712c-4392-8b0c-195495da5570',\n",
       "  'providerName': 'default',\n",
       "  'hostname': 'h5136.pi.uni-bamberg.de',\n",
       "  'pnaUUID': '422a362f-bee4-4e0e-9d35-6dbaaa276c8b',\n",
       "  'node': {'name': 'edge2',\n",
       "   'type': 'EDGE',\n",
       "   'layer': 1,\n",
       "   'role': 'WORKLOAD',\n",
       "   'group': '',\n",
       "   'country': 'Germany',\n",
       "   'state': 'Bavaria',\n",
       "   'city': 'Bamberg',\n",
       "   'longitude': 10.87,\n",
       "   'latitude': 49.9036,\n",
       "   'tags': [{'key': 'properties', 'value': 'C++, Linux, Python'}]}}]"
      ]
     },
     "execution_count": 8,
     "metadata": {},
     "output_type": "execute_result"
    }
   ],
   "source": [
    "# read nodes\n",
    "pulceo_api.read_nodes()"
   ]
  },
  {
   "cell_type": "markdown",
   "id": "07e52f51",
   "metadata": {},
   "source": [
    "### Links"
   ]
  },
  {
   "cell_type": "code",
   "execution_count": null,
   "id": "41eb4171",
   "metadata": {},
   "outputs": [],
   "source": [
    "# TODO: Possibility 1 (manually)\n",
    "\n",
    "# create links via json\n",
    "#pulceo_api.create_link(\"resources/links/edge0-edge1.json\")\n",
    "#pulceo_api.create_link(\"resources/links/edge1-edge0.json\")"
   ]
  },
  {
   "cell_type": "code",
   "execution_count": null,
   "id": "b09d7f6f",
   "metadata": {},
   "outputs": [],
   "source": [
    "# read links\n",
    "#pulceo_api.read_links()"
   ]
  },
  {
   "cell_type": "markdown",
   "id": "c6d8be43",
   "metadata": {},
   "source": [
    "## Operation"
   ]
  },
  {
   "cell_type": "code",
   "execution_count": 15,
   "id": "e3f232f3",
   "metadata": {},
   "outputs": [
    {
     "data": {
      "text/plain": [
       "[{'applicationUUID': 'dbf02196-0530-4e83-bd6e-26816d62c8ce',\n",
       "  'remoteApplicationUUID': 'a421f2cb-3218-44dd-8c01-585d11332cc0',\n",
       "  'nodeId': 'b4272f56-79b0-47ef-b3f2-2aff330f05fa',\n",
       "  'endpoint': '',\n",
       "  'name': 'edge1-pulceo-node-agent',\n",
       "  'applicationComponents': []},\n",
       " {'applicationUUID': 'd8daca16-a5ea-41ec-a4c3-f4c02553fadb',\n",
       "  'remoteApplicationUUID': 'c51fe606-825f-4224-b0c1-01aa8fd493b2',\n",
       "  'nodeId': 'b4272f56-79b0-47ef-b3f2-2aff330f05fa',\n",
       "  'endpoint': '',\n",
       "  'name': 'edge1-traefik',\n",
       "  'applicationComponents': []},\n",
       " {'applicationUUID': '550ac75f-a9e0-418f-ab0f-66c858ba6f95',\n",
       "  'remoteApplicationUUID': '8a619ca8-e39f-4f22-b8c8-00c41827c2b0',\n",
       "  'nodeId': '2604af91-712c-4392-8b0c-195495da5570',\n",
       "  'endpoint': '',\n",
       "  'name': 'edge2-pulceo-node-agent',\n",
       "  'applicationComponents': []},\n",
       " {'applicationUUID': '28762922-f739-4749-8425-1fe3f7219d20',\n",
       "  'remoteApplicationUUID': '0fc646b5-337c-4b97-9cd6-1a88debd5c3d',\n",
       "  'nodeId': '2604af91-712c-4392-8b0c-195495da5570',\n",
       "  'endpoint': '',\n",
       "  'name': 'edge2-traefik',\n",
       "  'applicationComponents': []},\n",
       " {'applicationUUID': '4af143fd-23a2-4092-9802-779fa27e2992',\n",
       "  'remoteApplicationUUID': '0f1794af-8708-4632-9d06-a4a1820d93da',\n",
       "  'nodeId': 'b4272f56-79b0-47ef-b3f2-2aff330f05fa',\n",
       "  'endpoint': 'https://h5138.pi.uni-bamberg.de:80',\n",
       "  'name': 'edge1-edge-iot-simulator',\n",
       "  'applicationComponents': [{'applicationComponentUUID': '9b031b37-b2be-42e6-b0ca-15cd58d0f112',\n",
       "    'name': 'edge1-edge-iot-simulator-component-eis',\n",
       "    'endpoint': 'https://h5138.pi.uni-bamberg.de:80',\n",
       "    'image': 'ghcr.io/spboehm/edge-iot-simulator:v1.2.1',\n",
       "    'port': 80,\n",
       "    'protocol': 'HTTPS',\n",
       "    'applicationComponentType': 'PUBLIC'}]},\n",
       " {'applicationUUID': '402606fb-4412-4310-877c-efd113aeed7c',\n",
       "  'remoteApplicationUUID': '08abc70b-9371-4b9a-bcb3-613d335cb1f6',\n",
       "  'nodeId': '2604af91-712c-4392-8b0c-195495da5570',\n",
       "  'endpoint': 'https://h5136.pi.uni-bamberg.de:80',\n",
       "  'name': 'edge2-edge-iot-simulator',\n",
       "  'applicationComponents': [{'applicationComponentUUID': '153b619e-d10e-4b08-bab3-eed3d6e928c0',\n",
       "    'name': 'edge2-edge-iot-simulator-component-eis',\n",
       "    'endpoint': 'https://h5136.pi.uni-bamberg.de:80',\n",
       "    'image': 'ghcr.io/spboehm/edge-iot-simulator:v1.2.1',\n",
       "    'port': 80,\n",
       "    'protocol': 'HTTPS',\n",
       "    'applicationComponentType': 'PUBLIC'}]}]"
      ]
     },
     "execution_count": 15,
     "metadata": {},
     "output_type": "execute_result"
    }
   ],
   "source": [
    "# read applications\n",
    "pulceo_api.read_applications()"
   ]
  },
  {
   "cell_type": "code",
   "execution_count": 10,
   "id": "50edd9ba",
   "metadata": {},
   "outputs": [
    {
     "name": "stdout",
     "output_type": "stream",
     "text": [
      "Applications created successfully.\n"
     ]
    },
    {
     "data": {
      "text/plain": [
       "{'applicationUUID': '4af143fd-23a2-4092-9802-779fa27e2992',\n",
       " 'remoteApplicationUUID': '00000000-0000-0000-0000-000000000000',\n",
       " 'nodeId': 'b4272f56-79b0-47ef-b3f2-2aff330f05fa',\n",
       " 'endpoint': 'https://null:80',\n",
       " 'name': 'edge1-edge-iot-simulator',\n",
       " 'applicationComponents': [{'applicationComponentUUID': 'a8799e33-7295-4786-956f-1134e350fa1c',\n",
       "   'name': 'component-eis',\n",
       "   'endpoint': 'https://null:80',\n",
       "   'image': 'ghcr.io/spboehm/edge-iot-simulator:v1.2.1',\n",
       "   'port': 80,\n",
       "   'protocol': 'HTTPS',\n",
       "   'applicationComponentType': 'PUBLIC'}]}"
      ]
     },
     "execution_count": 10,
     "metadata": {},
     "output_type": "execute_result"
    }
   ],
   "source": [
    "# TODO: deploy workload on fog0\n",
    "pulceo_api.create_application(\"edge1\", \"edge-iot-simulator\", \"resources/applications/edge-iot-simulator.json\")"
   ]
  },
  {
   "cell_type": "code",
   "execution_count": 11,
   "id": "8163cb41",
   "metadata": {},
   "outputs": [
    {
     "name": "stdout",
     "output_type": "stream",
     "text": [
      "Applications created successfully.\n"
     ]
    },
    {
     "data": {
      "text/plain": [
       "{'applicationUUID': '402606fb-4412-4310-877c-efd113aeed7c',\n",
       " 'remoteApplicationUUID': '00000000-0000-0000-0000-000000000000',\n",
       " 'nodeId': '2604af91-712c-4392-8b0c-195495da5570',\n",
       " 'endpoint': 'https://null:80',\n",
       " 'name': 'edge2-edge-iot-simulator',\n",
       " 'applicationComponents': [{'applicationComponentUUID': '7c609959-26b2-4de8-8479-98e3190c84bd',\n",
       "   'name': 'component-eis',\n",
       "   'endpoint': 'https://null:80',\n",
       "   'image': 'ghcr.io/spboehm/edge-iot-simulator:v1.2.1',\n",
       "   'port': 80,\n",
       "   'protocol': 'HTTPS',\n",
       "   'applicationComponentType': 'PUBLIC'}]}"
      ]
     },
     "execution_count": 11,
     "metadata": {},
     "output_type": "execute_result"
    }
   ],
   "source": [
    "pulceo_api.create_application(\"edge2\", \"edge-iot-simulator\", \"resources/applications/edge-iot-simulator.json\")"
   ]
  },
  {
   "cell_type": "markdown",
   "id": "1942b880",
   "metadata": {},
   "source": [
    "## Monitoring"
   ]
  },
  {
   "cell_type": "code",
   "execution_count": 7,
   "id": "b8cfdcff",
   "metadata": {},
   "outputs": [
    {
     "name": "stdout",
     "output_type": "stream",
     "text": [
      "PMS health check passed.\n"
     ]
    }
   ],
   "source": [
    "# check health\n",
    "pulceo_api.monitoring.check_health()"
   ]
  },
  {
   "cell_type": "markdown",
   "id": "6d1315c1",
   "metadata": {},
   "source": [
    "### Nodes"
   ]
  },
  {
   "cell_type": "code",
   "execution_count": null,
   "id": "ad58093f",
   "metadata": {},
   "outputs": [],
   "source": [
    "pulceo_api.monitoring.create_metric_request(\"resources/metric-requests/nodes/pdh-pna1_cpu-util.json\")\n",
    "pulceo_api.monitoring.create_metric_request(\"resources/metric-requests/nodes/pdh-pna1_mem-util.json\")"
   ]
  },
  {
   "cell_type": "code",
   "execution_count": null,
   "id": "9981f01f",
   "metadata": {},
   "outputs": [],
   "source": [
    "# TODO: Possibility 1 (manually)\n",
    "\n",
    "# TODO: via json\n",
    "\n",
    "# edge0\n",
    "pulceo_api.monitoring.create_metric_request(\"resources/metric-requests/nodes/edge0_cpu-util.json\")\n",
    "pulceo_api.monitoring.create_metric_request(\"resources/metric-requests/nodes/edge0_mem-util.json\")\n",
    "pulceo_api.monitoring.create_metric_request(\"resources/metric-requests/nodes/edge0_storage-util.json\")\n",
    "pulceo_api.monitoring.create_metric_request(\"resources/metric-requests/nodes/edge0_net-util.json\")\n",
    "\n",
    "# edge1\n",
    "pulceo_api.monitoring.create_metric_request(\"resources/metric-requests/nodes/edge1_cpu-util.json\")\n",
    "pulceo_api.monitoring.create_metric_request(\"resources/metric-requests/nodes/edge1_mem-util.json\")\n",
    "pulceo_api.monitoring.create_metric_request(\"resources/metric-requests/nodes/edge1_storage-util.json\")\n",
    "pulceo_api.monitoring.create_metric_request(\"resources/metric-requests/nodes/edge1_net-util.json\")"
   ]
  },
  {
   "cell_type": "code",
   "execution_count": null,
   "id": "5a8a576a",
   "metadata": {},
   "outputs": [],
   "source": [
    "# TODO: read metric requests\n",
    "pulceo_api.monitoring.read_metric_requests()"
   ]
  },
  {
   "cell_type": "code",
   "execution_count": null,
   "id": "32955bc4",
   "metadata": {},
   "outputs": [],
   "source": [
    "# TODO: metric requests links\n",
    "\n",
    "# edge0-edge1"
   ]
  },
  {
   "cell_type": "markdown",
   "id": "4891fdb7",
   "metadata": {},
   "source": [
    "## Evaluation"
   ]
  },
  {
   "cell_type": "code",
   "execution_count": 16,
   "id": "2ee4577c",
   "metadata": {},
   "outputs": [
    {
     "name": "stdout",
     "output_type": "stream",
     "text": [
      "Orchestration status updated to COMPLETED.\n"
     ]
    },
    {
     "data": {
      "text/plain": [
       "{'startTimestamp': '2025-08-28 17:34:06.253505',\n",
       " 'endTimestamp': '2025-08-28 17:46:04.97274',\n",
       " 'uuid': 'afea3460-f3aa-4ede-bcae-64ab89c0edd7',\n",
       " 'name': 'offloading',\n",
       " 'description': 'Orchestration solution for offloading',\n",
       " 'status': 'COMPLETED',\n",
       " 'properties': {'key': 'value'}}"
      ]
     },
     "execution_count": 16,
     "metadata": {},
     "output_type": "execute_result"
    }
   ],
   "source": [
    "# stop orchestration\n",
    "pulceo_api.stop_orchestration(orchestration_id)\n",
    "# read orchestration\n",
    "pulceo_api.read_orchestration(orchestration_id)"
   ]
  },
  {
   "cell_type": "code",
   "execution_count": 20,
   "id": "055f9e21",
   "metadata": {},
   "outputs": [
    {
     "name": "stdout",
     "output_type": "stream",
     "text": [
      "Orchestration report created successfully.\n"
     ]
    }
   ],
   "source": [
    "# generate orchestration report\n",
    "pulceo_api.create_orchestration_report(orchestration_id)"
   ]
  },
  {
   "cell_type": "markdown",
   "id": "4ce8d84f",
   "metadata": {},
   "source": [
    "## Documentation"
   ]
  },
  {
   "cell_type": "code",
   "execution_count": 8,
   "id": "435914bc",
   "metadata": {},
   "outputs": [
    {
     "name": "stdout",
     "output_type": "stream",
     "text": [
      "Failed to reset orchestration context: 500, {\"timestamp\":\"2025-08-26T14:54:15.373+00:00\",\"status\":500,\"error\":\"Internal Server Error\",\"trace\":\"java.lang.RuntimeException: dev.pulceo.prm.api.exception.PrmApiException: Failed to get nodes from PRM\\n\\tat dev.pulceo.prm.api.PrmApi.lambda$getAllNodes$2(PrmApi.java:108)\\n\\tat reactor.core.publisher.FluxOnErrorResume$ResumeSubscriber.onError(FluxOnErrorResume.java:94)\\n\\tat reactor.core.publisher.MonoCollectList$MonoCollectListSubscriber.onError(MonoCollectList.java:108)\\n\\tat reactor.core.publisher.MonoFlatMapMany$FlatMapManyMain.onError(MonoFlatMapMany.java:204)\\n\\tat reactor.core.publisher.FluxContextWrite$ContextWriteSubscriber.onError(FluxContextWrite.java:121)\\n\\tat reactor.core.publisher.FluxDoFinally$DoFinallySubscriber.onError(FluxDoFinally.java:119)\\n\\tat reactor.core.publisher.MonoPeekTerminal$MonoTerminalPeekSubscriber.onError(MonoPeekTerminal.java:258)\\n\\tat reactor.core.publisher.FluxPeekFuseable$PeekConditionalSubscriber.onError(FluxPeekFuseable.java:903)\\n\\tat reactor.core.publisher.Operators$MultiSubscriptionSubscriber.onError(Operators.java:2210)\\n\\tat reactor.core.publisher.FluxOnAssembly$OnAssemblySubscriber.onError(FluxOnAssembly.java:544)\\n\\tat reactor.core.publisher.FluxPeek$PeekSubscriber.onError(FluxPeek.java:222)\\n\\tat reactor.core.publisher.FluxMap$MapSubscriber.onError(FluxMap.java:134)\\n\\tat reactor.core.publisher.FluxOnErrorResume$ResumeSubscriber.onError(FluxOnErrorResume.java:106)\\n\\tat reactor.core.publisher.Operators.error(Operators.java:198)\\n\\tat reactor.core.publisher.MonoErrorSupplied.subscribe(MonoErrorSupplied.java:56)\\n\\tat reactor.core.publisher.Mono.subscribe(Mono.java:4495)\\n\\tat reactor.core.publisher.FluxOnErrorResume$ResumeSubscriber.onError(FluxOnErrorResume.java:103)\\n\\tat reactor.core.publisher.FluxPeek$PeekSubscriber.onError(FluxPeek.java:222)\\n\\tat reactor.core.publisher.FluxPeek$PeekSubscriber.onError(FluxPeek.java:222)\\n\\tat reactor.core.publisher.FluxPeek$PeekSubscriber.onError(FluxPeek.java:222)\\n\\tat reactor.core.publisher.MonoNext$NextSubscriber.onError(MonoNext.java:93)\\n\\tat reactor.core.publisher.MonoFlatMapMany$FlatMapManyMain.onError(MonoFlatMapMany.java:204)\\n\\tat reactor.core.publisher.SerializedSubscriber.onError(SerializedSubscriber.java:124)\\n\\tat reactor.core.publisher.FluxRetryWhen$RetryWhenMainSubscriber.whenError(FluxRetryWhen.java:225)\\n\\tat reactor.core.publisher.FluxRetryWhen$RetryWhenOtherSubscriber.onError(FluxRetryWhen.java:274)\\n\\tat reactor.core.publisher.FluxContextWrite$ContextWriteSubscriber.onError(FluxContextWrite.java:121)\\n\\tat reactor.core.publisher.FluxConcatMapNoPrefetch$FluxConcatMapNoPrefetchSubscriber.maybeOnError(FluxConcatMapNoPrefetch.java:326)\\n\\tat reactor.core.publisher.FluxConcatMapNoPrefetch$FluxConcatMapNoPrefetchSubscriber.onNext(FluxConcatMapNoPrefetch.java:211)\\n\\tat reactor.core.publisher.FluxContextWrite$ContextWriteSubscriber.onNext(FluxContextWrite.java:107)\\n\\tat reactor.core.publisher.SinkManyEmitterProcessor.drain(SinkManyEmitterProcessor.java:471)\\n\\tat reactor.core.publisher.SinkManyEmitterProcessor$EmitterInner.drainParent(SinkManyEmitterProcessor.java:615)\\n\\tat reactor.core.publisher.FluxPublish$PubSubInner.request(FluxPublish.java:871)\\n\\tat reactor.core.publisher.FluxContextWrite$ContextWriteSubscriber.request(FluxContextWrite.java:136)\\n\\tat reactor.core.publisher.FluxConcatMapNoPrefetch$FluxConcatMapNoPrefetchSubscriber.request(FluxConcatMapNoPrefetch.java:336)\\n\\tat reactor.core.publisher.FluxContextWrite$ContextWriteSubscriber.request(FluxContextWrite.java:136)\\n\\tat reactor.core.publisher.Operators$DeferredSubscription.request(Operators.java:1717)\\n\\tat reactor.core.publisher.FluxRetryWhen$RetryWhenMainSubscriber.onError(FluxRetryWhen.java:192)\\n\\tat reactor.core.publisher.MonoCreate$DefaultMonoSink.error(MonoCreate.java:201)\\n\\tat reactor.netty.http.client.HttpClientConnect$MonoHttpConnect$ClientTransportSubscriber.onError(HttpClientConnect.java:311)\\n\\tat reactor.core.publisher.MonoCreate$DefaultMonoSink.error(MonoCreate.java:201)\\n\\tat reactor.netty.resources.DefaultPooledConnectionProvider$DisposableAcquire.onError(DefaultPooledConnectionProvider.java:162)\\n\\tat reactor.netty.internal.shaded.reactor.pool.AbstractPool$Borrower.fail(AbstractPool.java:475)\\n\\tat reactor.netty.internal.shaded.reactor.pool.SimpleDequePool.lambda$drainLoop$9(SimpleDequePool.java:433)\\n\\tat reactor.core.publisher.FluxDoOnEach$DoOnEachSubscriber.onError(FluxDoOnEach.java:186)\\n\\tat reactor.core.publisher.MonoCreate$DefaultMonoSink.error(MonoCreate.java:201)\\n\\tat reactor.netty.resources.DefaultPooledConnectionProvider$PooledConnectionAllocator$PooledConnectionInitializer.onError(DefaultPooledConnectionProvider.java:560)\\n\\tat reactor.core.publisher.MonoFlatMap$FlatMapMain.secondError(MonoFlatMap.java:241)\\n\\tat reactor.core.publisher.MonoFlatMap$FlatMapInner.onError(MonoFlatMap.java:315)\\n\\tat reactor.core.publisher.FluxOnErrorResume$ResumeSubscriber.onError(FluxOnErrorResume.java:106)\\n\\tat reactor.core.publisher.SerializedSubscriber.onError(SerializedSubscriber.java:124)\\n\\tat reactor.core.publisher.FluxRetryWhen$RetryWhenMainSubscriber.whenError(FluxRetryWhen.java:225)\\n\\tat reactor.core.publisher.FluxRetryWhen$RetryWhenOtherSubscriber.onError(FluxRetryWhen.java:274)\\n\\tat reactor.core.publisher.FluxContextWrite$ContextWriteSubscriber.onError(FluxContextWrite.java:121)\\n\\tat reactor.core.publisher.FluxConcatMapNoPrefetch$FluxConcatMapNoPrefetchSubscriber.maybeOnError(FluxConcatMapNoPrefetch.java:326)\\n\\tat reactor.core.publisher.FluxConcatMapNoPrefetch$FluxConcatMapNoPrefetchSubscriber.onNext(FluxConcatMapNoPrefetch.java:211)\\n\\tat reactor.core.publisher.FluxContextWrite$ContextWriteSubscriber.onNext(FluxContextWrite.java:107)\\n\\tat reactor.core.publisher.SinkManyEmitterProcessor.drain(SinkManyEmitterProcessor.java:471)\\n\\tat reactor.core.publisher.SinkManyEmitterProcessor$EmitterInner.drainParent(SinkManyEmitterProcessor.java:615)\\n\\tat reactor.core.publisher.FluxPublish$PubSubInner.request(FluxPublish.java:871)\\n\\tat reactor.core.publisher.FluxContextWrite$ContextWriteSubscriber.request(FluxContextWrite.java:136)\\n\\tat reactor.core.publisher.FluxConcatMapNoPrefetch$FluxConcatMapNoPrefetchSubscriber.request(FluxConcatMapNoPrefetch.java:336)\\n\\tat reactor.core.publisher.FluxContextWrite$ContextWriteSubscriber.request(FluxContextWrite.java:136)\\n\\tat reactor.core.publisher.Operators$DeferredSubscription.request(Operators.java:1717)\\n\\tat reactor.core.publisher.FluxRetryWhen$RetryWhenMainSubscriber.onError(FluxRetryWhen.java:192)\\n\\tat reactor.core.publisher.MonoFlatMap$FlatMapMain.secondError(MonoFlatMap.java:241)\\n\\tat reactor.core.publisher.MonoFlatMap$FlatMapInner.onError(MonoFlatMap.java:315)\\n\\tat reactor.netty.transport.TransportConnector$MonoChannelPromise.tryFailure(TransportConnector.java:576)\\n\\tat reactor.netty.transport.TransportConnector$MonoChannelPromise.setFailure(TransportConnector.java:522)\\n\\tat reactor.netty.transport.TransportConnector.lambda$doConnect$7(TransportConnector.java:261)\\n\\tat io.netty.util.concurrent.DefaultPromise.notifyListener0(DefaultPromise.java:590)\\n\\tat io.netty.util.concurrent.DefaultPromise.notifyListeners0(DefaultPromise.java:583)\\n\\tat io.netty.util.concurrent.DefaultPromise.notifyListenersNow(DefaultPromise.java:559)\\n\\tat io.netty.util.concurrent.DefaultPromise.notifyListeners(DefaultPromise.java:492)\\n\\tat io.netty.util.concurrent.DefaultPromise.setValue0(DefaultPromise.java:636)\\n\\tat io.netty.util.concurrent.DefaultPromise.setFailure0(DefaultPromise.java:629)\\n\\tat io.netty.util.concurrent.DefaultPromise.tryFailure(DefaultPromise.java:118)\\n\\tat io.netty.channel.epoll.AbstractEpollChannel$AbstractEpollUnsafe.fulfillConnectPromise(AbstractEpollChannel.java:674)\\n\\tat io.netty.channel.epoll.AbstractEpollChannel$AbstractEpollUnsafe.finishConnect(AbstractEpollChannel.java:693)\\n\\tat io.netty.channel.epoll.AbstractEpollChannel$AbstractEpollUnsafe.epollOutReady(AbstractEpollChannel.java:567)\\n\\tat io.netty.channel.epoll.EpollEventLoop.processReady(EpollEventLoop.java:499)\\n\\tat io.netty.channel.epoll.EpollEventLoop.run(EpollEventLoop.java:407)\\n\\tat io.netty.util.concurrent.SingleThreadEventExecutor$4.run(SingleThreadEventExecutor.java:997)\\n\\tat io.netty.util.internal.ThreadExecutorMap$2.run(ThreadExecutorMap.java:74)\\n\\tat io.netty.util.concurrent.FastThreadLocalRunnable.run(FastThreadLocalRunnable.java:30)\\n\\tat java.base/java.lang.Thread.run(Thread.java:840)\\n\\tSuppressed: org.springframework.web.reactive.function.client.WebClientRequestException: finishConnect(..) failed: Connection refused: localhost/[0:0:0:0:0:0:0:1]:7878\\n\\t\\tat org.springframework.web.reactive.function.client.ExchangeFunctions$DefaultExchangeFunction.lambda$wrapException$9(ExchangeFunctions.java:136)\\n\\t\\tSuppressed: The stacktrace has been enhanced by Reactor, refer to additional information below: \\nError has been observed at the following site(s):\\n\\t*__checkpoint ⇢ Request to GET http://localhost:7878/api/v1/nodes [DefaultWebClient]\\nOriginal Stack Trace:\\n\\t\\t\\tat org.springframework.web.reactive.function.client.ExchangeFunctions$DefaultExchangeFunction.lambda$wrapException$9(ExchangeFunctions.java:136)\\n\\t\\t\\tat reactor.core.publisher.MonoErrorSupplied.subscribe(MonoErrorSupplied.java:55)\\n\\t\\t\\tat reactor.core.publisher.Mono.subscribe(Mono.java:4495)\\n\\t\\t\\tat reactor.core.publisher.FluxOnErrorResume$ResumeSubscriber.onError(FluxOnErrorResume.java:103)\\n\\t\\t\\tat reactor.core.publisher.FluxPeek$PeekSubscriber.onError(FluxPeek.java:222)\\n\\t\\t\\tat reactor.core.publisher.FluxPeek$PeekSubscriber.onError(FluxPeek.java:222)\\n\\t\\t\\tat reactor.core.publisher.FluxPeek$PeekSubscriber.onError(FluxPeek.java:222)\\n\\t\\t\\tat reactor.core.publisher.MonoNext$NextSubscriber.onError(MonoNext.java:93)\\n\\t\\t\\tat reactor.core.publisher.MonoFlatMapMany$FlatMapManyMain.onError(MonoFlatMapMany.java:204)\\n\\t\\t\\tat reactor.core.publisher.SerializedSubscriber.onError(SerializedSubscriber.java:124)\\n\\t\\t\\tat reactor.core.publisher.FluxRetryWhen$RetryWhenMainSubscriber.whenError(FluxRetryWhen.java:225)\\n\\t\\t\\tat reactor.core.publisher.FluxRetryWhen$RetryWhenOtherSubscriber.onError(FluxRetryWhen.java:274)\\n\\t\\t\\tat reactor.core.publisher.FluxContextWrite$ContextWriteSubscriber.onError(FluxContextWrite.java:121)\\n\\t\\t\\tat reactor.core.publisher.FluxConcatMapNoPrefetch$FluxConcatMapNoPrefetchSubscriber.maybeOnError(FluxConcatMapNoPrefetch.java:326)\\n\\t\\t\\tat reactor.core.publisher.FluxConcatMapNoPrefetch$FluxConcatMapNoPrefetchSubscriber.onNext(FluxConcatMapNoPrefetch.java:211)\\n\\t\\t\\tat reactor.core.publisher.FluxContextWrite$ContextWriteSubscriber.onNext(FluxContextWrite.java:107)\\n\\t\\t\\tat reactor.core.publisher.SinkManyEmitterProcessor.drain(SinkManyEmitterProcessor.java:471)\\n\\t\\t\\tat reactor.core.publisher.SinkManyEmitterProcessor$EmitterInner.drainParent(SinkManyEmitterProcessor.java:615)\\n\\t\\t\\tat reactor.core.publisher.FluxPublish$PubSubInner.request(FluxPublish.java:871)\\n\\t\\t\\tat reactor.core.publisher.FluxContextWrite$ContextWriteSubscriber.request(FluxContextWrite.java:136)\\n\\t\\t\\tat reactor.core.publisher.FluxConcatMapNoPrefetch$FluxConcatMapNoPrefetchSubscriber.request(FluxConcatMapNoPrefetch.java:336)\\n\\t\\t\\tat reactor.core.publisher.FluxContextWrite$ContextWriteSubscriber.request(FluxContextWrite.java:136)\\n\\t\\t\\tat reactor.core.publisher.Operators$DeferredSubscription.request(Operators.java:1717)\\n\\t\\t\\tat reactor.core.publisher.FluxRetryWhen$RetryWhenMainSubscriber.onError(FluxRetryWhen.java:192)\\n\\t\\t\\tat reactor.core.publisher.MonoCreate$DefaultMonoSink.error(MonoCreate.java:201)\\n\\t\\t\\tat reactor.netty.http.client.HttpClientConnect$MonoHttpConnect$ClientTransportSubscriber.onError(HttpClientConnect.java:311)\\n\\t\\t\\tat reactor.core.publisher.MonoCreate$DefaultMonoSink.error(MonoCreate.java:201)\\n\\t\\t\\tat reactor.netty.resources.DefaultPooledConnectionProvider$DisposableAcquire.onError(DefaultPooledConnectionProvider.java:162)\\n\\t\\t\\tat reactor.netty.internal.shaded.reactor.pool.AbstractPool$Borrower.fail(AbstractPool.java:475)\\n\\t\\t\\tat reactor.netty.internal.shaded.reactor.pool.SimpleDequePool.lambda$drainLoop$9(SimpleDequePool.java:433)\\n\\t\\t\\tat reactor.core.publisher.FluxDoOnEach$DoOnEachSubscriber.onError(FluxDoOnEach.java:186)\\n\\t\\t\\tat reactor.core.publisher.MonoCreate$DefaultMonoSink.error(MonoCreate.java:201)\\n\\t\\t\\tat reactor.netty.resources.DefaultPooledConnectionProvider$PooledConnectionAllocator$PooledConnectionInitializer.onError(DefaultPooledConnectionProvider.java:560)\\n\\t\\t\\tat reactor.core.publisher.MonoFlatMap$FlatMapMain.secondError(MonoFlatMap.java:241)\\n\\t\\t\\tat reactor.core.publisher.MonoFlatMap$FlatMapInner.onError(MonoFlatMap.java:315)\\n\\t\\t\\tat reactor.core.publisher.FluxOnErrorResume$ResumeSubscriber.onError(FluxOnErrorResume.java:106)\\n\\t\\t\\tat reactor.core.publisher.SerializedSubscriber.onError(SerializedSubscriber.java:124)\\n\\t\\t\\tat reactor.core.publisher.FluxRetryWhen$RetryWhenMainSubscriber.whenError(FluxRetryWhen.java:225)\\n\\t\\t\\tat reactor.core.publisher.FluxRetryWhen$RetryWhenOtherSubscriber.onError(FluxRetryWhen.java:274)\\n\\t\\t\\tat reactor.core.publisher.FluxContextWrite$ContextWriteSubscriber.onError(FluxContextWrite.java:121)\\n\\t\\t\\tat reactor.core.publisher.FluxConcatMapNoPrefetch$FluxConcatMapNoPrefetchSubscriber.maybeOnError(FluxConcatMapNoPrefetch.java:326)\\n\\t\\t\\tat reactor.core.publisher.FluxConcatMapNoPrefetch$FluxConcatMapNoPrefetchSubscriber.onNext(FluxConcatMapNoPrefetch.java:211)\\n\\t\\t\\tat reactor.core.publisher.FluxContextWrite$ContextWriteSubscriber.onNext(FluxContextWrite.java:107)\\n\\t\\t\\tat reactor.core.publisher.SinkManyEmitterProcessor.drain(SinkManyEmitterProcessor.java:471)\\n\\t\\t\\tat reactor.core.publisher.SinkManyEmitterProcessor$EmitterInner.drainParent(SinkManyEmitterProcessor.java:615)\\n\\t\\t\\tat reactor.core.publisher.FluxPublish$PubSubInner.request(FluxPublish.java:871)\\n\\t\\t\\tat reactor.core.publisher.FluxContextWrite$ContextWriteSubscriber.request(FluxContextWrite.java:136)\\n\\t\\t\\tat reactor.core.publisher.FluxConcatMapNoPrefetch$FluxConcatMapNoPrefetchSubscriber.request(FluxConcatMapNoPrefetch.java:336)\\n\\t\\t\\tat reactor.core.publisher.FluxContextWrite$ContextWriteSubscriber.request(FluxContextWrite.java:136)\\n\\t\\t\\tat reactor.core.publisher.Operators$DeferredSubscription.request(Operators.java:1717)\\n\\t\\t\\tat reactor.core.publisher.FluxRetryWhen$RetryWhenMainSubscriber.onError(FluxRetryWhen.java:192)\\n\\t\\t\\tat reactor.core.publisher.MonoFlatMap$FlatMapMain.secondError(MonoFlatMap.java:241)\\n\\t\\t\\tat reactor.core.publisher.MonoFlatMap$FlatMapInner.onError(MonoFlatMap.java:315)\\n\\t\\t\\tat reactor.netty.transport.TransportConnector$MonoChannelPromise.tryFailure(TransportConnector.java:576)\\n\\t\\t\\tat reactor.netty.transport.TransportConnector$MonoChannelPromise.setFailure(TransportConnector.java:522)\\n\\t\\t\\tat reactor.netty.transport.TransportConnector.lambda$doConnect$7(TransportConnector.java:261)\\n\\t\\t\\tat io.netty.util.concurrent.DefaultPromise.notifyListener0(DefaultPromise.java:590)\\n\\t\\t\\tat io.netty.util.concurrent.DefaultPromise.notifyListeners0(DefaultPromise.java:583)\\n\\t\\t\\tat io.netty.util.concurrent.DefaultPromise.notifyListenersNow(DefaultPromise.java:559)\\n\\t\\t\\tat io.netty.util.concurrent.DefaultPromise.notifyListeners(DefaultPromise.java:492)\\n\\t\\t\\tat io.netty.util.concurrent.DefaultPromise.setValue0(DefaultPromise.java:636)\\n\\t\\t\\tat io.netty.util.concurrent.DefaultPromise.setFailure0(DefaultPromise.java:629)\\n\\t\\t\\tat io.netty.util.concurrent.DefaultPromise.tryFailure(DefaultPromise.java:118)\\n\\t\\t\\tat io.netty.channel.epoll.AbstractEpollChannel$AbstractEpollUnsafe.fulfillConnectPromise(AbstractEpollChannel.java:674)\\n\\t\\t\\tat io.netty.channel.epoll.AbstractEpollChannel$AbstractEpollUnsafe.finishConnect(AbstractEpollChannel.java:693)\\n\\t\\t\\tat io.netty.channel.epoll.AbstractEpollChannel$AbstractEpollUnsafe.epollOutReady(AbstractEpollChannel.java:567)\\n\\t\\t\\tat io.netty.channel.epoll.EpollEventLoop.processReady(EpollEventLoop.java:499)\\n\\t\\t\\tat io.netty.channel.epoll.EpollEventLoop.run(EpollEventLoop.java:407)\\n\\t\\t\\tat io.netty.util.concurrent.SingleThreadEventExecutor$4.run(SingleThreadEventExecutor.java:997)\\n\\t\\t\\tat io.netty.util.internal.ThreadExecutorMap$2.run(ThreadExecutorMap.java:74)\\n\\t\\t\\tat io.netty.util.concurrent.FastThreadLocalRunnable.run(FastThreadLocalRunnable.java:30)\\n\\t\\t\\tat java.base/java.lang.Thread.run(Thread.java:840)\\n\\tCaused by: io.netty.channel.AbstractChannel$AnnotatedConnectException: finishConnect(..) failed: Connection refused: localhost/[0:0:0:0:0:0:0:1]:7878\\n\\tCaused by: java.net.ConnectException: finishConnect(..) failed: Connection refused\\n\\t\\tat io.netty.channel.unix.Errors.newConnectException0(Errors.java:166)\\n\\t\\tat io.netty.channel.unix.Errors.handleConnectErrno(Errors.java:131)\\n\\t\\tat io.netty.channel.unix.Socket.finishConnect(Socket.java:359)\\n\\t\\tat io.netty.channel.epoll.AbstractEpollChannel$AbstractEpollUnsafe.doFinishConnect(AbstractEpollChannel.java:710)\\n\\t\\tat io.netty.channel.epoll.AbstractEpollChannel$AbstractEpollUnsafe.finishConnect(AbstractEpollChannel.java:687)\\n\\t\\tat io.netty.channel.epoll.AbstractEpollChannel$AbstractEpollUnsafe.epollOutReady(AbstractEpollChannel.java:567)\\n\\t\\tat io.netty.channel.epoll.EpollEventLoop.processReady(EpollEventLoop.java:499)\\n\\t\\tat io.netty.channel.epoll.EpollEventLoop.run(EpollEventLoop.java:407)\\n\\t\\tat io.netty.util.concurrent.SingleThreadEventExecutor$4.run(SingleThreadEventExecutor.java:997)\\n\\t\\tat io.netty.util.internal.ThreadExecutorMap$2.run(ThreadExecutorMap.java:74)\\n\\t\\tat io.netty.util.concurrent.FastThreadLocalRunnable.run(FastThreadLocalRunnable.java:30)\\n\\t\\tat java.base/java.lang.Thread.run(Thread.java:840)\\n\\tSuppressed: java.lang.Exception: #block terminated with an error\\n\\t\\tat reactor.core.publisher.BlockingSingleSubscriber.blockingGet(BlockingSingleSubscriber.java:103)\\n\\t\\tat reactor.core.publisher.Mono.block(Mono.java:1712)\\n\\t\\tat dev.pulceo.prm.api.PrmApi.getAllNodes(PrmApi.java:110)\\n\\t\\tat dev.pulceo.prm.api.PnaApi.resetAllPna(PnaApi.java:64)\\n\\t\\tat dev.pulceo.prm.service.OrchestrationService.reset(OrchestrationService.java:256)\\n\\t\\tat java.base/jdk.internal.reflect.NativeMethodAccessorImpl.invoke0(Native Method)\\n\\t\\tat java.base/jdk.internal.reflect.NativeMethodAccessorImpl.invoke(NativeMethodAccessorImpl.java:77)\\n\\t\\tat java.base/jdk.internal.reflect.DelegatingMethodAccessorImpl.invoke(DelegatingMethodAccessorImpl.java:43)\\n\\t\\tat java.base/java.lang.reflect.Method.invoke(Method.java:569)\\n\\t\\tat org.springframework.aop.support.AopUtils.invokeJoinpointUsingReflection(AopUtils.java:343)\\n\\t\\tat org.springframework.aop.framework.CglibAopProxy$DynamicAdvisedInterceptor.intercept(CglibAopProxy.java:699)\\n\\t\\tat dev.pulceo.prm.service.OrchestrationService$$SpringCGLIB$$0.reset(<generated>)\\n\\t\\tat dev.pulceo.prm.controller.OrchestrationContextController.deleteOrchestrationContext(OrchestrationContextController.java:48)\\n\\t\\tat java.base/jdk.internal.reflect.NativeMethodAccessorImpl.invoke0(Native Method)\\n\\t\\tat java.base/jdk.internal.reflect.NativeMethodAccessorImpl.invoke(NativeMethodAccessorImpl.java:77)\\n\\t\\tat java.base/jdk.internal.reflect.DelegatingMethodAccessorImpl.invoke(DelegatingMethodAccessorImpl.java:43)\\n\\t\\tat java.base/java.lang.reflect.Method.invoke(Method.java:569)\\n\\t\\tat org.springframework.web.method.support.InvocableHandlerMethod.doInvoke(InvocableHandlerMethod.java:205)\\n\\t\\tat org.springframework.web.method.support.InvocableHandlerMethod.invokeForRequest(InvocableHandlerMethod.java:150)\\n\\t\\tat org.springframework.web.servlet.mvc.method.annotation.ServletInvocableHandlerMethod.invokeAndHandle(ServletInvocableHandlerMethod.java:118)\\n\\t\\tat org.springframework.web.servlet.mvc.method.annotation.RequestMappingHandlerAdapter.invokeHandlerMethod(RequestMappingHandlerAdapter.java:884)\\n\\t\\tat org.springframework.web.servlet.mvc.method.annotation.RequestMappingHandlerAdapter.handleInternal(RequestMappingHandlerAdapter.java:797)\\n\\t\\tat org.springframework.web.servlet.mvc.method.AbstractHandlerMethodAdapter.handle(AbstractHandlerMethodAdapter.java:87)\\n\\t\\tat org.springframework.web.servlet.DispatcherServlet.doDispatch(DispatcherServlet.java:1081)\\n\\t\\tat org.springframework.web.servlet.DispatcherServlet.doService(DispatcherServlet.java:974)\\n\\t\\tat org.springframework.web.servlet.FrameworkServlet.processRequest(FrameworkServlet.java:1011)\\n\\t\\tat org.springframework.web.servlet.FrameworkServlet.doPost(FrameworkServlet.java:914)\\n\\t\\tat jakarta.servlet.http.HttpServlet.service(HttpServlet.java:590)\\n\\t\\tat org.springframework.web.servlet.FrameworkServlet.service(FrameworkServlet.java:885)\\n\\t\\tat jakarta.servlet.http.HttpServlet.service(HttpServlet.java:658)\\n\\t\\tat org.apache.catalina.core.ApplicationFilterChain.internalDoFilter(ApplicationFilterChain.java:205)\\n\\t\\tat org.apache.catalina.core.ApplicationFilterChain.doFilter(ApplicationFilterChain.java:149)\\n\\t\\tat org.apache.tomcat.websocket.server.WsFilter.doFilter(WsFilter.java:51)\\n\\t\\tat org.apache.catalina.core.ApplicationFilterChain.internalDoFilter(ApplicationFilterChain.java:174)\\n\\t\\tat org.apache.catalina.core.ApplicationFilterChain.doFilter(ApplicationFilterChain.java:149)\\n\\t\\tat org.springframework.web.filter.RequestContextFilter.doFilterInternal(RequestContextFilter.java:100)\\n\\t\\tat org.springframework.web.filter.OncePerRequestFilter.doFilter(OncePerRequestFilter.java:116)\\n\\t\\tat org.apache.catalina.core.ApplicationFilterChain.internalDoFilter(ApplicationFilterChain.java:174)\\n\\t\\tat org.apache.catalina.core.ApplicationFilterChain.doFilter(ApplicationFilterChain.java:149)\\n\\t\\tat org.springframework.web.filter.FormContentFilter.doFilterInternal(FormContentFilter.java:93)\\n\\t\\tat org.springframework.web.filter.OncePerRequestFilter.doFilter(OncePerRequestFilter.java:116)\\n\\t\\tat org.apache.catalina.core.ApplicationFilterChain.internalDoFilter(ApplicationFilterChain.java:174)\\n\\t\\tat org.apache.catalina.core.ApplicationFilterChain.doFilter(ApplicationFilterChain.java:149)\\n\\t\\tat org.springframework.web.filter.CharacterEncodingFilter.doFilterInternal(CharacterEncodingFilter.java:201)\\n\\t\\tat org.springframework.web.filter.OncePerRequestFilter.doFilter(OncePerRequestFilter.java:116)\\n\\t\\tat org.apache.catalina.core.ApplicationFilterChain.internalDoFilter(ApplicationFilterChain.java:174)\\n\\t\\tat org.apache.catalina.core.ApplicationFilterChain.doFilter(ApplicationFilterChain.java:149)\\n\\t\\tat org.apache.catalina.core.StandardWrapperValve.invoke(StandardWrapperValve.java:167)\\n\\t\\tat org.apache.catalina.core.StandardContextValve.invoke(StandardContextValve.java:90)\\n\\t\\tat org.apache.catalina.authenticator.AuthenticatorBase.invoke(AuthenticatorBase.java:482)\\n\\t\\tat org.apache.catalina.core.StandardHostValve.invoke(StandardHostValve.java:115)\\n\\t\\tat org.apache.catalina.valves.ErrorReportValve.invoke(ErrorReportValve.java:93)\\n\\t\\tat org.apache.catalina.core.StandardEngineValve.invoke(StandardEngineValve.java:74)\\n\\t\\tat org.apache.catalina.connector.CoyoteAdapter.service(CoyoteAdapter.java:340)\\n\\t\\tat org.apache.coyote.http11.Http11Processor.service(Http11Processor.java:391)\\n\\t\\tat org.apache.coyote.AbstractProcessorLight.process(AbstractProcessorLight.java:63)\\n\\t\\tat org.apache.coyote.AbstractProtocol$ConnectionHandler.process(AbstractProtocol.java:896)\\n\\t\\tat org.apache.tomcat.util.net.NioEndpoint$SocketProcessor.doRun(NioEndpoint.java:1744)\\n\\t\\tat org.apache.tomcat.util.net.SocketProcessorBase.run(SocketProcessorBase.java:52)\\n\\t\\tat org.apache.tomcat.util.threads.ThreadPoolExecutor.runWorker(ThreadPoolExecutor.java:1191)\\n\\t\\tat org.apache.tomcat.util.threads.ThreadPoolExecutor$Worker.run(ThreadPoolExecutor.java:659)\\n\\t\\tat org.apache.tomcat.util.threads.TaskThread$WrappingRunnable.run(TaskThread.java:61)\\n\\t\\t... 1 more\\nCaused by: dev.pulceo.prm.api.exception.PrmApiException: Failed to get nodes from PRM\\n\\t... 85 more\\nCaused by: [CIRCULAR REFERENCE: org.springframework.web.reactive.function.client.WebClientRequestException: finishConnect(..) failed: Connection refused: localhost/[0:0:0:0:0:0:0:1]:7878]\\n\",\"message\":\"dev.pulceo.prm.api.exception.PrmApiException: Failed to get nodes from PRM\",\"path\":\"/api/v1/orchestration-context/reset\"}\n"
     ]
    },
    {
     "ename": "Exception",
     "evalue": "Failed to reset orchestration context: 500, {\"timestamp\":\"2025-08-26T14:54:15.373+00:00\",\"status\":500,\"error\":\"Internal Server Error\",\"trace\":\"java.lang.RuntimeException: dev.pulceo.prm.api.exception.PrmApiException: Failed to get nodes from PRM\\n\\tat dev.pulceo.prm.api.PrmApi.lambda$getAllNodes$2(PrmApi.java:108)\\n\\tat reactor.core.publisher.FluxOnErrorResume$ResumeSubscriber.onError(FluxOnErrorResume.java:94)\\n\\tat reactor.core.publisher.MonoCollectList$MonoCollectListSubscriber.onError(MonoCollectList.java:108)\\n\\tat reactor.core.publisher.MonoFlatMapMany$FlatMapManyMain.onError(MonoFlatMapMany.java:204)\\n\\tat reactor.core.publisher.FluxContextWrite$ContextWriteSubscriber.onError(FluxContextWrite.java:121)\\n\\tat reactor.core.publisher.FluxDoFinally$DoFinallySubscriber.onError(FluxDoFinally.java:119)\\n\\tat reactor.core.publisher.MonoPeekTerminal$MonoTerminalPeekSubscriber.onError(MonoPeekTerminal.java:258)\\n\\tat reactor.core.publisher.FluxPeekFuseable$PeekConditionalSubscriber.onError(FluxPeekFuseable.java:903)\\n\\tat reactor.core.publisher.Operators$MultiSubscriptionSubscriber.onError(Operators.java:2210)\\n\\tat reactor.core.publisher.FluxOnAssembly$OnAssemblySubscriber.onError(FluxOnAssembly.java:544)\\n\\tat reactor.core.publisher.FluxPeek$PeekSubscriber.onError(FluxPeek.java:222)\\n\\tat reactor.core.publisher.FluxMap$MapSubscriber.onError(FluxMap.java:134)\\n\\tat reactor.core.publisher.FluxOnErrorResume$ResumeSubscriber.onError(FluxOnErrorResume.java:106)\\n\\tat reactor.core.publisher.Operators.error(Operators.java:198)\\n\\tat reactor.core.publisher.MonoErrorSupplied.subscribe(MonoErrorSupplied.java:56)\\n\\tat reactor.core.publisher.Mono.subscribe(Mono.java:4495)\\n\\tat reactor.core.publisher.FluxOnErrorResume$ResumeSubscriber.onError(FluxOnErrorResume.java:103)\\n\\tat reactor.core.publisher.FluxPeek$PeekSubscriber.onError(FluxPeek.java:222)\\n\\tat reactor.core.publisher.FluxPeek$PeekSubscriber.onError(FluxPeek.java:222)\\n\\tat reactor.core.publisher.FluxPeek$PeekSubscriber.onError(FluxPeek.java:222)\\n\\tat reactor.core.publisher.MonoNext$NextSubscriber.onError(MonoNext.java:93)\\n\\tat reactor.core.publisher.MonoFlatMapMany$FlatMapManyMain.onError(MonoFlatMapMany.java:204)\\n\\tat reactor.core.publisher.SerializedSubscriber.onError(SerializedSubscriber.java:124)\\n\\tat reactor.core.publisher.FluxRetryWhen$RetryWhenMainSubscriber.whenError(FluxRetryWhen.java:225)\\n\\tat reactor.core.publisher.FluxRetryWhen$RetryWhenOtherSubscriber.onError(FluxRetryWhen.java:274)\\n\\tat reactor.core.publisher.FluxContextWrite$ContextWriteSubscriber.onError(FluxContextWrite.java:121)\\n\\tat reactor.core.publisher.FluxConcatMapNoPrefetch$FluxConcatMapNoPrefetchSubscriber.maybeOnError(FluxConcatMapNoPrefetch.java:326)\\n\\tat reactor.core.publisher.FluxConcatMapNoPrefetch$FluxConcatMapNoPrefetchSubscriber.onNext(FluxConcatMapNoPrefetch.java:211)\\n\\tat reactor.core.publisher.FluxContextWrite$ContextWriteSubscriber.onNext(FluxContextWrite.java:107)\\n\\tat reactor.core.publisher.SinkManyEmitterProcessor.drain(SinkManyEmitterProcessor.java:471)\\n\\tat reactor.core.publisher.SinkManyEmitterProcessor$EmitterInner.drainParent(SinkManyEmitterProcessor.java:615)\\n\\tat reactor.core.publisher.FluxPublish$PubSubInner.request(FluxPublish.java:871)\\n\\tat reactor.core.publisher.FluxContextWrite$ContextWriteSubscriber.request(FluxContextWrite.java:136)\\n\\tat reactor.core.publisher.FluxConcatMapNoPrefetch$FluxConcatMapNoPrefetchSubscriber.request(FluxConcatMapNoPrefetch.java:336)\\n\\tat reactor.core.publisher.FluxContextWrite$ContextWriteSubscriber.request(FluxContextWrite.java:136)\\n\\tat reactor.core.publisher.Operators$DeferredSubscription.request(Operators.java:1717)\\n\\tat reactor.core.publisher.FluxRetryWhen$RetryWhenMainSubscriber.onError(FluxRetryWhen.java:192)\\n\\tat reactor.core.publisher.MonoCreate$DefaultMonoSink.error(MonoCreate.java:201)\\n\\tat reactor.netty.http.client.HttpClientConnect$MonoHttpConnect$ClientTransportSubscriber.onError(HttpClientConnect.java:311)\\n\\tat reactor.core.publisher.MonoCreate$DefaultMonoSink.error(MonoCreate.java:201)\\n\\tat reactor.netty.resources.DefaultPooledConnectionProvider$DisposableAcquire.onError(DefaultPooledConnectionProvider.java:162)\\n\\tat reactor.netty.internal.shaded.reactor.pool.AbstractPool$Borrower.fail(AbstractPool.java:475)\\n\\tat reactor.netty.internal.shaded.reactor.pool.SimpleDequePool.lambda$drainLoop$9(SimpleDequePool.java:433)\\n\\tat reactor.core.publisher.FluxDoOnEach$DoOnEachSubscriber.onError(FluxDoOnEach.java:186)\\n\\tat reactor.core.publisher.MonoCreate$DefaultMonoSink.error(MonoCreate.java:201)\\n\\tat reactor.netty.resources.DefaultPooledConnectionProvider$PooledConnectionAllocator$PooledConnectionInitializer.onError(DefaultPooledConnectionProvider.java:560)\\n\\tat reactor.core.publisher.MonoFlatMap$FlatMapMain.secondError(MonoFlatMap.java:241)\\n\\tat reactor.core.publisher.MonoFlatMap$FlatMapInner.onError(MonoFlatMap.java:315)\\n\\tat reactor.core.publisher.FluxOnErrorResume$ResumeSubscriber.onError(FluxOnErrorResume.java:106)\\n\\tat reactor.core.publisher.SerializedSubscriber.onError(SerializedSubscriber.java:124)\\n\\tat reactor.core.publisher.FluxRetryWhen$RetryWhenMainSubscriber.whenError(FluxRetryWhen.java:225)\\n\\tat reactor.core.publisher.FluxRetryWhen$RetryWhenOtherSubscriber.onError(FluxRetryWhen.java:274)\\n\\tat reactor.core.publisher.FluxContextWrite$ContextWriteSubscriber.onError(FluxContextWrite.java:121)\\n\\tat reactor.core.publisher.FluxConcatMapNoPrefetch$FluxConcatMapNoPrefetchSubscriber.maybeOnError(FluxConcatMapNoPrefetch.java:326)\\n\\tat reactor.core.publisher.FluxConcatMapNoPrefetch$FluxConcatMapNoPrefetchSubscriber.onNext(FluxConcatMapNoPrefetch.java:211)\\n\\tat reactor.core.publisher.FluxContextWrite$ContextWriteSubscriber.onNext(FluxContextWrite.java:107)\\n\\tat reactor.core.publisher.SinkManyEmitterProcessor.drain(SinkManyEmitterProcessor.java:471)\\n\\tat reactor.core.publisher.SinkManyEmitterProcessor$EmitterInner.drainParent(SinkManyEmitterProcessor.java:615)\\n\\tat reactor.core.publisher.FluxPublish$PubSubInner.request(FluxPublish.java:871)\\n\\tat reactor.core.publisher.FluxContextWrite$ContextWriteSubscriber.request(FluxContextWrite.java:136)\\n\\tat reactor.core.publisher.FluxConcatMapNoPrefetch$FluxConcatMapNoPrefetchSubscriber.request(FluxConcatMapNoPrefetch.java:336)\\n\\tat reactor.core.publisher.FluxContextWrite$ContextWriteSubscriber.request(FluxContextWrite.java:136)\\n\\tat reactor.core.publisher.Operators$DeferredSubscription.request(Operators.java:1717)\\n\\tat reactor.core.publisher.FluxRetryWhen$RetryWhenMainSubscriber.onError(FluxRetryWhen.java:192)\\n\\tat reactor.core.publisher.MonoFlatMap$FlatMapMain.secondError(MonoFlatMap.java:241)\\n\\tat reactor.core.publisher.MonoFlatMap$FlatMapInner.onError(MonoFlatMap.java:315)\\n\\tat reactor.netty.transport.TransportConnector$MonoChannelPromise.tryFailure(TransportConnector.java:576)\\n\\tat reactor.netty.transport.TransportConnector$MonoChannelPromise.setFailure(TransportConnector.java:522)\\n\\tat reactor.netty.transport.TransportConnector.lambda$doConnect$7(TransportConnector.java:261)\\n\\tat io.netty.util.concurrent.DefaultPromise.notifyListener0(DefaultPromise.java:590)\\n\\tat io.netty.util.concurrent.DefaultPromise.notifyListeners0(DefaultPromise.java:583)\\n\\tat io.netty.util.concurrent.DefaultPromise.notifyListenersNow(DefaultPromise.java:559)\\n\\tat io.netty.util.concurrent.DefaultPromise.notifyListeners(DefaultPromise.java:492)\\n\\tat io.netty.util.concurrent.DefaultPromise.setValue0(DefaultPromise.java:636)\\n\\tat io.netty.util.concurrent.DefaultPromise.setFailure0(DefaultPromise.java:629)\\n\\tat io.netty.util.concurrent.DefaultPromise.tryFailure(DefaultPromise.java:118)\\n\\tat io.netty.channel.epoll.AbstractEpollChannel$AbstractEpollUnsafe.fulfillConnectPromise(AbstractEpollChannel.java:674)\\n\\tat io.netty.channel.epoll.AbstractEpollChannel$AbstractEpollUnsafe.finishConnect(AbstractEpollChannel.java:693)\\n\\tat io.netty.channel.epoll.AbstractEpollChannel$AbstractEpollUnsafe.epollOutReady(AbstractEpollChannel.java:567)\\n\\tat io.netty.channel.epoll.EpollEventLoop.processReady(EpollEventLoop.java:499)\\n\\tat io.netty.channel.epoll.EpollEventLoop.run(EpollEventLoop.java:407)\\n\\tat io.netty.util.concurrent.SingleThreadEventExecutor$4.run(SingleThreadEventExecutor.java:997)\\n\\tat io.netty.util.internal.ThreadExecutorMap$2.run(ThreadExecutorMap.java:74)\\n\\tat io.netty.util.concurrent.FastThreadLocalRunnable.run(FastThreadLocalRunnable.java:30)\\n\\tat java.base/java.lang.Thread.run(Thread.java:840)\\n\\tSuppressed: org.springframework.web.reactive.function.client.WebClientRequestException: finishConnect(..) failed: Connection refused: localhost/[0:0:0:0:0:0:0:1]:7878\\n\\t\\tat org.springframework.web.reactive.function.client.ExchangeFunctions$DefaultExchangeFunction.lambda$wrapException$9(ExchangeFunctions.java:136)\\n\\t\\tSuppressed: The stacktrace has been enhanced by Reactor, refer to additional information below: \\nError has been observed at the following site(s):\\n\\t*__checkpoint ⇢ Request to GET http://localhost:7878/api/v1/nodes [DefaultWebClient]\\nOriginal Stack Trace:\\n\\t\\t\\tat org.springframework.web.reactive.function.client.ExchangeFunctions$DefaultExchangeFunction.lambda$wrapException$9(ExchangeFunctions.java:136)\\n\\t\\t\\tat reactor.core.publisher.MonoErrorSupplied.subscribe(MonoErrorSupplied.java:55)\\n\\t\\t\\tat reactor.core.publisher.Mono.subscribe(Mono.java:4495)\\n\\t\\t\\tat reactor.core.publisher.FluxOnErrorResume$ResumeSubscriber.onError(FluxOnErrorResume.java:103)\\n\\t\\t\\tat reactor.core.publisher.FluxPeek$PeekSubscriber.onError(FluxPeek.java:222)\\n\\t\\t\\tat reactor.core.publisher.FluxPeek$PeekSubscriber.onError(FluxPeek.java:222)\\n\\t\\t\\tat reactor.core.publisher.FluxPeek$PeekSubscriber.onError(FluxPeek.java:222)\\n\\t\\t\\tat reactor.core.publisher.MonoNext$NextSubscriber.onError(MonoNext.java:93)\\n\\t\\t\\tat reactor.core.publisher.MonoFlatMapMany$FlatMapManyMain.onError(MonoFlatMapMany.java:204)\\n\\t\\t\\tat reactor.core.publisher.SerializedSubscriber.onError(SerializedSubscriber.java:124)\\n\\t\\t\\tat reactor.core.publisher.FluxRetryWhen$RetryWhenMainSubscriber.whenError(FluxRetryWhen.java:225)\\n\\t\\t\\tat reactor.core.publisher.FluxRetryWhen$RetryWhenOtherSubscriber.onError(FluxRetryWhen.java:274)\\n\\t\\t\\tat reactor.core.publisher.FluxContextWrite$ContextWriteSubscriber.onError(FluxContextWrite.java:121)\\n\\t\\t\\tat reactor.core.publisher.FluxConcatMapNoPrefetch$FluxConcatMapNoPrefetchSubscriber.maybeOnError(FluxConcatMapNoPrefetch.java:326)\\n\\t\\t\\tat reactor.core.publisher.FluxConcatMapNoPrefetch$FluxConcatMapNoPrefetchSubscriber.onNext(FluxConcatMapNoPrefetch.java:211)\\n\\t\\t\\tat reactor.core.publisher.FluxContextWrite$ContextWriteSubscriber.onNext(FluxContextWrite.java:107)\\n\\t\\t\\tat reactor.core.publisher.SinkManyEmitterProcessor.drain(SinkManyEmitterProcessor.java:471)\\n\\t\\t\\tat reactor.core.publisher.SinkManyEmitterProcessor$EmitterInner.drainParent(SinkManyEmitterProcessor.java:615)\\n\\t\\t\\tat reactor.core.publisher.FluxPublish$PubSubInner.request(FluxPublish.java:871)\\n\\t\\t\\tat reactor.core.publisher.FluxContextWrite$ContextWriteSubscriber.request(FluxContextWrite.java:136)\\n\\t\\t\\tat reactor.core.publisher.FluxConcatMapNoPrefetch$FluxConcatMapNoPrefetchSubscriber.request(FluxConcatMapNoPrefetch.java:336)\\n\\t\\t\\tat reactor.core.publisher.FluxContextWrite$ContextWriteSubscriber.request(FluxContextWrite.java:136)\\n\\t\\t\\tat reactor.core.publisher.Operators$DeferredSubscription.request(Operators.java:1717)\\n\\t\\t\\tat reactor.core.publisher.FluxRetryWhen$RetryWhenMainSubscriber.onError(FluxRetryWhen.java:192)\\n\\t\\t\\tat reactor.core.publisher.MonoCreate$DefaultMonoSink.error(MonoCreate.java:201)\\n\\t\\t\\tat reactor.netty.http.client.HttpClientConnect$MonoHttpConnect$ClientTransportSubscriber.onError(HttpClientConnect.java:311)\\n\\t\\t\\tat reactor.core.publisher.MonoCreate$DefaultMonoSink.error(MonoCreate.java:201)\\n\\t\\t\\tat reactor.netty.resources.DefaultPooledConnectionProvider$DisposableAcquire.onError(DefaultPooledConnectionProvider.java:162)\\n\\t\\t\\tat reactor.netty.internal.shaded.reactor.pool.AbstractPool$Borrower.fail(AbstractPool.java:475)\\n\\t\\t\\tat reactor.netty.internal.shaded.reactor.pool.SimpleDequePool.lambda$drainLoop$9(SimpleDequePool.java:433)\\n\\t\\t\\tat reactor.core.publisher.FluxDoOnEach$DoOnEachSubscriber.onError(FluxDoOnEach.java:186)\\n\\t\\t\\tat reactor.core.publisher.MonoCreate$DefaultMonoSink.error(MonoCreate.java:201)\\n\\t\\t\\tat reactor.netty.resources.DefaultPooledConnectionProvider$PooledConnectionAllocator$PooledConnectionInitializer.onError(DefaultPooledConnectionProvider.java:560)\\n\\t\\t\\tat reactor.core.publisher.MonoFlatMap$FlatMapMain.secondError(MonoFlatMap.java:241)\\n\\t\\t\\tat reactor.core.publisher.MonoFlatMap$FlatMapInner.onError(MonoFlatMap.java:315)\\n\\t\\t\\tat reactor.core.publisher.FluxOnErrorResume$ResumeSubscriber.onError(FluxOnErrorResume.java:106)\\n\\t\\t\\tat reactor.core.publisher.SerializedSubscriber.onError(SerializedSubscriber.java:124)\\n\\t\\t\\tat reactor.core.publisher.FluxRetryWhen$RetryWhenMainSubscriber.whenError(FluxRetryWhen.java:225)\\n\\t\\t\\tat reactor.core.publisher.FluxRetryWhen$RetryWhenOtherSubscriber.onError(FluxRetryWhen.java:274)\\n\\t\\t\\tat reactor.core.publisher.FluxContextWrite$ContextWriteSubscriber.onError(FluxContextWrite.java:121)\\n\\t\\t\\tat reactor.core.publisher.FluxConcatMapNoPrefetch$FluxConcatMapNoPrefetchSubscriber.maybeOnError(FluxConcatMapNoPrefetch.java:326)\\n\\t\\t\\tat reactor.core.publisher.FluxConcatMapNoPrefetch$FluxConcatMapNoPrefetchSubscriber.onNext(FluxConcatMapNoPrefetch.java:211)\\n\\t\\t\\tat reactor.core.publisher.FluxContextWrite$ContextWriteSubscriber.onNext(FluxContextWrite.java:107)\\n\\t\\t\\tat reactor.core.publisher.SinkManyEmitterProcessor.drain(SinkManyEmitterProcessor.java:471)\\n\\t\\t\\tat reactor.core.publisher.SinkManyEmitterProcessor$EmitterInner.drainParent(SinkManyEmitterProcessor.java:615)\\n\\t\\t\\tat reactor.core.publisher.FluxPublish$PubSubInner.request(FluxPublish.java:871)\\n\\t\\t\\tat reactor.core.publisher.FluxContextWrite$ContextWriteSubscriber.request(FluxContextWrite.java:136)\\n\\t\\t\\tat reactor.core.publisher.FluxConcatMapNoPrefetch$FluxConcatMapNoPrefetchSubscriber.request(FluxConcatMapNoPrefetch.java:336)\\n\\t\\t\\tat reactor.core.publisher.FluxContextWrite$ContextWriteSubscriber.request(FluxContextWrite.java:136)\\n\\t\\t\\tat reactor.core.publisher.Operators$DeferredSubscription.request(Operators.java:1717)\\n\\t\\t\\tat reactor.core.publisher.FluxRetryWhen$RetryWhenMainSubscriber.onError(FluxRetryWhen.java:192)\\n\\t\\t\\tat reactor.core.publisher.MonoFlatMap$FlatMapMain.secondError(MonoFlatMap.java:241)\\n\\t\\t\\tat reactor.core.publisher.MonoFlatMap$FlatMapInner.onError(MonoFlatMap.java:315)\\n\\t\\t\\tat reactor.netty.transport.TransportConnector$MonoChannelPromise.tryFailure(TransportConnector.java:576)\\n\\t\\t\\tat reactor.netty.transport.TransportConnector$MonoChannelPromise.setFailure(TransportConnector.java:522)\\n\\t\\t\\tat reactor.netty.transport.TransportConnector.lambda$doConnect$7(TransportConnector.java:261)\\n\\t\\t\\tat io.netty.util.concurrent.DefaultPromise.notifyListener0(DefaultPromise.java:590)\\n\\t\\t\\tat io.netty.util.concurrent.DefaultPromise.notifyListeners0(DefaultPromise.java:583)\\n\\t\\t\\tat io.netty.util.concurrent.DefaultPromise.notifyListenersNow(DefaultPromise.java:559)\\n\\t\\t\\tat io.netty.util.concurrent.DefaultPromise.notifyListeners(DefaultPromise.java:492)\\n\\t\\t\\tat io.netty.util.concurrent.DefaultPromise.setValue0(DefaultPromise.java:636)\\n\\t\\t\\tat io.netty.util.concurrent.DefaultPromise.setFailure0(DefaultPromise.java:629)\\n\\t\\t\\tat io.netty.util.concurrent.DefaultPromise.tryFailure(DefaultPromise.java:118)\\n\\t\\t\\tat io.netty.channel.epoll.AbstractEpollChannel$AbstractEpollUnsafe.fulfillConnectPromise(AbstractEpollChannel.java:674)\\n\\t\\t\\tat io.netty.channel.epoll.AbstractEpollChannel$AbstractEpollUnsafe.finishConnect(AbstractEpollChannel.java:693)\\n\\t\\t\\tat io.netty.channel.epoll.AbstractEpollChannel$AbstractEpollUnsafe.epollOutReady(AbstractEpollChannel.java:567)\\n\\t\\t\\tat io.netty.channel.epoll.EpollEventLoop.processReady(EpollEventLoop.java:499)\\n\\t\\t\\tat io.netty.channel.epoll.EpollEventLoop.run(EpollEventLoop.java:407)\\n\\t\\t\\tat io.netty.util.concurrent.SingleThreadEventExecutor$4.run(SingleThreadEventExecutor.java:997)\\n\\t\\t\\tat io.netty.util.internal.ThreadExecutorMap$2.run(ThreadExecutorMap.java:74)\\n\\t\\t\\tat io.netty.util.concurrent.FastThreadLocalRunnable.run(FastThreadLocalRunnable.java:30)\\n\\t\\t\\tat java.base/java.lang.Thread.run(Thread.java:840)\\n\\tCaused by: io.netty.channel.AbstractChannel$AnnotatedConnectException: finishConnect(..) failed: Connection refused: localhost/[0:0:0:0:0:0:0:1]:7878\\n\\tCaused by: java.net.ConnectException: finishConnect(..) failed: Connection refused\\n\\t\\tat io.netty.channel.unix.Errors.newConnectException0(Errors.java:166)\\n\\t\\tat io.netty.channel.unix.Errors.handleConnectErrno(Errors.java:131)\\n\\t\\tat io.netty.channel.unix.Socket.finishConnect(Socket.java:359)\\n\\t\\tat io.netty.channel.epoll.AbstractEpollChannel$AbstractEpollUnsafe.doFinishConnect(AbstractEpollChannel.java:710)\\n\\t\\tat io.netty.channel.epoll.AbstractEpollChannel$AbstractEpollUnsafe.finishConnect(AbstractEpollChannel.java:687)\\n\\t\\tat io.netty.channel.epoll.AbstractEpollChannel$AbstractEpollUnsafe.epollOutReady(AbstractEpollChannel.java:567)\\n\\t\\tat io.netty.channel.epoll.EpollEventLoop.processReady(EpollEventLoop.java:499)\\n\\t\\tat io.netty.channel.epoll.EpollEventLoop.run(EpollEventLoop.java:407)\\n\\t\\tat io.netty.util.concurrent.SingleThreadEventExecutor$4.run(SingleThreadEventExecutor.java:997)\\n\\t\\tat io.netty.util.internal.ThreadExecutorMap$2.run(ThreadExecutorMap.java:74)\\n\\t\\tat io.netty.util.concurrent.FastThreadLocalRunnable.run(FastThreadLocalRunnable.java:30)\\n\\t\\tat java.base/java.lang.Thread.run(Thread.java:840)\\n\\tSuppressed: java.lang.Exception: #block terminated with an error\\n\\t\\tat reactor.core.publisher.BlockingSingleSubscriber.blockingGet(BlockingSingleSubscriber.java:103)\\n\\t\\tat reactor.core.publisher.Mono.block(Mono.java:1712)\\n\\t\\tat dev.pulceo.prm.api.PrmApi.getAllNodes(PrmApi.java:110)\\n\\t\\tat dev.pulceo.prm.api.PnaApi.resetAllPna(PnaApi.java:64)\\n\\t\\tat dev.pulceo.prm.service.OrchestrationService.reset(OrchestrationService.java:256)\\n\\t\\tat java.base/jdk.internal.reflect.NativeMethodAccessorImpl.invoke0(Native Method)\\n\\t\\tat java.base/jdk.internal.reflect.NativeMethodAccessorImpl.invoke(NativeMethodAccessorImpl.java:77)\\n\\t\\tat java.base/jdk.internal.reflect.DelegatingMethodAccessorImpl.invoke(DelegatingMethodAccessorImpl.java:43)\\n\\t\\tat java.base/java.lang.reflect.Method.invoke(Method.java:569)\\n\\t\\tat org.springframework.aop.support.AopUtils.invokeJoinpointUsingReflection(AopUtils.java:343)\\n\\t\\tat org.springframework.aop.framework.CglibAopProxy$DynamicAdvisedInterceptor.intercept(CglibAopProxy.java:699)\\n\\t\\tat dev.pulceo.prm.service.OrchestrationService$$SpringCGLIB$$0.reset(<generated>)\\n\\t\\tat dev.pulceo.prm.controller.OrchestrationContextController.deleteOrchestrationContext(OrchestrationContextController.java:48)\\n\\t\\tat java.base/jdk.internal.reflect.NativeMethodAccessorImpl.invoke0(Native Method)\\n\\t\\tat java.base/jdk.internal.reflect.NativeMethodAccessorImpl.invoke(NativeMethodAccessorImpl.java:77)\\n\\t\\tat java.base/jdk.internal.reflect.DelegatingMethodAccessorImpl.invoke(DelegatingMethodAccessorImpl.java:43)\\n\\t\\tat java.base/java.lang.reflect.Method.invoke(Method.java:569)\\n\\t\\tat org.springframework.web.method.support.InvocableHandlerMethod.doInvoke(InvocableHandlerMethod.java:205)\\n\\t\\tat org.springframework.web.method.support.InvocableHandlerMethod.invokeForRequest(InvocableHandlerMethod.java:150)\\n\\t\\tat org.springframework.web.servlet.mvc.method.annotation.ServletInvocableHandlerMethod.invokeAndHandle(ServletInvocableHandlerMethod.java:118)\\n\\t\\tat org.springframework.web.servlet.mvc.method.annotation.RequestMappingHandlerAdapter.invokeHandlerMethod(RequestMappingHandlerAdapter.java:884)\\n\\t\\tat org.springframework.web.servlet.mvc.method.annotation.RequestMappingHandlerAdapter.handleInternal(RequestMappingHandlerAdapter.java:797)\\n\\t\\tat org.springframework.web.servlet.mvc.method.AbstractHandlerMethodAdapter.handle(AbstractHandlerMethodAdapter.java:87)\\n\\t\\tat org.springframework.web.servlet.DispatcherServlet.doDispatch(DispatcherServlet.java:1081)\\n\\t\\tat org.springframework.web.servlet.DispatcherServlet.doService(DispatcherServlet.java:974)\\n\\t\\tat org.springframework.web.servlet.FrameworkServlet.processRequest(FrameworkServlet.java:1011)\\n\\t\\tat org.springframework.web.servlet.FrameworkServlet.doPost(FrameworkServlet.java:914)\\n\\t\\tat jakarta.servlet.http.HttpServlet.service(HttpServlet.java:590)\\n\\t\\tat org.springframework.web.servlet.FrameworkServlet.service(FrameworkServlet.java:885)\\n\\t\\tat jakarta.servlet.http.HttpServlet.service(HttpServlet.java:658)\\n\\t\\tat org.apache.catalina.core.ApplicationFilterChain.internalDoFilter(ApplicationFilterChain.java:205)\\n\\t\\tat org.apache.catalina.core.ApplicationFilterChain.doFilter(ApplicationFilterChain.java:149)\\n\\t\\tat org.apache.tomcat.websocket.server.WsFilter.doFilter(WsFilter.java:51)\\n\\t\\tat org.apache.catalina.core.ApplicationFilterChain.internalDoFilter(ApplicationFilterChain.java:174)\\n\\t\\tat org.apache.catalina.core.ApplicationFilterChain.doFilter(ApplicationFilterChain.java:149)\\n\\t\\tat org.springframework.web.filter.RequestContextFilter.doFilterInternal(RequestContextFilter.java:100)\\n\\t\\tat org.springframework.web.filter.OncePerRequestFilter.doFilter(OncePerRequestFilter.java:116)\\n\\t\\tat org.apache.catalina.core.ApplicationFilterChain.internalDoFilter(ApplicationFilterChain.java:174)\\n\\t\\tat org.apache.catalina.core.ApplicationFilterChain.doFilter(ApplicationFilterChain.java:149)\\n\\t\\tat org.springframework.web.filter.FormContentFilter.doFilterInternal(FormContentFilter.java:93)\\n\\t\\tat org.springframework.web.filter.OncePerRequestFilter.doFilter(OncePerRequestFilter.java:116)\\n\\t\\tat org.apache.catalina.core.ApplicationFilterChain.internalDoFilter(ApplicationFilterChain.java:174)\\n\\t\\tat org.apache.catalina.core.ApplicationFilterChain.doFilter(ApplicationFilterChain.java:149)\\n\\t\\tat org.springframework.web.filter.CharacterEncodingFilter.doFilterInternal(CharacterEncodingFilter.java:201)\\n\\t\\tat org.springframework.web.filter.OncePerRequestFilter.doFilter(OncePerRequestFilter.java:116)\\n\\t\\tat org.apache.catalina.core.ApplicationFilterChain.internalDoFilter(ApplicationFilterChain.java:174)\\n\\t\\tat org.apache.catalina.core.ApplicationFilterChain.doFilter(ApplicationFilterChain.java:149)\\n\\t\\tat org.apache.catalina.core.StandardWrapperValve.invoke(StandardWrapperValve.java:167)\\n\\t\\tat org.apache.catalina.core.StandardContextValve.invoke(StandardContextValve.java:90)\\n\\t\\tat org.apache.catalina.authenticator.AuthenticatorBase.invoke(AuthenticatorBase.java:482)\\n\\t\\tat org.apache.catalina.core.StandardHostValve.invoke(StandardHostValve.java:115)\\n\\t\\tat org.apache.catalina.valves.ErrorReportValve.invoke(ErrorReportValve.java:93)\\n\\t\\tat org.apache.catalina.core.StandardEngineValve.invoke(StandardEngineValve.java:74)\\n\\t\\tat org.apache.catalina.connector.CoyoteAdapter.service(CoyoteAdapter.java:340)\\n\\t\\tat org.apache.coyote.http11.Http11Processor.service(Http11Processor.java:391)\\n\\t\\tat org.apache.coyote.AbstractProcessorLight.process(AbstractProcessorLight.java:63)\\n\\t\\tat org.apache.coyote.AbstractProtocol$ConnectionHandler.process(AbstractProtocol.java:896)\\n\\t\\tat org.apache.tomcat.util.net.NioEndpoint$SocketProcessor.doRun(NioEndpoint.java:1744)\\n\\t\\tat org.apache.tomcat.util.net.SocketProcessorBase.run(SocketProcessorBase.java:52)\\n\\t\\tat org.apache.tomcat.util.threads.ThreadPoolExecutor.runWorker(ThreadPoolExecutor.java:1191)\\n\\t\\tat org.apache.tomcat.util.threads.ThreadPoolExecutor$Worker.run(ThreadPoolExecutor.java:659)\\n\\t\\tat org.apache.tomcat.util.threads.TaskThread$WrappingRunnable.run(TaskThread.java:61)\\n\\t\\t... 1 more\\nCaused by: dev.pulceo.prm.api.exception.PrmApiException: Failed to get nodes from PRM\\n\\t... 85 more\\nCaused by: [CIRCULAR REFERENCE: org.springframework.web.reactive.function.client.WebClientRequestException: finishConnect(..) failed: Connection refused: localhost/[0:0:0:0:0:0:0:1]:7878]\\n\",\"message\":\"dev.pulceo.prm.api.exception.PrmApiException: Failed to get nodes from PRM\",\"path\":\"/api/v1/orchestration-context/reset\"}",
     "output_type": "error",
     "traceback": [
      "\u001b[31m---------------------------------------------------------------------------\u001b[39m",
      "\u001b[31mException\u001b[39m                                 Traceback (most recent call last)",
      "\u001b[36mCell\u001b[39m\u001b[36m \u001b[39m\u001b[32mIn[8]\u001b[39m\u001b[32m, line 2\u001b[39m\n\u001b[32m      1\u001b[39m \u001b[38;5;66;03m## reset orchestration context\u001b[39;00m\n\u001b[32m----> \u001b[39m\u001b[32m2\u001b[39m \u001b[43mpulceo_api\u001b[49m\u001b[43m.\u001b[49m\u001b[43mreset_orchestration_context\u001b[49m\u001b[43m(\u001b[49m\u001b[43m)\u001b[49m\n",
      "\u001b[36mFile \u001b[39m\u001b[32m~/git/dissertation/pulceo-misc/examples/summersoc2025/pulceo/sdk.py:79\u001b[39m, in \u001b[36mAPI.reset_orchestration_context\u001b[39m\u001b[34m(self)\u001b[39m\n\u001b[32m     77\u001b[39m \u001b[38;5;28;01melse\u001b[39;00m:\n\u001b[32m     78\u001b[39m     \u001b[38;5;28mprint\u001b[39m(\u001b[33mf\u001b[39m\u001b[33m\"\u001b[39m\u001b[33mFailed to reset orchestration context: \u001b[39m\u001b[38;5;132;01m{\u001b[39;00mresponse.status_code\u001b[38;5;132;01m}\u001b[39;00m\u001b[33m, \u001b[39m\u001b[38;5;132;01m{\u001b[39;00mresponse.text\u001b[38;5;132;01m}\u001b[39;00m\u001b[33m\"\u001b[39m)\n\u001b[32m---> \u001b[39m\u001b[32m79\u001b[39m     \u001b[38;5;28;01mraise\u001b[39;00m \u001b[38;5;167;01mException\u001b[39;00m(\u001b[33mf\u001b[39m\u001b[33m\"\u001b[39m\u001b[33mFailed to reset orchestration context: \u001b[39m\u001b[38;5;132;01m{\u001b[39;00mresponse.status_code\u001b[38;5;132;01m}\u001b[39;00m\u001b[33m, \u001b[39m\u001b[38;5;132;01m{\u001b[39;00mresponse.text\u001b[38;5;132;01m}\u001b[39;00m\u001b[33m\"\u001b[39m)\n",
      "\u001b[31mException\u001b[39m: Failed to reset orchestration context: 500, {\"timestamp\":\"2025-08-26T14:54:15.373+00:00\",\"status\":500,\"error\":\"Internal Server Error\",\"trace\":\"java.lang.RuntimeException: dev.pulceo.prm.api.exception.PrmApiException: Failed to get nodes from PRM\\n\\tat dev.pulceo.prm.api.PrmApi.lambda$getAllNodes$2(PrmApi.java:108)\\n\\tat reactor.core.publisher.FluxOnErrorResume$ResumeSubscriber.onError(FluxOnErrorResume.java:94)\\n\\tat reactor.core.publisher.MonoCollectList$MonoCollectListSubscriber.onError(MonoCollectList.java:108)\\n\\tat reactor.core.publisher.MonoFlatMapMany$FlatMapManyMain.onError(MonoFlatMapMany.java:204)\\n\\tat reactor.core.publisher.FluxContextWrite$ContextWriteSubscriber.onError(FluxContextWrite.java:121)\\n\\tat reactor.core.publisher.FluxDoFinally$DoFinallySubscriber.onError(FluxDoFinally.java:119)\\n\\tat reactor.core.publisher.MonoPeekTerminal$MonoTerminalPeekSubscriber.onError(MonoPeekTerminal.java:258)\\n\\tat reactor.core.publisher.FluxPeekFuseable$PeekConditionalSubscriber.onError(FluxPeekFuseable.java:903)\\n\\tat reactor.core.publisher.Operators$MultiSubscriptionSubscriber.onError(Operators.java:2210)\\n\\tat reactor.core.publisher.FluxOnAssembly$OnAssemblySubscriber.onError(FluxOnAssembly.java:544)\\n\\tat reactor.core.publisher.FluxPeek$PeekSubscriber.onError(FluxPeek.java:222)\\n\\tat reactor.core.publisher.FluxMap$MapSubscriber.onError(FluxMap.java:134)\\n\\tat reactor.core.publisher.FluxOnErrorResume$ResumeSubscriber.onError(FluxOnErrorResume.java:106)\\n\\tat reactor.core.publisher.Operators.error(Operators.java:198)\\n\\tat reactor.core.publisher.MonoErrorSupplied.subscribe(MonoErrorSupplied.java:56)\\n\\tat reactor.core.publisher.Mono.subscribe(Mono.java:4495)\\n\\tat reactor.core.publisher.FluxOnErrorResume$ResumeSubscriber.onError(FluxOnErrorResume.java:103)\\n\\tat reactor.core.publisher.FluxPeek$PeekSubscriber.onError(FluxPeek.java:222)\\n\\tat reactor.core.publisher.FluxPeek$PeekSubscriber.onError(FluxPeek.java:222)\\n\\tat reactor.core.publisher.FluxPeek$PeekSubscriber.onError(FluxPeek.java:222)\\n\\tat reactor.core.publisher.MonoNext$NextSubscriber.onError(MonoNext.java:93)\\n\\tat reactor.core.publisher.MonoFlatMapMany$FlatMapManyMain.onError(MonoFlatMapMany.java:204)\\n\\tat reactor.core.publisher.SerializedSubscriber.onError(SerializedSubscriber.java:124)\\n\\tat reactor.core.publisher.FluxRetryWhen$RetryWhenMainSubscriber.whenError(FluxRetryWhen.java:225)\\n\\tat reactor.core.publisher.FluxRetryWhen$RetryWhenOtherSubscriber.onError(FluxRetryWhen.java:274)\\n\\tat reactor.core.publisher.FluxContextWrite$ContextWriteSubscriber.onError(FluxContextWrite.java:121)\\n\\tat reactor.core.publisher.FluxConcatMapNoPrefetch$FluxConcatMapNoPrefetchSubscriber.maybeOnError(FluxConcatMapNoPrefetch.java:326)\\n\\tat reactor.core.publisher.FluxConcatMapNoPrefetch$FluxConcatMapNoPrefetchSubscriber.onNext(FluxConcatMapNoPrefetch.java:211)\\n\\tat reactor.core.publisher.FluxContextWrite$ContextWriteSubscriber.onNext(FluxContextWrite.java:107)\\n\\tat reactor.core.publisher.SinkManyEmitterProcessor.drain(SinkManyEmitterProcessor.java:471)\\n\\tat reactor.core.publisher.SinkManyEmitterProcessor$EmitterInner.drainParent(SinkManyEmitterProcessor.java:615)\\n\\tat reactor.core.publisher.FluxPublish$PubSubInner.request(FluxPublish.java:871)\\n\\tat reactor.core.publisher.FluxContextWrite$ContextWriteSubscriber.request(FluxContextWrite.java:136)\\n\\tat reactor.core.publisher.FluxConcatMapNoPrefetch$FluxConcatMapNoPrefetchSubscriber.request(FluxConcatMapNoPrefetch.java:336)\\n\\tat reactor.core.publisher.FluxContextWrite$ContextWriteSubscriber.request(FluxContextWrite.java:136)\\n\\tat reactor.core.publisher.Operators$DeferredSubscription.request(Operators.java:1717)\\n\\tat reactor.core.publisher.FluxRetryWhen$RetryWhenMainSubscriber.onError(FluxRetryWhen.java:192)\\n\\tat reactor.core.publisher.MonoCreate$DefaultMonoSink.error(MonoCreate.java:201)\\n\\tat reactor.netty.http.client.HttpClientConnect$MonoHttpConnect$ClientTransportSubscriber.onError(HttpClientConnect.java:311)\\n\\tat reactor.core.publisher.MonoCreate$DefaultMonoSink.error(MonoCreate.java:201)\\n\\tat reactor.netty.resources.DefaultPooledConnectionProvider$DisposableAcquire.onError(DefaultPooledConnectionProvider.java:162)\\n\\tat reactor.netty.internal.shaded.reactor.pool.AbstractPool$Borrower.fail(AbstractPool.java:475)\\n\\tat reactor.netty.internal.shaded.reactor.pool.SimpleDequePool.lambda$drainLoop$9(SimpleDequePool.java:433)\\n\\tat reactor.core.publisher.FluxDoOnEach$DoOnEachSubscriber.onError(FluxDoOnEach.java:186)\\n\\tat reactor.core.publisher.MonoCreate$DefaultMonoSink.error(MonoCreate.java:201)\\n\\tat reactor.netty.resources.DefaultPooledConnectionProvider$PooledConnectionAllocator$PooledConnectionInitializer.onError(DefaultPooledConnectionProvider.java:560)\\n\\tat reactor.core.publisher.MonoFlatMap$FlatMapMain.secondError(MonoFlatMap.java:241)\\n\\tat reactor.core.publisher.MonoFlatMap$FlatMapInner.onError(MonoFlatMap.java:315)\\n\\tat reactor.core.publisher.FluxOnErrorResume$ResumeSubscriber.onError(FluxOnErrorResume.java:106)\\n\\tat reactor.core.publisher.SerializedSubscriber.onError(SerializedSubscriber.java:124)\\n\\tat reactor.core.publisher.FluxRetryWhen$RetryWhenMainSubscriber.whenError(FluxRetryWhen.java:225)\\n\\tat reactor.core.publisher.FluxRetryWhen$RetryWhenOtherSubscriber.onError(FluxRetryWhen.java:274)\\n\\tat reactor.core.publisher.FluxContextWrite$ContextWriteSubscriber.onError(FluxContextWrite.java:121)\\n\\tat reactor.core.publisher.FluxConcatMapNoPrefetch$FluxConcatMapNoPrefetchSubscriber.maybeOnError(FluxConcatMapNoPrefetch.java:326)\\n\\tat reactor.core.publisher.FluxConcatMapNoPrefetch$FluxConcatMapNoPrefetchSubscriber.onNext(FluxConcatMapNoPrefetch.java:211)\\n\\tat reactor.core.publisher.FluxContextWrite$ContextWriteSubscriber.onNext(FluxContextWrite.java:107)\\n\\tat reactor.core.publisher.SinkManyEmitterProcessor.drain(SinkManyEmitterProcessor.java:471)\\n\\tat reactor.core.publisher.SinkManyEmitterProcessor$EmitterInner.drainParent(SinkManyEmitterProcessor.java:615)\\n\\tat reactor.core.publisher.FluxPublish$PubSubInner.request(FluxPublish.java:871)\\n\\tat reactor.core.publisher.FluxContextWrite$ContextWriteSubscriber.request(FluxContextWrite.java:136)\\n\\tat reactor.core.publisher.FluxConcatMapNoPrefetch$FluxConcatMapNoPrefetchSubscriber.request(FluxConcatMapNoPrefetch.java:336)\\n\\tat reactor.core.publisher.FluxContextWrite$ContextWriteSubscriber.request(FluxContextWrite.java:136)\\n\\tat reactor.core.publisher.Operators$DeferredSubscription.request(Operators.java:1717)\\n\\tat reactor.core.publisher.FluxRetryWhen$RetryWhenMainSubscriber.onError(FluxRetryWhen.java:192)\\n\\tat reactor.core.publisher.MonoFlatMap$FlatMapMain.secondError(MonoFlatMap.java:241)\\n\\tat reactor.core.publisher.MonoFlatMap$FlatMapInner.onError(MonoFlatMap.java:315)\\n\\tat reactor.netty.transport.TransportConnector$MonoChannelPromise.tryFailure(TransportConnector.java:576)\\n\\tat reactor.netty.transport.TransportConnector$MonoChannelPromise.setFailure(TransportConnector.java:522)\\n\\tat reactor.netty.transport.TransportConnector.lambda$doConnect$7(TransportConnector.java:261)\\n\\tat io.netty.util.concurrent.DefaultPromise.notifyListener0(DefaultPromise.java:590)\\n\\tat io.netty.util.concurrent.DefaultPromise.notifyListeners0(DefaultPromise.java:583)\\n\\tat io.netty.util.concurrent.DefaultPromise.notifyListenersNow(DefaultPromise.java:559)\\n\\tat io.netty.util.concurrent.DefaultPromise.notifyListeners(DefaultPromise.java:492)\\n\\tat io.netty.util.concurrent.DefaultPromise.setValue0(DefaultPromise.java:636)\\n\\tat io.netty.util.concurrent.DefaultPromise.setFailure0(DefaultPromise.java:629)\\n\\tat io.netty.util.concurrent.DefaultPromise.tryFailure(DefaultPromise.java:118)\\n\\tat io.netty.channel.epoll.AbstractEpollChannel$AbstractEpollUnsafe.fulfillConnectPromise(AbstractEpollChannel.java:674)\\n\\tat io.netty.channel.epoll.AbstractEpollChannel$AbstractEpollUnsafe.finishConnect(AbstractEpollChannel.java:693)\\n\\tat io.netty.channel.epoll.AbstractEpollChannel$AbstractEpollUnsafe.epollOutReady(AbstractEpollChannel.java:567)\\n\\tat io.netty.channel.epoll.EpollEventLoop.processReady(EpollEventLoop.java:499)\\n\\tat io.netty.channel.epoll.EpollEventLoop.run(EpollEventLoop.java:407)\\n\\tat io.netty.util.concurrent.SingleThreadEventExecutor$4.run(SingleThreadEventExecutor.java:997)\\n\\tat io.netty.util.internal.ThreadExecutorMap$2.run(ThreadExecutorMap.java:74)\\n\\tat io.netty.util.concurrent.FastThreadLocalRunnable.run(FastThreadLocalRunnable.java:30)\\n\\tat java.base/java.lang.Thread.run(Thread.java:840)\\n\\tSuppressed: org.springframework.web.reactive.function.client.WebClientRequestException: finishConnect(..) failed: Connection refused: localhost/[0:0:0:0:0:0:0:1]:7878\\n\\t\\tat org.springframework.web.reactive.function.client.ExchangeFunctions$DefaultExchangeFunction.lambda$wrapException$9(ExchangeFunctions.java:136)\\n\\t\\tSuppressed: The stacktrace has been enhanced by Reactor, refer to additional information below: \\nError has been observed at the following site(s):\\n\\t*__checkpoint ⇢ Request to GET http://localhost:7878/api/v1/nodes [DefaultWebClient]\\nOriginal Stack Trace:\\n\\t\\t\\tat org.springframework.web.reactive.function.client.ExchangeFunctions$DefaultExchangeFunction.lambda$wrapException$9(ExchangeFunctions.java:136)\\n\\t\\t\\tat reactor.core.publisher.MonoErrorSupplied.subscribe(MonoErrorSupplied.java:55)\\n\\t\\t\\tat reactor.core.publisher.Mono.subscribe(Mono.java:4495)\\n\\t\\t\\tat reactor.core.publisher.FluxOnErrorResume$ResumeSubscriber.onError(FluxOnErrorResume.java:103)\\n\\t\\t\\tat reactor.core.publisher.FluxPeek$PeekSubscriber.onError(FluxPeek.java:222)\\n\\t\\t\\tat reactor.core.publisher.FluxPeek$PeekSubscriber.onError(FluxPeek.java:222)\\n\\t\\t\\tat reactor.core.publisher.FluxPeek$PeekSubscriber.onError(FluxPeek.java:222)\\n\\t\\t\\tat reactor.core.publisher.MonoNext$NextSubscriber.onError(MonoNext.java:93)\\n\\t\\t\\tat reactor.core.publisher.MonoFlatMapMany$FlatMapManyMain.onError(MonoFlatMapMany.java:204)\\n\\t\\t\\tat reactor.core.publisher.SerializedSubscriber.onError(SerializedSubscriber.java:124)\\n\\t\\t\\tat reactor.core.publisher.FluxRetryWhen$RetryWhenMainSubscriber.whenError(FluxRetryWhen.java:225)\\n\\t\\t\\tat reactor.core.publisher.FluxRetryWhen$RetryWhenOtherSubscriber.onError(FluxRetryWhen.java:274)\\n\\t\\t\\tat reactor.core.publisher.FluxContextWrite$ContextWriteSubscriber.onError(FluxContextWrite.java:121)\\n\\t\\t\\tat reactor.core.publisher.FluxConcatMapNoPrefetch$FluxConcatMapNoPrefetchSubscriber.maybeOnError(FluxConcatMapNoPrefetch.java:326)\\n\\t\\t\\tat reactor.core.publisher.FluxConcatMapNoPrefetch$FluxConcatMapNoPrefetchSubscriber.onNext(FluxConcatMapNoPrefetch.java:211)\\n\\t\\t\\tat reactor.core.publisher.FluxContextWrite$ContextWriteSubscriber.onNext(FluxContextWrite.java:107)\\n\\t\\t\\tat reactor.core.publisher.SinkManyEmitterProcessor.drain(SinkManyEmitterProcessor.java:471)\\n\\t\\t\\tat reactor.core.publisher.SinkManyEmitterProcessor$EmitterInner.drainParent(SinkManyEmitterProcessor.java:615)\\n\\t\\t\\tat reactor.core.publisher.FluxPublish$PubSubInner.request(FluxPublish.java:871)\\n\\t\\t\\tat reactor.core.publisher.FluxContextWrite$ContextWriteSubscriber.request(FluxContextWrite.java:136)\\n\\t\\t\\tat reactor.core.publisher.FluxConcatMapNoPrefetch$FluxConcatMapNoPrefetchSubscriber.request(FluxConcatMapNoPrefetch.java:336)\\n\\t\\t\\tat reactor.core.publisher.FluxContextWrite$ContextWriteSubscriber.request(FluxContextWrite.java:136)\\n\\t\\t\\tat reactor.core.publisher.Operators$DeferredSubscription.request(Operators.java:1717)\\n\\t\\t\\tat reactor.core.publisher.FluxRetryWhen$RetryWhenMainSubscriber.onError(FluxRetryWhen.java:192)\\n\\t\\t\\tat reactor.core.publisher.MonoCreate$DefaultMonoSink.error(MonoCreate.java:201)\\n\\t\\t\\tat reactor.netty.http.client.HttpClientConnect$MonoHttpConnect$ClientTransportSubscriber.onError(HttpClientConnect.java:311)\\n\\t\\t\\tat reactor.core.publisher.MonoCreate$DefaultMonoSink.error(MonoCreate.java:201)\\n\\t\\t\\tat reactor.netty.resources.DefaultPooledConnectionProvider$DisposableAcquire.onError(DefaultPooledConnectionProvider.java:162)\\n\\t\\t\\tat reactor.netty.internal.shaded.reactor.pool.AbstractPool$Borrower.fail(AbstractPool.java:475)\\n\\t\\t\\tat reactor.netty.internal.shaded.reactor.pool.SimpleDequePool.lambda$drainLoop$9(SimpleDequePool.java:433)\\n\\t\\t\\tat reactor.core.publisher.FluxDoOnEach$DoOnEachSubscriber.onError(FluxDoOnEach.java:186)\\n\\t\\t\\tat reactor.core.publisher.MonoCreate$DefaultMonoSink.error(MonoCreate.java:201)\\n\\t\\t\\tat reactor.netty.resources.DefaultPooledConnectionProvider$PooledConnectionAllocator$PooledConnectionInitializer.onError(DefaultPooledConnectionProvider.java:560)\\n\\t\\t\\tat reactor.core.publisher.MonoFlatMap$FlatMapMain.secondError(MonoFlatMap.java:241)\\n\\t\\t\\tat reactor.core.publisher.MonoFlatMap$FlatMapInner.onError(MonoFlatMap.java:315)\\n\\t\\t\\tat reactor.core.publisher.FluxOnErrorResume$ResumeSubscriber.onError(FluxOnErrorResume.java:106)\\n\\t\\t\\tat reactor.core.publisher.SerializedSubscriber.onError(SerializedSubscriber.java:124)\\n\\t\\t\\tat reactor.core.publisher.FluxRetryWhen$RetryWhenMainSubscriber.whenError(FluxRetryWhen.java:225)\\n\\t\\t\\tat reactor.core.publisher.FluxRetryWhen$RetryWhenOtherSubscriber.onError(FluxRetryWhen.java:274)\\n\\t\\t\\tat reactor.core.publisher.FluxContextWrite$ContextWriteSubscriber.onError(FluxContextWrite.java:121)\\n\\t\\t\\tat reactor.core.publisher.FluxConcatMapNoPrefetch$FluxConcatMapNoPrefetchSubscriber.maybeOnError(FluxConcatMapNoPrefetch.java:326)\\n\\t\\t\\tat reactor.core.publisher.FluxConcatMapNoPrefetch$FluxConcatMapNoPrefetchSubscriber.onNext(FluxConcatMapNoPrefetch.java:211)\\n\\t\\t\\tat reactor.core.publisher.FluxContextWrite$ContextWriteSubscriber.onNext(FluxContextWrite.java:107)\\n\\t\\t\\tat reactor.core.publisher.SinkManyEmitterProcessor.drain(SinkManyEmitterProcessor.java:471)\\n\\t\\t\\tat reactor.core.publisher.SinkManyEmitterProcessor$EmitterInner.drainParent(SinkManyEmitterProcessor.java:615)\\n\\t\\t\\tat reactor.core.publisher.FluxPublish$PubSubInner.request(FluxPublish.java:871)\\n\\t\\t\\tat reactor.core.publisher.FluxContextWrite$ContextWriteSubscriber.request(FluxContextWrite.java:136)\\n\\t\\t\\tat reactor.core.publisher.FluxConcatMapNoPrefetch$FluxConcatMapNoPrefetchSubscriber.request(FluxConcatMapNoPrefetch.java:336)\\n\\t\\t\\tat reactor.core.publisher.FluxContextWrite$ContextWriteSubscriber.request(FluxContextWrite.java:136)\\n\\t\\t\\tat reactor.core.publisher.Operators$DeferredSubscription.request(Operators.java:1717)\\n\\t\\t\\tat reactor.core.publisher.FluxRetryWhen$RetryWhenMainSubscriber.onError(FluxRetryWhen.java:192)\\n\\t\\t\\tat reactor.core.publisher.MonoFlatMap$FlatMapMain.secondError(MonoFlatMap.java:241)\\n\\t\\t\\tat reactor.core.publisher.MonoFlatMap$FlatMapInner.onError(MonoFlatMap.java:315)\\n\\t\\t\\tat reactor.netty.transport.TransportConnector$MonoChannelPromise.tryFailure(TransportConnector.java:576)\\n\\t\\t\\tat reactor.netty.transport.TransportConnector$MonoChannelPromise.setFailure(TransportConnector.java:522)\\n\\t\\t\\tat reactor.netty.transport.TransportConnector.lambda$doConnect$7(TransportConnector.java:261)\\n\\t\\t\\tat io.netty.util.concurrent.DefaultPromise.notifyListener0(DefaultPromise.java:590)\\n\\t\\t\\tat io.netty.util.concurrent.DefaultPromise.notifyListeners0(DefaultPromise.java:583)\\n\\t\\t\\tat io.netty.util.concurrent.DefaultPromise.notifyListenersNow(DefaultPromise.java:559)\\n\\t\\t\\tat io.netty.util.concurrent.DefaultPromise.notifyListeners(DefaultPromise.java:492)\\n\\t\\t\\tat io.netty.util.concurrent.DefaultPromise.setValue0(DefaultPromise.java:636)\\n\\t\\t\\tat io.netty.util.concurrent.DefaultPromise.setFailure0(DefaultPromise.java:629)\\n\\t\\t\\tat io.netty.util.concurrent.DefaultPromise.tryFailure(DefaultPromise.java:118)\\n\\t\\t\\tat io.netty.channel.epoll.AbstractEpollChannel$AbstractEpollUnsafe.fulfillConnectPromise(AbstractEpollChannel.java:674)\\n\\t\\t\\tat io.netty.channel.epoll.AbstractEpollChannel$AbstractEpollUnsafe.finishConnect(AbstractEpollChannel.java:693)\\n\\t\\t\\tat io.netty.channel.epoll.AbstractEpollChannel$AbstractEpollUnsafe.epollOutReady(AbstractEpollChannel.java:567)\\n\\t\\t\\tat io.netty.channel.epoll.EpollEventLoop.processReady(EpollEventLoop.java:499)\\n\\t\\t\\tat io.netty.channel.epoll.EpollEventLoop.run(EpollEventLoop.java:407)\\n\\t\\t\\tat io.netty.util.concurrent.SingleThreadEventExecutor$4.run(SingleThreadEventExecutor.java:997)\\n\\t\\t\\tat io.netty.util.internal.ThreadExecutorMap$2.run(ThreadExecutorMap.java:74)\\n\\t\\t\\tat io.netty.util.concurrent.FastThreadLocalRunnable.run(FastThreadLocalRunnable.java:30)\\n\\t\\t\\tat java.base/java.lang.Thread.run(Thread.java:840)\\n\\tCaused by: io.netty.channel.AbstractChannel$AnnotatedConnectException: finishConnect(..) failed: Connection refused: localhost/[0:0:0:0:0:0:0:1]:7878\\n\\tCaused by: java.net.ConnectException: finishConnect(..) failed: Connection refused\\n\\t\\tat io.netty.channel.unix.Errors.newConnectException0(Errors.java:166)\\n\\t\\tat io.netty.channel.unix.Errors.handleConnectErrno(Errors.java:131)\\n\\t\\tat io.netty.channel.unix.Socket.finishConnect(Socket.java:359)\\n\\t\\tat io.netty.channel.epoll.AbstractEpollChannel$AbstractEpollUnsafe.doFinishConnect(AbstractEpollChannel.java:710)\\n\\t\\tat io.netty.channel.epoll.AbstractEpollChannel$AbstractEpollUnsafe.finishConnect(AbstractEpollChannel.java:687)\\n\\t\\tat io.netty.channel.epoll.AbstractEpollChannel$AbstractEpollUnsafe.epollOutReady(AbstractEpollChannel.java:567)\\n\\t\\tat io.netty.channel.epoll.EpollEventLoop.processReady(EpollEventLoop.java:499)\\n\\t\\tat io.netty.channel.epoll.EpollEventLoop.run(EpollEventLoop.java:407)\\n\\t\\tat io.netty.util.concurrent.SingleThreadEventExecutor$4.run(SingleThreadEventExecutor.java:997)\\n\\t\\tat io.netty.util.internal.ThreadExecutorMap$2.run(ThreadExecutorMap.java:74)\\n\\t\\tat io.netty.util.concurrent.FastThreadLocalRunnable.run(FastThreadLocalRunnable.java:30)\\n\\t\\tat java.base/java.lang.Thread.run(Thread.java:840)\\n\\tSuppressed: java.lang.Exception: #block terminated with an error\\n\\t\\tat reactor.core.publisher.BlockingSingleSubscriber.blockingGet(BlockingSingleSubscriber.java:103)\\n\\t\\tat reactor.core.publisher.Mono.block(Mono.java:1712)\\n\\t\\tat dev.pulceo.prm.api.PrmApi.getAllNodes(PrmApi.java:110)\\n\\t\\tat dev.pulceo.prm.api.PnaApi.resetAllPna(PnaApi.java:64)\\n\\t\\tat dev.pulceo.prm.service.OrchestrationService.reset(OrchestrationService.java:256)\\n\\t\\tat java.base/jdk.internal.reflect.NativeMethodAccessorImpl.invoke0(Native Method)\\n\\t\\tat java.base/jdk.internal.reflect.NativeMethodAccessorImpl.invoke(NativeMethodAccessorImpl.java:77)\\n\\t\\tat java.base/jdk.internal.reflect.DelegatingMethodAccessorImpl.invoke(DelegatingMethodAccessorImpl.java:43)\\n\\t\\tat java.base/java.lang.reflect.Method.invoke(Method.java:569)\\n\\t\\tat org.springframework.aop.support.AopUtils.invokeJoinpointUsingReflection(AopUtils.java:343)\\n\\t\\tat org.springframework.aop.framework.CglibAopProxy$DynamicAdvisedInterceptor.intercept(CglibAopProxy.java:699)\\n\\t\\tat dev.pulceo.prm.service.OrchestrationService$$SpringCGLIB$$0.reset(<generated>)\\n\\t\\tat dev.pulceo.prm.controller.OrchestrationContextController.deleteOrchestrationContext(OrchestrationContextController.java:48)\\n\\t\\tat java.base/jdk.internal.reflect.NativeMethodAccessorImpl.invoke0(Native Method)\\n\\t\\tat java.base/jdk.internal.reflect.NativeMethodAccessorImpl.invoke(NativeMethodAccessorImpl.java:77)\\n\\t\\tat java.base/jdk.internal.reflect.DelegatingMethodAccessorImpl.invoke(DelegatingMethodAccessorImpl.java:43)\\n\\t\\tat java.base/java.lang.reflect.Method.invoke(Method.java:569)\\n\\t\\tat org.springframework.web.method.support.InvocableHandlerMethod.doInvoke(InvocableHandlerMethod.java:205)\\n\\t\\tat org.springframework.web.method.support.InvocableHandlerMethod.invokeForRequest(InvocableHandlerMethod.java:150)\\n\\t\\tat org.springframework.web.servlet.mvc.method.annotation.ServletInvocableHandlerMethod.invokeAndHandle(ServletInvocableHandlerMethod.java:118)\\n\\t\\tat org.springframework.web.servlet.mvc.method.annotation.RequestMappingHandlerAdapter.invokeHandlerMethod(RequestMappingHandlerAdapter.java:884)\\n\\t\\tat org.springframework.web.servlet.mvc.method.annotation.RequestMappingHandlerAdapter.handleInternal(RequestMappingHandlerAdapter.java:797)\\n\\t\\tat org.springframework.web.servlet.mvc.method.AbstractHandlerMethodAdapter.handle(AbstractHandlerMethodAdapter.java:87)\\n\\t\\tat org.springframework.web.servlet.DispatcherServlet.doDispatch(DispatcherServlet.java:1081)\\n\\t\\tat org.springframework.web.servlet.DispatcherServlet.doService(DispatcherServlet.java:974)\\n\\t\\tat org.springframework.web.servlet.FrameworkServlet.processRequest(FrameworkServlet.java:1011)\\n\\t\\tat org.springframework.web.servlet.FrameworkServlet.doPost(FrameworkServlet.java:914)\\n\\t\\tat jakarta.servlet.http.HttpServlet.service(HttpServlet.java:590)\\n\\t\\tat org.springframework.web.servlet.FrameworkServlet.service(FrameworkServlet.java:885)\\n\\t\\tat jakarta.servlet.http.HttpServlet.service(HttpServlet.java:658)\\n\\t\\tat org.apache.catalina.core.ApplicationFilterChain.internalDoFilter(ApplicationFilterChain.java:205)\\n\\t\\tat org.apache.catalina.core.ApplicationFilterChain.doFilter(ApplicationFilterChain.java:149)\\n\\t\\tat org.apache.tomcat.websocket.server.WsFilter.doFilter(WsFilter.java:51)\\n\\t\\tat org.apache.catalina.core.ApplicationFilterChain.internalDoFilter(ApplicationFilterChain.java:174)\\n\\t\\tat org.apache.catalina.core.ApplicationFilterChain.doFilter(ApplicationFilterChain.java:149)\\n\\t\\tat org.springframework.web.filter.RequestContextFilter.doFilterInternal(RequestContextFilter.java:100)\\n\\t\\tat org.springframework.web.filter.OncePerRequestFilter.doFilter(OncePerRequestFilter.java:116)\\n\\t\\tat org.apache.catalina.core.ApplicationFilterChain.internalDoFilter(ApplicationFilterChain.java:174)\\n\\t\\tat org.apache.catalina.core.ApplicationFilterChain.doFilter(ApplicationFilterChain.java:149)\\n\\t\\tat org.springframework.web.filter.FormContentFilter.doFilterInternal(FormContentFilter.java:93)\\n\\t\\tat org.springframework.web.filter.OncePerRequestFilter.doFilter(OncePerRequestFilter.java:116)\\n\\t\\tat org.apache.catalina.core.ApplicationFilterChain.internalDoFilter(ApplicationFilterChain.java:174)\\n\\t\\tat org.apache.catalina.core.ApplicationFilterChain.doFilter(ApplicationFilterChain.java:149)\\n\\t\\tat org.springframework.web.filter.CharacterEncodingFilter.doFilterInternal(CharacterEncodingFilter.java:201)\\n\\t\\tat org.springframework.web.filter.OncePerRequestFilter.doFilter(OncePerRequestFilter.java:116)\\n\\t\\tat org.apache.catalina.core.ApplicationFilterChain.internalDoFilter(ApplicationFilterChain.java:174)\\n\\t\\tat org.apache.catalina.core.ApplicationFilterChain.doFilter(ApplicationFilterChain.java:149)\\n\\t\\tat org.apache.catalina.core.StandardWrapperValve.invoke(StandardWrapperValve.java:167)\\n\\t\\tat org.apache.catalina.core.StandardContextValve.invoke(StandardContextValve.java:90)\\n\\t\\tat org.apache.catalina.authenticator.AuthenticatorBase.invoke(AuthenticatorBase.java:482)\\n\\t\\tat org.apache.catalina.core.StandardHostValve.invoke(StandardHostValve.java:115)\\n\\t\\tat org.apache.catalina.valves.ErrorReportValve.invoke(ErrorReportValve.java:93)\\n\\t\\tat org.apache.catalina.core.StandardEngineValve.invoke(StandardEngineValve.java:74)\\n\\t\\tat org.apache.catalina.connector.CoyoteAdapter.service(CoyoteAdapter.java:340)\\n\\t\\tat org.apache.coyote.http11.Http11Processor.service(Http11Processor.java:391)\\n\\t\\tat org.apache.coyote.AbstractProcessorLight.process(AbstractProcessorLight.java:63)\\n\\t\\tat org.apache.coyote.AbstractProtocol$ConnectionHandler.process(AbstractProtocol.java:896)\\n\\t\\tat org.apache.tomcat.util.net.NioEndpoint$SocketProcessor.doRun(NioEndpoint.java:1744)\\n\\t\\tat org.apache.tomcat.util.net.SocketProcessorBase.run(SocketProcessorBase.java:52)\\n\\t\\tat org.apache.tomcat.util.threads.ThreadPoolExecutor.runWorker(ThreadPoolExecutor.java:1191)\\n\\t\\tat org.apache.tomcat.util.threads.ThreadPoolExecutor$Worker.run(ThreadPoolExecutor.java:659)\\n\\t\\tat org.apache.tomcat.util.threads.TaskThread$WrappingRunnable.run(TaskThread.java:61)\\n\\t\\t... 1 more\\nCaused by: dev.pulceo.prm.api.exception.PrmApiException: Failed to get nodes from PRM\\n\\t... 85 more\\nCaused by: [CIRCULAR REFERENCE: org.springframework.web.reactive.function.client.WebClientRequestException: finishConnect(..) failed: Connection refused: localhost/[0:0:0:0:0:0:0:1]:7878]\\n\",\"message\":\"dev.pulceo.prm.api.exception.PrmApiException: Failed to get nodes from PRM\",\"path\":\"/api/v1/orchestration-context/reset\"}"
     ]
    }
   ],
   "source": [
    "## reset orchestration context\n",
    "pulceo_api.reset_orchestration_context()"
   ]
  }
 ],
 "metadata": {
  "kernelspec": {
   "display_name": "venv",
   "language": "python",
   "name": "python3"
  },
  "language_info": {
   "codemirror_mode": {
    "name": "ipython",
    "version": 3
   },
   "file_extension": ".py",
   "mimetype": "text/x-python",
   "name": "python",
   "nbconvert_exporter": "python",
   "pygments_lexer": "ipython3",
   "version": "3.13.5"
  }
 },
 "nbformat": 4,
 "nbformat_minor": 5
}

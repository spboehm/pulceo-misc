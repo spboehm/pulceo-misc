{
 "cells": [
  {
   "cell_type": "markdown",
   "id": "3720168c",
   "metadata": {},
   "source": [
    "## Connect to PULCEO"
   ]
  },
  {
   "cell_type": "code",
   "execution_count": 21,
   "id": "3c19da6d",
   "metadata": {},
   "outputs": [
    {
     "name": "stdout",
     "output_type": "stream",
     "text": [
      "PRM health check passed.\n",
      "PSM health check passed.\n",
      "PMS health check passed.\n"
     ]
    }
   ],
   "source": [
    "from pulceo.sdk import *\n",
    "\n",
    "# configuration\n",
    "scheme = \"http\"\n",
    "host = \"localhost\"\n",
    "prm_port = 7878 # default 7878\n",
    "psm_port = 7979 # default 7979\n",
    "pms_port = 7777 # default 7777\n",
    "\n",
    "# initiate the API\n",
    "pulceo_api = API(prm_port = prm_port)\n",
    "\n",
    "# check health of all services\n",
    "pulceo_api.check_health()"
   ]
  },
  {
   "cell_type": "markdown",
   "id": "3df85fc1",
   "metadata": {},
   "source": [
    "## Orchestration Context"
   ]
  },
  {
   "cell_type": "code",
   "execution_count": 22,
   "id": "5421798b",
   "metadata": {},
   "outputs": [
    {
     "data": {
      "text/plain": [
       "[{'service': 'psm',\n",
       "  'uuid': 'b05eb550-435a-4b76-99f0-d2b9b7d752c3',\n",
       "  'name': 'default'},\n",
       " {'service': 'prm',\n",
       "  'uuid': 'b05eb550-435a-4b76-99f0-d2b9b7d752c3',\n",
       "  'name': 'default'},\n",
       " {'service': 'pms',\n",
       "  'uuid': 'b05eb550-435a-4b76-99f0-d2b9b7d752c3',\n",
       "  'name': 'default'}]"
      ]
     },
     "execution_count": 22,
     "metadata": {},
     "output_type": "execute_result"
    }
   ],
   "source": [
    "# check for the current orchestration context\n",
    "pulceo_api.get_orchestration_context(scope=\"all\")"
   ]
  },
  {
   "cell_type": "code",
   "execution_count": 23,
   "id": "32173f21",
   "metadata": {},
   "outputs": [
    {
     "name": "stdout",
     "output_type": "stream",
     "text": [
      "Orchestration created successfully.\n"
     ]
    },
    {
     "data": {
      "text/plain": [
       "{'uuid': '0fbf5e08-c26f-441a-aa9e-70a8bcaaea2c',\n",
       " 'name': '2-tier-offloading-test',\n",
       " 'description': 'test orchestration for offloading',\n",
       " 'status': 'NEW',\n",
       " 'properties': {'key': 'value'}}"
      ]
     },
     "execution_count": 23,
     "metadata": {},
     "output_type": "execute_result"
    }
   ],
   "source": [
    "# create an orchestration\n",
    "pulceo_api.create_orchestration(\"2-tier-offloading-test\", \"test orchestration for offloading\", {\"key\":\"value\"})"
   ]
  },
  {
   "cell_type": "code",
   "execution_count": 24,
   "id": "efc197cd",
   "metadata": {},
   "outputs": [
    {
     "name": "stdout",
     "output_type": "stream",
     "text": [
      "Orchestration status updated to RUNNING.\n"
     ]
    }
   ],
   "source": [
    "# start orchestration\n",
    "pulceo_api.start_orchestration(\"2-tier-offloading-test\")"
   ]
  },
  {
   "cell_type": "markdown",
   "id": "214f3ea1",
   "metadata": {},
   "source": [
    "## Creation"
   ]
  },
  {
   "cell_type": "markdown",
   "id": "d05fa2b1",
   "metadata": {},
   "source": [
    "### Nodes"
   ]
  },
  {
   "cell_type": "code",
   "execution_count": 25,
   "id": "ef2cd53b",
   "metadata": {},
   "outputs": [
    {
     "name": "stdout",
     "output_type": "stream",
     "text": [
      "Node created successfully.\n"
     ]
    },
    {
     "data": {
      "text/plain": [
       "{'uuid': '519aaa2a-dc6b-48c3-b0a1-485bc0c5b0c2',\n",
       " 'providerName': 'default',\n",
       " 'hostname': '141.13.163.183',\n",
       " 'pnaUUID': '0247fea1-3ca3-401b-8fa2-b6f83a469680',\n",
       " 'node': {'name': 'pdh-pna1',\n",
       "  'type': 'EDGE',\n",
       "  'layer': 1,\n",
       "  'role': 'WORKLOAD',\n",
       "  'group': '',\n",
       "  'country': 'Germany',\n",
       "  'state': 'Bavaria',\n",
       "  'city': 'Bamberg',\n",
       "  'longitude': 0.0,\n",
       "  'latitude': 0.0,\n",
       "  'tags': [{'key': 'properties', 'value': 'Java, MySQL'}]}}"
      ]
     },
     "execution_count": 25,
     "metadata": {},
     "output_type": "execute_result"
    }
   ],
   "source": [
    "# pdh-pna1\n",
    "pulceo_api.create_node(\"resources/nodes/pdh-pna1.json\")"
   ]
  },
  {
   "cell_type": "code",
   "execution_count": null,
   "id": "a3e1906c",
   "metadata": {},
   "outputs": [],
   "source": [
    "# TODO: Possibility 1 (manually)\n",
    "\n",
    "# create nodes via json\n",
    "#pulceo_api.create_node(\"resources/nodes/edge0.json\")\n",
    "#pulceo_api.create_node(\"resources/nodes/edge1.json\")"
   ]
  },
  {
   "cell_type": "code",
   "execution_count": 26,
   "id": "f181359f",
   "metadata": {},
   "outputs": [
    {
     "data": {
      "text/plain": [
       "[{'uuid': '519aaa2a-dc6b-48c3-b0a1-485bc0c5b0c2',\n",
       "  'providerName': 'default',\n",
       "  'hostname': '141.13.163.183',\n",
       "  'pnaUUID': '0247fea1-3ca3-401b-8fa2-b6f83a469680',\n",
       "  'node': {'name': 'pdh-pna1',\n",
       "   'type': 'EDGE',\n",
       "   'layer': 1,\n",
       "   'role': 'WORKLOAD',\n",
       "   'group': '',\n",
       "   'country': 'Germany',\n",
       "   'state': 'Bavaria',\n",
       "   'city': 'Bamberg',\n",
       "   'longitude': 0.0,\n",
       "   'latitude': 0.0,\n",
       "   'tags': [{'key': 'properties', 'value': 'Java, MySQL'}]}}]"
      ]
     },
     "execution_count": 26,
     "metadata": {},
     "output_type": "execute_result"
    }
   ],
   "source": [
    "# read nodes\n",
    "pulceo_api.read_nodes()"
   ]
  },
  {
   "cell_type": "markdown",
   "id": "07e52f51",
   "metadata": {},
   "source": [
    "### Links"
   ]
  },
  {
   "cell_type": "code",
   "execution_count": null,
   "id": "41eb4171",
   "metadata": {},
   "outputs": [],
   "source": [
    "# TODO: Possibility 1 (manually)\n",
    "\n",
    "# create links via json\n",
    "#pulceo_api.create_link(\"resources/links/edge0-edge1.json\")\n",
    "#pulceo_api.create_link(\"resources/links/edge1-edge0.json\")"
   ]
  },
  {
   "cell_type": "code",
   "execution_count": null,
   "id": "b09d7f6f",
   "metadata": {},
   "outputs": [],
   "source": [
    "# read links\n",
    "#pulceo_api.read_links()"
   ]
  },
  {
   "cell_type": "markdown",
   "id": "c6d8be43",
   "metadata": {},
   "source": [
    "## Operation"
   ]
  },
  {
   "cell_type": "code",
   "execution_count": null,
   "id": "50edd9ba",
   "metadata": {},
   "outputs": [
    {
     "name": "stdout",
     "output_type": "stream",
     "text": [
      "test\n",
      "{'nodeId': 'fog0', 'name': 'edge-iot-simulator', 'applicationComponents': [{'name': 'component-eis', 'image': 'ghcr.io/spboehm/edge-iot-simulator:v1.1.0', 'port': 80, 'protocol': 'HTTPS', 'applicationComponentType': 'PUBLIC', 'environmentVariables': {'MQTT_SERVER_NAME': 'test', 'MQTT_PORT': '8883', 'MQTT_TLS': 'True', 'MQTT_USERNAME': 'test_user', 'MQTT_PASSWORD': 'test_user2', 'WEB_PORT': 80}}]}\n"
     ]
    }
   ],
   "source": [
    "# TODO: deploy workload on fog0\n",
    "pulceo_api.create_application(\"fog0\", \"edge-iot-simulator\", \"resources/applications/edge-iot-simulator.json\")"
   ]
  },
  {
   "cell_type": "markdown",
   "id": "1942b880",
   "metadata": {},
   "source": [
    "## Monitoring"
   ]
  },
  {
   "cell_type": "code",
   "execution_count": 7,
   "id": "b8cfdcff",
   "metadata": {},
   "outputs": [
    {
     "name": "stdout",
     "output_type": "stream",
     "text": [
      "PMS health check passed.\n"
     ]
    }
   ],
   "source": [
    "# check health\n",
    "pulceo_api.monitoring.check_health()"
   ]
  },
  {
   "cell_type": "markdown",
   "id": "6d1315c1",
   "metadata": {},
   "source": [
    "### Nodes"
   ]
  },
  {
   "cell_type": "code",
   "execution_count": null,
   "id": "ad58093f",
   "metadata": {},
   "outputs": [],
   "source": [
    "pulceo_api.monitoring.create_metric_request(\"resources/metric-requests/nodes/pdh-pna1_cpu-util.json\")\n",
    "pulceo_api.monitoring.create_metric_request(\"resources/metric-requests/nodes/pdh-pna1_mem-util.json\")"
   ]
  },
  {
   "cell_type": "code",
   "execution_count": null,
   "id": "9981f01f",
   "metadata": {},
   "outputs": [],
   "source": [
    "# TODO: Possibility 1 (manually)\n",
    "\n",
    "# TODO: via json\n",
    "\n",
    "# edge0\n",
    "pulceo_api.monitoring.create_metric_request(\"resources/metric-requests/nodes/edge0_cpu-util.json\")\n",
    "pulceo_api.monitoring.create_metric_request(\"resources/metric-requests/nodes/edge0_mem-util.json\")\n",
    "pulceo_api.monitoring.create_metric_request(\"resources/metric-requests/nodes/edge0_storage-util.json\")\n",
    "pulceo_api.monitoring.create_metric_request(\"resources/metric-requests/nodes/edge0_net-util.json\")\n",
    "\n",
    "# edge1\n",
    "pulceo_api.monitoring.create_metric_request(\"resources/metric-requests/nodes/edge1_cpu-util.json\")\n",
    "pulceo_api.monitoring.create_metric_request(\"resources/metric-requests/nodes/edge1_mem-util.json\")\n",
    "pulceo_api.monitoring.create_metric_request(\"resources/metric-requests/nodes/edge1_storage-util.json\")\n",
    "pulceo_api.monitoring.create_metric_request(\"resources/metric-requests/nodes/edge1_net-util.json\")"
   ]
  },
  {
   "cell_type": "code",
   "execution_count": null,
   "id": "5a8a576a",
   "metadata": {},
   "outputs": [],
   "source": [
    "# TODO: read metric requests\n",
    "pulceo_api.monitoring.read_metric_requests()"
   ]
  },
  {
   "cell_type": "code",
   "execution_count": null,
   "id": "32955bc4",
   "metadata": {},
   "outputs": [],
   "source": [
    "# TODO: metric requests links\n",
    "\n",
    "# edge0-edge1"
   ]
  },
  {
   "cell_type": "markdown",
   "id": "4891fdb7",
   "metadata": {},
   "source": [
    "## Evaluation"
   ]
  },
  {
   "cell_type": "code",
   "execution_count": null,
   "id": "2ee4577c",
   "metadata": {},
   "outputs": [],
   "source": [
    "# stop orchestration\n",
    "pulceo_api.stop_orchestration(\"2-tier-offloading-test\")"
   ]
  },
  {
   "cell_type": "code",
   "execution_count": null,
   "id": "055f9e21",
   "metadata": {},
   "outputs": [],
   "source": [
    "# generate orchestration report\n",
    "pulceo_api.create_orchestration_report(\"2-tier-offloading-test\")"
   ]
  },
  {
   "cell_type": "markdown",
   "id": "4ce8d84f",
   "metadata": {},
   "source": [
    "## Documentation"
   ]
  },
  {
   "cell_type": "code",
   "execution_count": 14,
   "id": "435914bc",
   "metadata": {},
   "outputs": [
    {
     "name": "stdout",
     "output_type": "stream",
     "text": [
      "Failed to reset orchestration context: 500, {\"timestamp\":\"2025-08-26T09:32:47.835+00:00\",\"status\":500,\"error\":\"Internal Server Error\",\"trace\":\"org.springframework.dao.DataIntegrityViolationException: could not execute statement [Referential integrity constraint violation: \\\"FK27XDLB1CIXVJYRU7TFI8LRDTM: PUBLIC.TASK_PROPERTIES FOREIGN KEY(TASK_PROPERTY_ID) REFERENCES PUBLIC.TASK(ID) (CAST(1 AS BIGINT))\\\"; SQL statement:\\ndelete from task where id=? and version=? [23503-224]] [delete from task where id=? and version=?]; SQL [delete from task where id=? and version=?]; constraint [\\\"FK27XDLB1CIXVJYRU7TFI8LRDTM: PUBLIC.TASK_PROPERTIES FOREIGN KEY(TASK_PROPERTY_ID) REFERENCES PUBLIC.TASK(ID) (CAST(1 AS BIGINT))\\\"; SQL statement:\\ndelete from task where id=? and version=? [23503-224]]\\n\\tat org.springframework.orm.jpa.vendor.HibernateJpaDialect.convertHibernateAccessException(HibernateJpaDialect.java:269)\\n\\tat org.springframework.orm.jpa.vendor.HibernateJpaDialect.translateExceptionIfPossible(HibernateJpaDialect.java:229)\\n\\tat org.springframework.orm.jpa.JpaTransactionManager.doCommit(JpaTransactionManager.java:565)\\n\\tat org.springframework.transaction.support.AbstractPlatformTransactionManager.processCommit(AbstractPlatformTransactionManager.java:743)\\n\\tat org.springframework.transaction.support.AbstractPlatformTransactionManager.commit(AbstractPlatformTransactionManager.java:711)\\n\\tat org.springframework.transaction.interceptor.TransactionAspectSupport.commitTransactionAfterReturning(TransactionAspectSupport.java:660)\\n\\tat org.springframework.transaction.interceptor.TransactionAspectSupport.invokeWithinTransaction(TransactionAspectSupport.java:410)\\n\\tat org.springframework.transaction.interceptor.TransactionInterceptor.invoke(TransactionInterceptor.java:119)\\n\\tat org.springframework.aop.framework.ReflectiveMethodInvocation.proceed(ReflectiveMethodInvocation.java:184)\\n\\tat org.springframework.dao.support.PersistenceExceptionTranslationInterceptor.invoke(PersistenceExceptionTranslationInterceptor.java:137)\\n\\tat org.springframework.aop.framework.ReflectiveMethodInvocation.proceed(ReflectiveMethodInvocation.java:184)\\n\\tat org.springframework.data.jpa.repository.support.CrudMethodMetadataPostProcessor$CrudMethodMetadataPopulatingMethodInterceptor.invoke(CrudMethodMetadataPostProcessor.java:164)\\n\\tat org.springframework.aop.framework.ReflectiveMethodInvocation.proceed(ReflectiveMethodInvocation.java:184)\\n\\tat org.springframework.aop.interceptor.ExposeInvocationInterceptor.invoke(ExposeInvocationInterceptor.java:97)\\n\\tat org.springframework.aop.framework.ReflectiveMethodInvocation.proceed(ReflectiveMethodInvocation.java:184)\\n\\tat org.springframework.aop.framework.JdkDynamicAopProxy.invoke(JdkDynamicAopProxy.java:244)\\n\\tat jdk.proxy4/jdk.proxy4.$Proxy177.deleteAll(Unknown Source)\\n\\tat dev.pulceo.prm.service.TaskService.reset(TaskService.java:282)\\n\\tat java.base/jdk.internal.reflect.NativeMethodAccessorImpl.invoke0(Native Method)\\n\\tat java.base/jdk.internal.reflect.NativeMethodAccessorImpl.invoke(NativeMethodAccessorImpl.java:77)\\n\\tat java.base/jdk.internal.reflect.DelegatingMethodAccessorImpl.invoke(DelegatingMethodAccessorImpl.java:43)\\n\\tat java.base/java.lang.reflect.Method.invoke(Method.java:569)\\n\\tat org.springframework.aop.support.AopUtils.invokeJoinpointUsingReflection(AopUtils.java:343)\\n\\tat org.springframework.aop.framework.CglibAopProxy$DynamicAdvisedInterceptor.intercept(CglibAopProxy.java:699)\\n\\tat dev.pulceo.prm.service.TaskService$$SpringCGLIB$$0.reset(<generated>)\\n\\tat dev.pulceo.prm.controller.OrchestrationContextController.deleteOrchestrationContext(OrchestrationContextController.java:47)\\n\\tat java.base/jdk.internal.reflect.NativeMethodAccessorImpl.invoke0(Native Method)\\n\\tat java.base/jdk.internal.reflect.NativeMethodAccessorImpl.invoke(NativeMethodAccessorImpl.java:77)\\n\\tat java.base/jdk.internal.reflect.DelegatingMethodAccessorImpl.invoke(DelegatingMethodAccessorImpl.java:43)\\n\\tat java.base/java.lang.reflect.Method.invoke(Method.java:569)\\n\\tat org.springframework.web.method.support.InvocableHandlerMethod.doInvoke(InvocableHandlerMethod.java:205)\\n\\tat org.springframework.web.method.support.InvocableHandlerMethod.invokeForRequest(InvocableHandlerMethod.java:150)\\n\\tat org.springframework.web.servlet.mvc.method.annotation.ServletInvocableHandlerMethod.invokeAndHandle(ServletInvocableHandlerMethod.java:118)\\n\\tat org.springframework.web.servlet.mvc.method.annotation.RequestMappingHandlerAdapter.invokeHandlerMethod(RequestMappingHandlerAdapter.java:884)\\n\\tat org.springframework.web.servlet.mvc.method.annotation.RequestMappingHandlerAdapter.handleInternal(RequestMappingHandlerAdapter.java:797)\\n\\tat org.springframework.web.servlet.mvc.method.AbstractHandlerMethodAdapter.handle(AbstractHandlerMethodAdapter.java:87)\\n\\tat org.springframework.web.servlet.DispatcherServlet.doDispatch(DispatcherServlet.java:1081)\\n\\tat org.springframework.web.servlet.DispatcherServlet.doService(DispatcherServlet.java:974)\\n\\tat org.springframework.web.servlet.FrameworkServlet.processRequest(FrameworkServlet.java:1011)\\n\\tat org.springframework.web.servlet.FrameworkServlet.doPost(FrameworkServlet.java:914)\\n\\tat jakarta.servlet.http.HttpServlet.service(HttpServlet.java:590)\\n\\tat org.springframework.web.servlet.FrameworkServlet.service(FrameworkServlet.java:885)\\n\\tat jakarta.servlet.http.HttpServlet.service(HttpServlet.java:658)\\n\\tat org.apache.catalina.core.ApplicationFilterChain.internalDoFilter(ApplicationFilterChain.java:205)\\n\\tat org.apache.catalina.core.ApplicationFilterChain.doFilter(ApplicationFilterChain.java:149)\\n\\tat org.apache.tomcat.websocket.server.WsFilter.doFilter(WsFilter.java:51)\\n\\tat org.apache.catalina.core.ApplicationFilterChain.internalDoFilter(ApplicationFilterChain.java:174)\\n\\tat org.apache.catalina.core.ApplicationFilterChain.doFilter(ApplicationFilterChain.java:149)\\n\\tat org.springframework.web.filter.RequestContextFilter.doFilterInternal(RequestContextFilter.java:100)\\n\\tat org.springframework.web.filter.OncePerRequestFilter.doFilter(OncePerRequestFilter.java:116)\\n\\tat org.apache.catalina.core.ApplicationFilterChain.internalDoFilter(ApplicationFilterChain.java:174)\\n\\tat org.apache.catalina.core.ApplicationFilterChain.doFilter(ApplicationFilterChain.java:149)\\n\\tat org.springframework.web.filter.FormContentFilter.doFilterInternal(FormContentFilter.java:93)\\n\\tat org.springframework.web.filter.OncePerRequestFilter.doFilter(OncePerRequestFilter.java:116)\\n\\tat org.apache.catalina.core.ApplicationFilterChain.internalDoFilter(ApplicationFilterChain.java:174)\\n\\tat org.apache.catalina.core.ApplicationFilterChain.doFilter(ApplicationFilterChain.java:149)\\n\\tat org.springframework.web.filter.CharacterEncodingFilter.doFilterInternal(CharacterEncodingFilter.java:201)\\n\\tat org.springframework.web.filter.OncePerRequestFilter.doFilter(OncePerRequestFilter.java:116)\\n\\tat org.apache.catalina.core.ApplicationFilterChain.internalDoFilter(ApplicationFilterChain.java:174)\\n\\tat org.apache.catalina.core.ApplicationFilterChain.doFilter(ApplicationFilterChain.java:149)\\n\\tat org.apache.catalina.core.StandardWrapperValve.invoke(StandardWrapperValve.java:167)\\n\\tat org.apache.catalina.core.StandardContextValve.invoke(StandardContextValve.java:90)\\n\\tat org.apache.catalina.authenticator.AuthenticatorBase.invoke(AuthenticatorBase.java:482)\\n\\tat org.apache.catalina.core.StandardHostValve.invoke(StandardHostValve.java:115)\\n\\tat org.apache.catalina.valves.ErrorReportValve.invoke(ErrorReportValve.java:93)\\n\\tat org.apache.catalina.core.StandardEngineValve.invoke(StandardEngineValve.java:74)\\n\\tat org.apache.catalina.connector.CoyoteAdapter.service(CoyoteAdapter.java:340)\\n\\tat org.apache.coyote.http11.Http11Processor.service(Http11Processor.java:391)\\n\\tat org.apache.coyote.AbstractProcessorLight.process(AbstractProcessorLight.java:63)\\n\\tat org.apache.coyote.AbstractProtocol$ConnectionHandler.process(AbstractProtocol.java:896)\\n\\tat org.apache.tomcat.util.net.NioEndpoint$SocketProcessor.doRun(NioEndpoint.java:1744)\\n\\tat org.apache.tomcat.util.net.SocketProcessorBase.run(SocketProcessorBase.java:52)\\n\\tat org.apache.tomcat.util.threads.ThreadPoolExecutor.runWorker(ThreadPoolExecutor.java:1191)\\n\\tat org.apache.tomcat.util.threads.ThreadPoolExecutor$Worker.run(ThreadPoolExecutor.java:659)\\n\\tat org.apache.tomcat.util.threads.TaskThread$WrappingRunnable.run(TaskThread.java:61)\\n\\tat java.base/java.lang.Thread.run(Thread.java:840)\\nCaused by: org.hibernate.exception.ConstraintViolationException: could not execute statement [Referential integrity constraint violation: \\\"FK27XDLB1CIXVJYRU7TFI8LRDTM: PUBLIC.TASK_PROPERTIES FOREIGN KEY(TASK_PROPERTY_ID) REFERENCES PUBLIC.TASK(ID) (CAST(1 AS BIGINT))\\\"; SQL statement:\\ndelete from task where id=? and version=? [23503-224]] [delete from task where id=? and version=?]\\n\\tat org.hibernate.exception.internal.SQLExceptionTypeDelegate.convert(SQLExceptionTypeDelegate.java:60)\\n\\tat org.hibernate.exception.internal.StandardSQLExceptionConverter.convert(StandardSQLExceptionConverter.java:56)\\n\\tat org.hibernate.engine.jdbc.spi.SqlExceptionHelper.convert(SqlExceptionHelper.java:108)\\n\\tat org.hibernate.engine.jdbc.internal.ResultSetReturnImpl.executeUpdate(ResultSetReturnImpl.java:278)\\n\\tat org.hibernate.engine.jdbc.mutation.internal.AbstractMutationExecutor.performNonBatchedMutation(AbstractMutationExecutor.java:107)\\n\\tat org.hibernate.engine.jdbc.mutation.internal.MutationExecutorSingleNonBatched.performNonBatchedOperations(MutationExecutorSingleNonBatched.java:40)\\n\\tat org.hibernate.engine.jdbc.mutation.internal.AbstractMutationExecutor.execute(AbstractMutationExecutor.java:52)\\n\\tat org.hibernate.persister.entity.mutation.DeleteCoordinator.doStaticDelete(DeleteCoordinator.java:304)\\n\\tat org.hibernate.persister.entity.mutation.DeleteCoordinator.coordinateDelete(DeleteCoordinator.java:89)\\n\\tat org.hibernate.persister.entity.AbstractEntityPersister.delete(AbstractEntityPersister.java:2891)\\n\\tat org.hibernate.action.internal.EntityDeleteAction.execute(EntityDeleteAction.java:131)\\n\\tat org.hibernate.engine.spi.ActionQueue.executeActions(ActionQueue.java:635)\\n\\tat org.hibernate.engine.spi.ActionQueue.executeActions(ActionQueue.java:502)\\n\\tat org.hibernate.event.internal.AbstractFlushingEventListener.performExecutions(AbstractFlushingEventListener.java:364)\\n\\tat org.hibernate.event.internal.DefaultFlushEventListener.onFlush(DefaultFlushEventListener.java:39)\\n\\tat org.hibernate.event.service.internal.EventListenerGroupImpl.fireEventOnEachListener(EventListenerGroupImpl.java:127)\\n\\tat org.hibernate.internal.SessionImpl.doFlush(SessionImpl.java:1412)\\n\\tat org.hibernate.internal.SessionImpl.managedFlush(SessionImpl.java:485)\\n\\tat org.hibernate.internal.SessionImpl.flushBeforeTransactionCompletion(SessionImpl.java:2301)\\n\\tat org.hibernate.internal.SessionImpl.beforeTransactionCompletion(SessionImpl.java:1966)\\n\\tat org.hibernate.engine.jdbc.internal.JdbcCoordinatorImpl.beforeTransactionCompletion(JdbcCoordinatorImpl.java:439)\\n\\tat org.hibernate.resource.transaction.backend.jdbc.internal.JdbcResourceLocalTransactionCoordinatorImpl.beforeCompletionCallback(JdbcResourceLocalTransactionCoordinatorImpl.java:169)\\n\\tat org.hibernate.resource.transaction.backend.jdbc.internal.JdbcResourceLocalTransactionCoordinatorImpl$TransactionDriverControlImpl.commit(JdbcResourceLocalTransactionCoordinatorImpl.java:267)\\n\\tat org.hibernate.engine.transaction.internal.TransactionImpl.commit(TransactionImpl.java:101)\\n\\tat org.springframework.orm.jpa.JpaTransactionManager.doCommit(JpaTransactionManager.java:561)\\n\\t... 73 more\\nCaused by: org.h2.jdbc.JdbcSQLIntegrityConstraintViolationException: Referential integrity constraint violation: \\\"FK27XDLB1CIXVJYRU7TFI8LRDTM: PUBLIC.TASK_PROPERTIES FOREIGN KEY(TASK_PROPERTY_ID) REFERENCES PUBLIC.TASK(ID) (CAST(1 AS BIGINT))\\\"; SQL statement:\\ndelete from task where id=? and version=? [23503-224]\\n\\tat org.h2.message.DbException.getJdbcSQLException(DbException.java:520)\\n\\tat org.h2.message.DbException.getJdbcSQLException(DbException.java:489)\\n\\tat org.h2.message.DbException.get(DbException.java:223)\\n\\tat org.h2.message.DbException.get(DbException.java:199)\\n\\tat org.h2.constraint.ConstraintReferential.checkRow(ConstraintReferential.java:365)\\n\\tat org.h2.constraint.ConstraintReferential.checkRowRefTable(ConstraintReferential.java:382)\\n\\tat org.h2.constraint.ConstraintReferential.checkRow(ConstraintReferential.java:256)\\n\\tat org.h2.table.Table.fireConstraints(Table.java:1200)\\n\\tat org.h2.table.Table.fireAfterRow(Table.java:1218)\\n\\tat org.h2.command.dml.Delete.update(Delete.java:92)\\n\\tat org.h2.command.dml.DataChangeStatement.update(DataChangeStatement.java:74)\\n\\tat org.h2.command.CommandContainer.update(CommandContainer.java:169)\\n\\tat org.h2.command.Command.executeUpdate(Command.java:256)\\n\\tat org.h2.jdbc.JdbcPreparedStatement.executeUpdateInternal(JdbcPreparedStatement.java:216)\\n\\tat org.h2.jdbc.JdbcPreparedStatement.executeUpdate(JdbcPreparedStatement.java:174)\\n\\tat com.zaxxer.hikari.pool.ProxyPreparedStatement.executeUpdate(ProxyPreparedStatement.java:61)\\n\\tat com.zaxxer.hikari.pool.HikariProxyPreparedStatement.executeUpdate(HikariProxyPreparedStatement.java)\\n\\tat org.hibernate.engine.jdbc.internal.ResultSetReturnImpl.executeUpdate(ResultSetReturnImpl.java:275)\\n\\t... 94 more\\n\",\"message\":\"could not execute statement [Referential integrity constraint violation: \\\"FK27XDLB1CIXVJYRU7TFI8LRDTM: PUBLIC.TASK_PROPERTIES FOREIGN KEY(TASK_PROPERTY_ID) REFERENCES PUBLIC.TASK(ID) (CAST(1 AS BIGINT))\\\"; SQL statement:\\ndelete from task where id=? and version=? [23503-224]] [delete from task where id=? and version=?]; SQL [delete from task where id=? and version=?]; constraint [\\\"FK27XDLB1CIXVJYRU7TFI8LRDTM: PUBLIC.TASK_PROPERTIES FOREIGN KEY(TASK_PROPERTY_ID) REFERENCES PUBLIC.TASK(ID) (CAST(1 AS BIGINT))\\\"; SQL statement:\\ndelete from task where id=? and version=? [23503-224]]\",\"path\":\"/api/v1/orchestration-context/reset\"}\n"
     ]
    },
    {
     "ename": "Exception",
     "evalue": "Failed to reset orchestration context: 500, {\"timestamp\":\"2025-08-26T09:32:47.835+00:00\",\"status\":500,\"error\":\"Internal Server Error\",\"trace\":\"org.springframework.dao.DataIntegrityViolationException: could not execute statement [Referential integrity constraint violation: \\\"FK27XDLB1CIXVJYRU7TFI8LRDTM: PUBLIC.TASK_PROPERTIES FOREIGN KEY(TASK_PROPERTY_ID) REFERENCES PUBLIC.TASK(ID) (CAST(1 AS BIGINT))\\\"; SQL statement:\\ndelete from task where id=? and version=? [23503-224]] [delete from task where id=? and version=?]; SQL [delete from task where id=? and version=?]; constraint [\\\"FK27XDLB1CIXVJYRU7TFI8LRDTM: PUBLIC.TASK_PROPERTIES FOREIGN KEY(TASK_PROPERTY_ID) REFERENCES PUBLIC.TASK(ID) (CAST(1 AS BIGINT))\\\"; SQL statement:\\ndelete from task where id=? and version=? [23503-224]]\\n\\tat org.springframework.orm.jpa.vendor.HibernateJpaDialect.convertHibernateAccessException(HibernateJpaDialect.java:269)\\n\\tat org.springframework.orm.jpa.vendor.HibernateJpaDialect.translateExceptionIfPossible(HibernateJpaDialect.java:229)\\n\\tat org.springframework.orm.jpa.JpaTransactionManager.doCommit(JpaTransactionManager.java:565)\\n\\tat org.springframework.transaction.support.AbstractPlatformTransactionManager.processCommit(AbstractPlatformTransactionManager.java:743)\\n\\tat org.springframework.transaction.support.AbstractPlatformTransactionManager.commit(AbstractPlatformTransactionManager.java:711)\\n\\tat org.springframework.transaction.interceptor.TransactionAspectSupport.commitTransactionAfterReturning(TransactionAspectSupport.java:660)\\n\\tat org.springframework.transaction.interceptor.TransactionAspectSupport.invokeWithinTransaction(TransactionAspectSupport.java:410)\\n\\tat org.springframework.transaction.interceptor.TransactionInterceptor.invoke(TransactionInterceptor.java:119)\\n\\tat org.springframework.aop.framework.ReflectiveMethodInvocation.proceed(ReflectiveMethodInvocation.java:184)\\n\\tat org.springframework.dao.support.PersistenceExceptionTranslationInterceptor.invoke(PersistenceExceptionTranslationInterceptor.java:137)\\n\\tat org.springframework.aop.framework.ReflectiveMethodInvocation.proceed(ReflectiveMethodInvocation.java:184)\\n\\tat org.springframework.data.jpa.repository.support.CrudMethodMetadataPostProcessor$CrudMethodMetadataPopulatingMethodInterceptor.invoke(CrudMethodMetadataPostProcessor.java:164)\\n\\tat org.springframework.aop.framework.ReflectiveMethodInvocation.proceed(ReflectiveMethodInvocation.java:184)\\n\\tat org.springframework.aop.interceptor.ExposeInvocationInterceptor.invoke(ExposeInvocationInterceptor.java:97)\\n\\tat org.springframework.aop.framework.ReflectiveMethodInvocation.proceed(ReflectiveMethodInvocation.java:184)\\n\\tat org.springframework.aop.framework.JdkDynamicAopProxy.invoke(JdkDynamicAopProxy.java:244)\\n\\tat jdk.proxy4/jdk.proxy4.$Proxy177.deleteAll(Unknown Source)\\n\\tat dev.pulceo.prm.service.TaskService.reset(TaskService.java:282)\\n\\tat java.base/jdk.internal.reflect.NativeMethodAccessorImpl.invoke0(Native Method)\\n\\tat java.base/jdk.internal.reflect.NativeMethodAccessorImpl.invoke(NativeMethodAccessorImpl.java:77)\\n\\tat java.base/jdk.internal.reflect.DelegatingMethodAccessorImpl.invoke(DelegatingMethodAccessorImpl.java:43)\\n\\tat java.base/java.lang.reflect.Method.invoke(Method.java:569)\\n\\tat org.springframework.aop.support.AopUtils.invokeJoinpointUsingReflection(AopUtils.java:343)\\n\\tat org.springframework.aop.framework.CglibAopProxy$DynamicAdvisedInterceptor.intercept(CglibAopProxy.java:699)\\n\\tat dev.pulceo.prm.service.TaskService$$SpringCGLIB$$0.reset(<generated>)\\n\\tat dev.pulceo.prm.controller.OrchestrationContextController.deleteOrchestrationContext(OrchestrationContextController.java:47)\\n\\tat java.base/jdk.internal.reflect.NativeMethodAccessorImpl.invoke0(Native Method)\\n\\tat java.base/jdk.internal.reflect.NativeMethodAccessorImpl.invoke(NativeMethodAccessorImpl.java:77)\\n\\tat java.base/jdk.internal.reflect.DelegatingMethodAccessorImpl.invoke(DelegatingMethodAccessorImpl.java:43)\\n\\tat java.base/java.lang.reflect.Method.invoke(Method.java:569)\\n\\tat org.springframework.web.method.support.InvocableHandlerMethod.doInvoke(InvocableHandlerMethod.java:205)\\n\\tat org.springframework.web.method.support.InvocableHandlerMethod.invokeForRequest(InvocableHandlerMethod.java:150)\\n\\tat org.springframework.web.servlet.mvc.method.annotation.ServletInvocableHandlerMethod.invokeAndHandle(ServletInvocableHandlerMethod.java:118)\\n\\tat org.springframework.web.servlet.mvc.method.annotation.RequestMappingHandlerAdapter.invokeHandlerMethod(RequestMappingHandlerAdapter.java:884)\\n\\tat org.springframework.web.servlet.mvc.method.annotation.RequestMappingHandlerAdapter.handleInternal(RequestMappingHandlerAdapter.java:797)\\n\\tat org.springframework.web.servlet.mvc.method.AbstractHandlerMethodAdapter.handle(AbstractHandlerMethodAdapter.java:87)\\n\\tat org.springframework.web.servlet.DispatcherServlet.doDispatch(DispatcherServlet.java:1081)\\n\\tat org.springframework.web.servlet.DispatcherServlet.doService(DispatcherServlet.java:974)\\n\\tat org.springframework.web.servlet.FrameworkServlet.processRequest(FrameworkServlet.java:1011)\\n\\tat org.springframework.web.servlet.FrameworkServlet.doPost(FrameworkServlet.java:914)\\n\\tat jakarta.servlet.http.HttpServlet.service(HttpServlet.java:590)\\n\\tat org.springframework.web.servlet.FrameworkServlet.service(FrameworkServlet.java:885)\\n\\tat jakarta.servlet.http.HttpServlet.service(HttpServlet.java:658)\\n\\tat org.apache.catalina.core.ApplicationFilterChain.internalDoFilter(ApplicationFilterChain.java:205)\\n\\tat org.apache.catalina.core.ApplicationFilterChain.doFilter(ApplicationFilterChain.java:149)\\n\\tat org.apache.tomcat.websocket.server.WsFilter.doFilter(WsFilter.java:51)\\n\\tat org.apache.catalina.core.ApplicationFilterChain.internalDoFilter(ApplicationFilterChain.java:174)\\n\\tat org.apache.catalina.core.ApplicationFilterChain.doFilter(ApplicationFilterChain.java:149)\\n\\tat org.springframework.web.filter.RequestContextFilter.doFilterInternal(RequestContextFilter.java:100)\\n\\tat org.springframework.web.filter.OncePerRequestFilter.doFilter(OncePerRequestFilter.java:116)\\n\\tat org.apache.catalina.core.ApplicationFilterChain.internalDoFilter(ApplicationFilterChain.java:174)\\n\\tat org.apache.catalina.core.ApplicationFilterChain.doFilter(ApplicationFilterChain.java:149)\\n\\tat org.springframework.web.filter.FormContentFilter.doFilterInternal(FormContentFilter.java:93)\\n\\tat org.springframework.web.filter.OncePerRequestFilter.doFilter(OncePerRequestFilter.java:116)\\n\\tat org.apache.catalina.core.ApplicationFilterChain.internalDoFilter(ApplicationFilterChain.java:174)\\n\\tat org.apache.catalina.core.ApplicationFilterChain.doFilter(ApplicationFilterChain.java:149)\\n\\tat org.springframework.web.filter.CharacterEncodingFilter.doFilterInternal(CharacterEncodingFilter.java:201)\\n\\tat org.springframework.web.filter.OncePerRequestFilter.doFilter(OncePerRequestFilter.java:116)\\n\\tat org.apache.catalina.core.ApplicationFilterChain.internalDoFilter(ApplicationFilterChain.java:174)\\n\\tat org.apache.catalina.core.ApplicationFilterChain.doFilter(ApplicationFilterChain.java:149)\\n\\tat org.apache.catalina.core.StandardWrapperValve.invoke(StandardWrapperValve.java:167)\\n\\tat org.apache.catalina.core.StandardContextValve.invoke(StandardContextValve.java:90)\\n\\tat org.apache.catalina.authenticator.AuthenticatorBase.invoke(AuthenticatorBase.java:482)\\n\\tat org.apache.catalina.core.StandardHostValve.invoke(StandardHostValve.java:115)\\n\\tat org.apache.catalina.valves.ErrorReportValve.invoke(ErrorReportValve.java:93)\\n\\tat org.apache.catalina.core.StandardEngineValve.invoke(StandardEngineValve.java:74)\\n\\tat org.apache.catalina.connector.CoyoteAdapter.service(CoyoteAdapter.java:340)\\n\\tat org.apache.coyote.http11.Http11Processor.service(Http11Processor.java:391)\\n\\tat org.apache.coyote.AbstractProcessorLight.process(AbstractProcessorLight.java:63)\\n\\tat org.apache.coyote.AbstractProtocol$ConnectionHandler.process(AbstractProtocol.java:896)\\n\\tat org.apache.tomcat.util.net.NioEndpoint$SocketProcessor.doRun(NioEndpoint.java:1744)\\n\\tat org.apache.tomcat.util.net.SocketProcessorBase.run(SocketProcessorBase.java:52)\\n\\tat org.apache.tomcat.util.threads.ThreadPoolExecutor.runWorker(ThreadPoolExecutor.java:1191)\\n\\tat org.apache.tomcat.util.threads.ThreadPoolExecutor$Worker.run(ThreadPoolExecutor.java:659)\\n\\tat org.apache.tomcat.util.threads.TaskThread$WrappingRunnable.run(TaskThread.java:61)\\n\\tat java.base/java.lang.Thread.run(Thread.java:840)\\nCaused by: org.hibernate.exception.ConstraintViolationException: could not execute statement [Referential integrity constraint violation: \\\"FK27XDLB1CIXVJYRU7TFI8LRDTM: PUBLIC.TASK_PROPERTIES FOREIGN KEY(TASK_PROPERTY_ID) REFERENCES PUBLIC.TASK(ID) (CAST(1 AS BIGINT))\\\"; SQL statement:\\ndelete from task where id=? and version=? [23503-224]] [delete from task where id=? and version=?]\\n\\tat org.hibernate.exception.internal.SQLExceptionTypeDelegate.convert(SQLExceptionTypeDelegate.java:60)\\n\\tat org.hibernate.exception.internal.StandardSQLExceptionConverter.convert(StandardSQLExceptionConverter.java:56)\\n\\tat org.hibernate.engine.jdbc.spi.SqlExceptionHelper.convert(SqlExceptionHelper.java:108)\\n\\tat org.hibernate.engine.jdbc.internal.ResultSetReturnImpl.executeUpdate(ResultSetReturnImpl.java:278)\\n\\tat org.hibernate.engine.jdbc.mutation.internal.AbstractMutationExecutor.performNonBatchedMutation(AbstractMutationExecutor.java:107)\\n\\tat org.hibernate.engine.jdbc.mutation.internal.MutationExecutorSingleNonBatched.performNonBatchedOperations(MutationExecutorSingleNonBatched.java:40)\\n\\tat org.hibernate.engine.jdbc.mutation.internal.AbstractMutationExecutor.execute(AbstractMutationExecutor.java:52)\\n\\tat org.hibernate.persister.entity.mutation.DeleteCoordinator.doStaticDelete(DeleteCoordinator.java:304)\\n\\tat org.hibernate.persister.entity.mutation.DeleteCoordinator.coordinateDelete(DeleteCoordinator.java:89)\\n\\tat org.hibernate.persister.entity.AbstractEntityPersister.delete(AbstractEntityPersister.java:2891)\\n\\tat org.hibernate.action.internal.EntityDeleteAction.execute(EntityDeleteAction.java:131)\\n\\tat org.hibernate.engine.spi.ActionQueue.executeActions(ActionQueue.java:635)\\n\\tat org.hibernate.engine.spi.ActionQueue.executeActions(ActionQueue.java:502)\\n\\tat org.hibernate.event.internal.AbstractFlushingEventListener.performExecutions(AbstractFlushingEventListener.java:364)\\n\\tat org.hibernate.event.internal.DefaultFlushEventListener.onFlush(DefaultFlushEventListener.java:39)\\n\\tat org.hibernate.event.service.internal.EventListenerGroupImpl.fireEventOnEachListener(EventListenerGroupImpl.java:127)\\n\\tat org.hibernate.internal.SessionImpl.doFlush(SessionImpl.java:1412)\\n\\tat org.hibernate.internal.SessionImpl.managedFlush(SessionImpl.java:485)\\n\\tat org.hibernate.internal.SessionImpl.flushBeforeTransactionCompletion(SessionImpl.java:2301)\\n\\tat org.hibernate.internal.SessionImpl.beforeTransactionCompletion(SessionImpl.java:1966)\\n\\tat org.hibernate.engine.jdbc.internal.JdbcCoordinatorImpl.beforeTransactionCompletion(JdbcCoordinatorImpl.java:439)\\n\\tat org.hibernate.resource.transaction.backend.jdbc.internal.JdbcResourceLocalTransactionCoordinatorImpl.beforeCompletionCallback(JdbcResourceLocalTransactionCoordinatorImpl.java:169)\\n\\tat org.hibernate.resource.transaction.backend.jdbc.internal.JdbcResourceLocalTransactionCoordinatorImpl$TransactionDriverControlImpl.commit(JdbcResourceLocalTransactionCoordinatorImpl.java:267)\\n\\tat org.hibernate.engine.transaction.internal.TransactionImpl.commit(TransactionImpl.java:101)\\n\\tat org.springframework.orm.jpa.JpaTransactionManager.doCommit(JpaTransactionManager.java:561)\\n\\t... 73 more\\nCaused by: org.h2.jdbc.JdbcSQLIntegrityConstraintViolationException: Referential integrity constraint violation: \\\"FK27XDLB1CIXVJYRU7TFI8LRDTM: PUBLIC.TASK_PROPERTIES FOREIGN KEY(TASK_PROPERTY_ID) REFERENCES PUBLIC.TASK(ID) (CAST(1 AS BIGINT))\\\"; SQL statement:\\ndelete from task where id=? and version=? [23503-224]\\n\\tat org.h2.message.DbException.getJdbcSQLException(DbException.java:520)\\n\\tat org.h2.message.DbException.getJdbcSQLException(DbException.java:489)\\n\\tat org.h2.message.DbException.get(DbException.java:223)\\n\\tat org.h2.message.DbException.get(DbException.java:199)\\n\\tat org.h2.constraint.ConstraintReferential.checkRow(ConstraintReferential.java:365)\\n\\tat org.h2.constraint.ConstraintReferential.checkRowRefTable(ConstraintReferential.java:382)\\n\\tat org.h2.constraint.ConstraintReferential.checkRow(ConstraintReferential.java:256)\\n\\tat org.h2.table.Table.fireConstraints(Table.java:1200)\\n\\tat org.h2.table.Table.fireAfterRow(Table.java:1218)\\n\\tat org.h2.command.dml.Delete.update(Delete.java:92)\\n\\tat org.h2.command.dml.DataChangeStatement.update(DataChangeStatement.java:74)\\n\\tat org.h2.command.CommandContainer.update(CommandContainer.java:169)\\n\\tat org.h2.command.Command.executeUpdate(Command.java:256)\\n\\tat org.h2.jdbc.JdbcPreparedStatement.executeUpdateInternal(JdbcPreparedStatement.java:216)\\n\\tat org.h2.jdbc.JdbcPreparedStatement.executeUpdate(JdbcPreparedStatement.java:174)\\n\\tat com.zaxxer.hikari.pool.ProxyPreparedStatement.executeUpdate(ProxyPreparedStatement.java:61)\\n\\tat com.zaxxer.hikari.pool.HikariProxyPreparedStatement.executeUpdate(HikariProxyPreparedStatement.java)\\n\\tat org.hibernate.engine.jdbc.internal.ResultSetReturnImpl.executeUpdate(ResultSetReturnImpl.java:275)\\n\\t... 94 more\\n\",\"message\":\"could not execute statement [Referential integrity constraint violation: \\\"FK27XDLB1CIXVJYRU7TFI8LRDTM: PUBLIC.TASK_PROPERTIES FOREIGN KEY(TASK_PROPERTY_ID) REFERENCES PUBLIC.TASK(ID) (CAST(1 AS BIGINT))\\\"; SQL statement:\\ndelete from task where id=? and version=? [23503-224]] [delete from task where id=? and version=?]; SQL [delete from task where id=? and version=?]; constraint [\\\"FK27XDLB1CIXVJYRU7TFI8LRDTM: PUBLIC.TASK_PROPERTIES FOREIGN KEY(TASK_PROPERTY_ID) REFERENCES PUBLIC.TASK(ID) (CAST(1 AS BIGINT))\\\"; SQL statement:\\ndelete from task where id=? and version=? [23503-224]]\",\"path\":\"/api/v1/orchestration-context/reset\"}",
     "output_type": "error",
     "traceback": [
      "\u001b[31m---------------------------------------------------------------------------\u001b[39m",
      "\u001b[31mException\u001b[39m                                 Traceback (most recent call last)",
      "\u001b[36mCell\u001b[39m\u001b[36m \u001b[39m\u001b[32mIn[14]\u001b[39m\u001b[32m, line 2\u001b[39m\n\u001b[32m      1\u001b[39m \u001b[38;5;66;03m## reset orchestration context\u001b[39;00m\n\u001b[32m----> \u001b[39m\u001b[32m2\u001b[39m \u001b[43mpulceo_api\u001b[49m\u001b[43m.\u001b[49m\u001b[43mreset_orchestration_context\u001b[49m\u001b[43m(\u001b[49m\u001b[43m)\u001b[49m\n",
      "\u001b[36mFile \u001b[39m\u001b[32m~/git/dissertation/pulceo-misc/examples/summersoc2025/pulceo/sdk.py:79\u001b[39m, in \u001b[36mAPI.reset_orchestration_context\u001b[39m\u001b[34m(self)\u001b[39m\n\u001b[32m     77\u001b[39m \u001b[38;5;28;01melse\u001b[39;00m:\n\u001b[32m     78\u001b[39m     \u001b[38;5;28mprint\u001b[39m(\u001b[33mf\u001b[39m\u001b[33m\"\u001b[39m\u001b[33mFailed to reset orchestration context: \u001b[39m\u001b[38;5;132;01m{\u001b[39;00mresponse.status_code\u001b[38;5;132;01m}\u001b[39;00m\u001b[33m, \u001b[39m\u001b[38;5;132;01m{\u001b[39;00mresponse.text\u001b[38;5;132;01m}\u001b[39;00m\u001b[33m\"\u001b[39m)\n\u001b[32m---> \u001b[39m\u001b[32m79\u001b[39m     \u001b[38;5;28;01mraise\u001b[39;00m \u001b[38;5;167;01mException\u001b[39;00m(\u001b[33mf\u001b[39m\u001b[33m\"\u001b[39m\u001b[33mFailed to reset orchestration context: \u001b[39m\u001b[38;5;132;01m{\u001b[39;00mresponse.status_code\u001b[38;5;132;01m}\u001b[39;00m\u001b[33m, \u001b[39m\u001b[38;5;132;01m{\u001b[39;00mresponse.text\u001b[38;5;132;01m}\u001b[39;00m\u001b[33m\"\u001b[39m)\n",
      "\u001b[31mException\u001b[39m: Failed to reset orchestration context: 500, {\"timestamp\":\"2025-08-26T09:32:47.835+00:00\",\"status\":500,\"error\":\"Internal Server Error\",\"trace\":\"org.springframework.dao.DataIntegrityViolationException: could not execute statement [Referential integrity constraint violation: \\\"FK27XDLB1CIXVJYRU7TFI8LRDTM: PUBLIC.TASK_PROPERTIES FOREIGN KEY(TASK_PROPERTY_ID) REFERENCES PUBLIC.TASK(ID) (CAST(1 AS BIGINT))\\\"; SQL statement:\\ndelete from task where id=? and version=? [23503-224]] [delete from task where id=? and version=?]; SQL [delete from task where id=? and version=?]; constraint [\\\"FK27XDLB1CIXVJYRU7TFI8LRDTM: PUBLIC.TASK_PROPERTIES FOREIGN KEY(TASK_PROPERTY_ID) REFERENCES PUBLIC.TASK(ID) (CAST(1 AS BIGINT))\\\"; SQL statement:\\ndelete from task where id=? and version=? [23503-224]]\\n\\tat org.springframework.orm.jpa.vendor.HibernateJpaDialect.convertHibernateAccessException(HibernateJpaDialect.java:269)\\n\\tat org.springframework.orm.jpa.vendor.HibernateJpaDialect.translateExceptionIfPossible(HibernateJpaDialect.java:229)\\n\\tat org.springframework.orm.jpa.JpaTransactionManager.doCommit(JpaTransactionManager.java:565)\\n\\tat org.springframework.transaction.support.AbstractPlatformTransactionManager.processCommit(AbstractPlatformTransactionManager.java:743)\\n\\tat org.springframework.transaction.support.AbstractPlatformTransactionManager.commit(AbstractPlatformTransactionManager.java:711)\\n\\tat org.springframework.transaction.interceptor.TransactionAspectSupport.commitTransactionAfterReturning(TransactionAspectSupport.java:660)\\n\\tat org.springframework.transaction.interceptor.TransactionAspectSupport.invokeWithinTransaction(TransactionAspectSupport.java:410)\\n\\tat org.springframework.transaction.interceptor.TransactionInterceptor.invoke(TransactionInterceptor.java:119)\\n\\tat org.springframework.aop.framework.ReflectiveMethodInvocation.proceed(ReflectiveMethodInvocation.java:184)\\n\\tat org.springframework.dao.support.PersistenceExceptionTranslationInterceptor.invoke(PersistenceExceptionTranslationInterceptor.java:137)\\n\\tat org.springframework.aop.framework.ReflectiveMethodInvocation.proceed(ReflectiveMethodInvocation.java:184)\\n\\tat org.springframework.data.jpa.repository.support.CrudMethodMetadataPostProcessor$CrudMethodMetadataPopulatingMethodInterceptor.invoke(CrudMethodMetadataPostProcessor.java:164)\\n\\tat org.springframework.aop.framework.ReflectiveMethodInvocation.proceed(ReflectiveMethodInvocation.java:184)\\n\\tat org.springframework.aop.interceptor.ExposeInvocationInterceptor.invoke(ExposeInvocationInterceptor.java:97)\\n\\tat org.springframework.aop.framework.ReflectiveMethodInvocation.proceed(ReflectiveMethodInvocation.java:184)\\n\\tat org.springframework.aop.framework.JdkDynamicAopProxy.invoke(JdkDynamicAopProxy.java:244)\\n\\tat jdk.proxy4/jdk.proxy4.$Proxy177.deleteAll(Unknown Source)\\n\\tat dev.pulceo.prm.service.TaskService.reset(TaskService.java:282)\\n\\tat java.base/jdk.internal.reflect.NativeMethodAccessorImpl.invoke0(Native Method)\\n\\tat java.base/jdk.internal.reflect.NativeMethodAccessorImpl.invoke(NativeMethodAccessorImpl.java:77)\\n\\tat java.base/jdk.internal.reflect.DelegatingMethodAccessorImpl.invoke(DelegatingMethodAccessorImpl.java:43)\\n\\tat java.base/java.lang.reflect.Method.invoke(Method.java:569)\\n\\tat org.springframework.aop.support.AopUtils.invokeJoinpointUsingReflection(AopUtils.java:343)\\n\\tat org.springframework.aop.framework.CglibAopProxy$DynamicAdvisedInterceptor.intercept(CglibAopProxy.java:699)\\n\\tat dev.pulceo.prm.service.TaskService$$SpringCGLIB$$0.reset(<generated>)\\n\\tat dev.pulceo.prm.controller.OrchestrationContextController.deleteOrchestrationContext(OrchestrationContextController.java:47)\\n\\tat java.base/jdk.internal.reflect.NativeMethodAccessorImpl.invoke0(Native Method)\\n\\tat java.base/jdk.internal.reflect.NativeMethodAccessorImpl.invoke(NativeMethodAccessorImpl.java:77)\\n\\tat java.base/jdk.internal.reflect.DelegatingMethodAccessorImpl.invoke(DelegatingMethodAccessorImpl.java:43)\\n\\tat java.base/java.lang.reflect.Method.invoke(Method.java:569)\\n\\tat org.springframework.web.method.support.InvocableHandlerMethod.doInvoke(InvocableHandlerMethod.java:205)\\n\\tat org.springframework.web.method.support.InvocableHandlerMethod.invokeForRequest(InvocableHandlerMethod.java:150)\\n\\tat org.springframework.web.servlet.mvc.method.annotation.ServletInvocableHandlerMethod.invokeAndHandle(ServletInvocableHandlerMethod.java:118)\\n\\tat org.springframework.web.servlet.mvc.method.annotation.RequestMappingHandlerAdapter.invokeHandlerMethod(RequestMappingHandlerAdapter.java:884)\\n\\tat org.springframework.web.servlet.mvc.method.annotation.RequestMappingHandlerAdapter.handleInternal(RequestMappingHandlerAdapter.java:797)\\n\\tat org.springframework.web.servlet.mvc.method.AbstractHandlerMethodAdapter.handle(AbstractHandlerMethodAdapter.java:87)\\n\\tat org.springframework.web.servlet.DispatcherServlet.doDispatch(DispatcherServlet.java:1081)\\n\\tat org.springframework.web.servlet.DispatcherServlet.doService(DispatcherServlet.java:974)\\n\\tat org.springframework.web.servlet.FrameworkServlet.processRequest(FrameworkServlet.java:1011)\\n\\tat org.springframework.web.servlet.FrameworkServlet.doPost(FrameworkServlet.java:914)\\n\\tat jakarta.servlet.http.HttpServlet.service(HttpServlet.java:590)\\n\\tat org.springframework.web.servlet.FrameworkServlet.service(FrameworkServlet.java:885)\\n\\tat jakarta.servlet.http.HttpServlet.service(HttpServlet.java:658)\\n\\tat org.apache.catalina.core.ApplicationFilterChain.internalDoFilter(ApplicationFilterChain.java:205)\\n\\tat org.apache.catalina.core.ApplicationFilterChain.doFilter(ApplicationFilterChain.java:149)\\n\\tat org.apache.tomcat.websocket.server.WsFilter.doFilter(WsFilter.java:51)\\n\\tat org.apache.catalina.core.ApplicationFilterChain.internalDoFilter(ApplicationFilterChain.java:174)\\n\\tat org.apache.catalina.core.ApplicationFilterChain.doFilter(ApplicationFilterChain.java:149)\\n\\tat org.springframework.web.filter.RequestContextFilter.doFilterInternal(RequestContextFilter.java:100)\\n\\tat org.springframework.web.filter.OncePerRequestFilter.doFilter(OncePerRequestFilter.java:116)\\n\\tat org.apache.catalina.core.ApplicationFilterChain.internalDoFilter(ApplicationFilterChain.java:174)\\n\\tat org.apache.catalina.core.ApplicationFilterChain.doFilter(ApplicationFilterChain.java:149)\\n\\tat org.springframework.web.filter.FormContentFilter.doFilterInternal(FormContentFilter.java:93)\\n\\tat org.springframework.web.filter.OncePerRequestFilter.doFilter(OncePerRequestFilter.java:116)\\n\\tat org.apache.catalina.core.ApplicationFilterChain.internalDoFilter(ApplicationFilterChain.java:174)\\n\\tat org.apache.catalina.core.ApplicationFilterChain.doFilter(ApplicationFilterChain.java:149)\\n\\tat org.springframework.web.filter.CharacterEncodingFilter.doFilterInternal(CharacterEncodingFilter.java:201)\\n\\tat org.springframework.web.filter.OncePerRequestFilter.doFilter(OncePerRequestFilter.java:116)\\n\\tat org.apache.catalina.core.ApplicationFilterChain.internalDoFilter(ApplicationFilterChain.java:174)\\n\\tat org.apache.catalina.core.ApplicationFilterChain.doFilter(ApplicationFilterChain.java:149)\\n\\tat org.apache.catalina.core.StandardWrapperValve.invoke(StandardWrapperValve.java:167)\\n\\tat org.apache.catalina.core.StandardContextValve.invoke(StandardContextValve.java:90)\\n\\tat org.apache.catalina.authenticator.AuthenticatorBase.invoke(AuthenticatorBase.java:482)\\n\\tat org.apache.catalina.core.StandardHostValve.invoke(StandardHostValve.java:115)\\n\\tat org.apache.catalina.valves.ErrorReportValve.invoke(ErrorReportValve.java:93)\\n\\tat org.apache.catalina.core.StandardEngineValve.invoke(StandardEngineValve.java:74)\\n\\tat org.apache.catalina.connector.CoyoteAdapter.service(CoyoteAdapter.java:340)\\n\\tat org.apache.coyote.http11.Http11Processor.service(Http11Processor.java:391)\\n\\tat org.apache.coyote.AbstractProcessorLight.process(AbstractProcessorLight.java:63)\\n\\tat org.apache.coyote.AbstractProtocol$ConnectionHandler.process(AbstractProtocol.java:896)\\n\\tat org.apache.tomcat.util.net.NioEndpoint$SocketProcessor.doRun(NioEndpoint.java:1744)\\n\\tat org.apache.tomcat.util.net.SocketProcessorBase.run(SocketProcessorBase.java:52)\\n\\tat org.apache.tomcat.util.threads.ThreadPoolExecutor.runWorker(ThreadPoolExecutor.java:1191)\\n\\tat org.apache.tomcat.util.threads.ThreadPoolExecutor$Worker.run(ThreadPoolExecutor.java:659)\\n\\tat org.apache.tomcat.util.threads.TaskThread$WrappingRunnable.run(TaskThread.java:61)\\n\\tat java.base/java.lang.Thread.run(Thread.java:840)\\nCaused by: org.hibernate.exception.ConstraintViolationException: could not execute statement [Referential integrity constraint violation: \\\"FK27XDLB1CIXVJYRU7TFI8LRDTM: PUBLIC.TASK_PROPERTIES FOREIGN KEY(TASK_PROPERTY_ID) REFERENCES PUBLIC.TASK(ID) (CAST(1 AS BIGINT))\\\"; SQL statement:\\ndelete from task where id=? and version=? [23503-224]] [delete from task where id=? and version=?]\\n\\tat org.hibernate.exception.internal.SQLExceptionTypeDelegate.convert(SQLExceptionTypeDelegate.java:60)\\n\\tat org.hibernate.exception.internal.StandardSQLExceptionConverter.convert(StandardSQLExceptionConverter.java:56)\\n\\tat org.hibernate.engine.jdbc.spi.SqlExceptionHelper.convert(SqlExceptionHelper.java:108)\\n\\tat org.hibernate.engine.jdbc.internal.ResultSetReturnImpl.executeUpdate(ResultSetReturnImpl.java:278)\\n\\tat org.hibernate.engine.jdbc.mutation.internal.AbstractMutationExecutor.performNonBatchedMutation(AbstractMutationExecutor.java:107)\\n\\tat org.hibernate.engine.jdbc.mutation.internal.MutationExecutorSingleNonBatched.performNonBatchedOperations(MutationExecutorSingleNonBatched.java:40)\\n\\tat org.hibernate.engine.jdbc.mutation.internal.AbstractMutationExecutor.execute(AbstractMutationExecutor.java:52)\\n\\tat org.hibernate.persister.entity.mutation.DeleteCoordinator.doStaticDelete(DeleteCoordinator.java:304)\\n\\tat org.hibernate.persister.entity.mutation.DeleteCoordinator.coordinateDelete(DeleteCoordinator.java:89)\\n\\tat org.hibernate.persister.entity.AbstractEntityPersister.delete(AbstractEntityPersister.java:2891)\\n\\tat org.hibernate.action.internal.EntityDeleteAction.execute(EntityDeleteAction.java:131)\\n\\tat org.hibernate.engine.spi.ActionQueue.executeActions(ActionQueue.java:635)\\n\\tat org.hibernate.engine.spi.ActionQueue.executeActions(ActionQueue.java:502)\\n\\tat org.hibernate.event.internal.AbstractFlushingEventListener.performExecutions(AbstractFlushingEventListener.java:364)\\n\\tat org.hibernate.event.internal.DefaultFlushEventListener.onFlush(DefaultFlushEventListener.java:39)\\n\\tat org.hibernate.event.service.internal.EventListenerGroupImpl.fireEventOnEachListener(EventListenerGroupImpl.java:127)\\n\\tat org.hibernate.internal.SessionImpl.doFlush(SessionImpl.java:1412)\\n\\tat org.hibernate.internal.SessionImpl.managedFlush(SessionImpl.java:485)\\n\\tat org.hibernate.internal.SessionImpl.flushBeforeTransactionCompletion(SessionImpl.java:2301)\\n\\tat org.hibernate.internal.SessionImpl.beforeTransactionCompletion(SessionImpl.java:1966)\\n\\tat org.hibernate.engine.jdbc.internal.JdbcCoordinatorImpl.beforeTransactionCompletion(JdbcCoordinatorImpl.java:439)\\n\\tat org.hibernate.resource.transaction.backend.jdbc.internal.JdbcResourceLocalTransactionCoordinatorImpl.beforeCompletionCallback(JdbcResourceLocalTransactionCoordinatorImpl.java:169)\\n\\tat org.hibernate.resource.transaction.backend.jdbc.internal.JdbcResourceLocalTransactionCoordinatorImpl$TransactionDriverControlImpl.commit(JdbcResourceLocalTransactionCoordinatorImpl.java:267)\\n\\tat org.hibernate.engine.transaction.internal.TransactionImpl.commit(TransactionImpl.java:101)\\n\\tat org.springframework.orm.jpa.JpaTransactionManager.doCommit(JpaTransactionManager.java:561)\\n\\t... 73 more\\nCaused by: org.h2.jdbc.JdbcSQLIntegrityConstraintViolationException: Referential integrity constraint violation: \\\"FK27XDLB1CIXVJYRU7TFI8LRDTM: PUBLIC.TASK_PROPERTIES FOREIGN KEY(TASK_PROPERTY_ID) REFERENCES PUBLIC.TASK(ID) (CAST(1 AS BIGINT))\\\"; SQL statement:\\ndelete from task where id=? and version=? [23503-224]\\n\\tat org.h2.message.DbException.getJdbcSQLException(DbException.java:520)\\n\\tat org.h2.message.DbException.getJdbcSQLException(DbException.java:489)\\n\\tat org.h2.message.DbException.get(DbException.java:223)\\n\\tat org.h2.message.DbException.get(DbException.java:199)\\n\\tat org.h2.constraint.ConstraintReferential.checkRow(ConstraintReferential.java:365)\\n\\tat org.h2.constraint.ConstraintReferential.checkRowRefTable(ConstraintReferential.java:382)\\n\\tat org.h2.constraint.ConstraintReferential.checkRow(ConstraintReferential.java:256)\\n\\tat org.h2.table.Table.fireConstraints(Table.java:1200)\\n\\tat org.h2.table.Table.fireAfterRow(Table.java:1218)\\n\\tat org.h2.command.dml.Delete.update(Delete.java:92)\\n\\tat org.h2.command.dml.DataChangeStatement.update(DataChangeStatement.java:74)\\n\\tat org.h2.command.CommandContainer.update(CommandContainer.java:169)\\n\\tat org.h2.command.Command.executeUpdate(Command.java:256)\\n\\tat org.h2.jdbc.JdbcPreparedStatement.executeUpdateInternal(JdbcPreparedStatement.java:216)\\n\\tat org.h2.jdbc.JdbcPreparedStatement.executeUpdate(JdbcPreparedStatement.java:174)\\n\\tat com.zaxxer.hikari.pool.ProxyPreparedStatement.executeUpdate(ProxyPreparedStatement.java:61)\\n\\tat com.zaxxer.hikari.pool.HikariProxyPreparedStatement.executeUpdate(HikariProxyPreparedStatement.java)\\n\\tat org.hibernate.engine.jdbc.internal.ResultSetReturnImpl.executeUpdate(ResultSetReturnImpl.java:275)\\n\\t... 94 more\\n\",\"message\":\"could not execute statement [Referential integrity constraint violation: \\\"FK27XDLB1CIXVJYRU7TFI8LRDTM: PUBLIC.TASK_PROPERTIES FOREIGN KEY(TASK_PROPERTY_ID) REFERENCES PUBLIC.TASK(ID) (CAST(1 AS BIGINT))\\\"; SQL statement:\\ndelete from task where id=? and version=? [23503-224]] [delete from task where id=? and version=?]; SQL [delete from task where id=? and version=?]; constraint [\\\"FK27XDLB1CIXVJYRU7TFI8LRDTM: PUBLIC.TASK_PROPERTIES FOREIGN KEY(TASK_PROPERTY_ID) REFERENCES PUBLIC.TASK(ID) (CAST(1 AS BIGINT))\\\"; SQL statement:\\ndelete from task where id=? and version=? [23503-224]]\",\"path\":\"/api/v1/orchestration-context/reset\"}"
     ]
    }
   ],
   "source": [
    "## reset orchestration context\n",
    "pulceo_api.reset_orchestration_context()"
   ]
  }
 ],
 "metadata": {
  "kernelspec": {
   "display_name": "venv",
   "language": "python",
   "name": "python3"
  },
  "language_info": {
   "codemirror_mode": {
    "name": "ipython",
    "version": 3
   },
   "file_extension": ".py",
   "mimetype": "text/x-python",
   "name": "python",
   "nbconvert_exporter": "python",
   "pygments_lexer": "ipython3",
   "version": "3.13.5"
  }
 },
 "nbformat": 4,
 "nbformat_minor": 5
}

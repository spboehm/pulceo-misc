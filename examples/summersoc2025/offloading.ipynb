{
 "cells": [
  {
   "cell_type": "markdown",
   "id": "3720168c",
   "metadata": {},
   "source": [
    "## Connect to PULCEO"
   ]
  },
  {
   "cell_type": "code",
   "execution_count": 2,
   "id": "3c19da6d",
   "metadata": {},
   "outputs": [
    {
     "name": "stdout",
     "output_type": "stream",
     "text": [
      "PRM health check passed.\n",
      "PSM health check passed.\n",
      "PMS health check passed.\n"
     ]
    }
   ],
   "source": [
    "from pulceo.sdk import *\n",
    "from dotenv import load_dotenv\n",
    "load_dotenv()\n",
    "\n",
    "# configuration\n",
    "scheme = \"http\"\n",
    "host = \"localhost\"\n",
    "prm_port = 7878 # default 7878\n",
    "psm_port = 7979 # default 7979\n",
    "pms_port = 7777 # default 7777\n",
    "\n",
    "# initiate the API\n",
    "pulceo_api = API(prm_port = prm_port)\n",
    "\n",
    "# check health of all services\n",
    "pulceo_api.check_health()"
   ]
  },
  {
   "cell_type": "markdown",
   "id": "3df85fc1",
   "metadata": {},
   "source": [
    "## Orchestration Context"
   ]
  },
  {
   "cell_type": "code",
   "execution_count": null,
   "id": "5421798b",
   "metadata": {},
   "outputs": [],
   "source": [
    "# check for the current orchestration context\n",
    "pulceo_api.get_orchestration_context()"
   ]
  },
  {
   "cell_type": "markdown",
   "id": "214f3ea1",
   "metadata": {},
   "source": [
    "## Creation"
   ]
  },
  {
   "cell_type": "markdown",
   "id": "d05fa2b1",
   "metadata": {},
   "source": [
    "### Nodes"
   ]
  },
  {
   "cell_type": "code",
   "execution_count": null,
   "id": "a3e1906c",
   "metadata": {},
   "outputs": [],
   "source": [
    "# TODO: Possibility 1 (manually)\n",
    "\n",
    "# create nodes via json\n",
    "pulceo_api.create_node(\"resources/nodes/edge0.json\")\n",
    "pulceo_api.create_node(\"resources/nodes/edge1.json\")"
   ]
  },
  {
   "cell_type": "code",
   "execution_count": null,
   "id": "f181359f",
   "metadata": {},
   "outputs": [],
   "source": [
    "# read nodes\n",
    "pulceo_api.read_nodes()"
   ]
  },
  {
   "cell_type": "markdown",
   "id": "07e52f51",
   "metadata": {},
   "source": [
    "### Links"
   ]
  },
  {
   "cell_type": "code",
   "execution_count": 3,
   "id": "41eb4171",
   "metadata": {},
   "outputs": [
    {
     "name": "stdout",
     "output_type": "stream",
     "text": [
      "Failed to create link: 400, {\"errorCode\":\"BAD_REQUEST\",\"errorMsg\":\"Link with name edge0-edge1 already exists!\",\"status\":400,\"timestamp\":\"2025-05-13 03:02:32\"}\n",
      "Link created successfully.\n"
     ]
    },
    {
     "data": {
      "text/plain": [
       "{'linkType': 'NODE_LINK',\n",
       " 'linkUUID': '2aefe26a-7d37-4e9f-930d-1636f732f59a',\n",
       " 'remoteNodeLinkUUID': '25698cd6-c4b6-4aa7-8b3c-b3c6c2159257',\n",
       " 'name': 'edge1-edge0',\n",
       " 'srcNodeUUID': 'fbc746dc-eba1-4318-a4b8-0839281a656e',\n",
       " 'destNodeUUID': 'df24b387-2745-4c2b-b5dd-f1bad4a75f72'}"
      ]
     },
     "execution_count": 3,
     "metadata": {},
     "output_type": "execute_result"
    }
   ],
   "source": [
    "# TODO: Possibility 1 (manually)\n",
    "\n",
    "# create links via json\n",
    "pulceo_api.create_link(\"resources/links/edge0-edge1.json\")\n",
    "pulceo_api.create_link(\"resources/links/edge1-edge0.json\")"
   ]
  },
  {
   "cell_type": "code",
   "execution_count": 4,
   "id": "b09d7f6f",
   "metadata": {},
   "outputs": [
    {
     "data": {
      "text/plain": [
       "[{'linkType': 'NODE_LINK',\n",
       "  'linkUUID': 'f94d8561-c9f9-4c95-bd0c-8c163a78ad0e',\n",
       "  'remoteNodeLinkUUID': 'c56e8849-5911-4414-84ee-d0f5481ffc5b',\n",
       "  'name': 'edge0-edge1',\n",
       "  'srcNodeUUID': 'df24b387-2745-4c2b-b5dd-f1bad4a75f72',\n",
       "  'destNodeUUID': 'fbc746dc-eba1-4318-a4b8-0839281a656e'},\n",
       " {'linkType': 'NODE_LINK',\n",
       "  'linkUUID': '2aefe26a-7d37-4e9f-930d-1636f732f59a',\n",
       "  'remoteNodeLinkUUID': '25698cd6-c4b6-4aa7-8b3c-b3c6c2159257',\n",
       "  'name': 'edge1-edge0',\n",
       "  'srcNodeUUID': 'fbc746dc-eba1-4318-a4b8-0839281a656e',\n",
       "  'destNodeUUID': 'df24b387-2745-4c2b-b5dd-f1bad4a75f72'}]"
      ]
     },
     "execution_count": 4,
     "metadata": {},
     "output_type": "execute_result"
    }
   ],
   "source": [
    "# read links\n",
    "pulceo_api.read_links()"
   ]
  },
  {
   "cell_type": "markdown",
   "id": "c6d8be43",
   "metadata": {},
   "source": [
    "## Operation"
   ]
  },
  {
   "cell_type": "markdown",
   "id": "1942b880",
   "metadata": {},
   "source": [
    "## Monitoring"
   ]
  },
  {
   "cell_type": "markdown",
   "id": "4891fdb7",
   "metadata": {},
   "source": [
    "## Evaluation"
   ]
  },
  {
   "cell_type": "markdown",
   "id": "4ce8d84f",
   "metadata": {},
   "source": [
    "## Documentation"
   ]
  },
  {
   "cell_type": "code",
   "execution_count": null,
   "id": "2ee4577c",
   "metadata": {},
   "outputs": [],
   "source": [
    "print(\"more code\")"
   ]
  },
  {
   "cell_type": "code",
   "execution_count": null,
   "id": "435914bc",
   "metadata": {},
   "outputs": [],
   "source": [
    "## terminate orchestration\n",
    "# TODO: terminate orchestration\n",
    "\n",
    "## reset orchestration context\n",
    "pulceo_api.reset_orchestration_context()"
   ]
  }
 ],
 "metadata": {
  "kernelspec": {
   "display_name": "venv",
   "language": "python",
   "name": "python3"
  },
  "language_info": {
   "codemirror_mode": {
    "name": "ipython",
    "version": 3
   },
   "file_extension": ".py",
   "mimetype": "text/x-python",
   "name": "python",
   "nbconvert_exporter": "python",
   "pygments_lexer": "ipython3",
   "version": "3.13.3"
  }
 },
 "nbformat": 4,
 "nbformat_minor": 5
}

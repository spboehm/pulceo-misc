{
 "cells": [
  {
   "cell_type": "markdown",
   "id": "3720168c",
   "metadata": {},
   "source": [
    "## Connect to PULCEO"
   ]
  },
  {
   "cell_type": "code",
   "execution_count": null,
   "id": "3c19da6d",
   "metadata": {},
   "outputs": [],
   "source": [
    "from pulceo.sdk import *\n",
    "\n",
    "# configuration\n",
    "scheme = \"http\"\n",
    "host = \"localhost\"\n",
    "prm_port = 7878 # default 7878\n",
    "psm_port = 7979 # default 7979\n",
    "pms_port = 7777 # default 7777\n",
    "\n",
    "# initiate the API\n",
    "pulceo_api = API(prm_port = prm_port)\n",
    "\n",
    "# check health of all services\n",
    "pulceo_api.check_health()"
   ]
  },
  {
   "cell_type": "markdown",
   "id": "3df85fc1",
   "metadata": {},
   "source": [
    "## Orchestration Context"
   ]
  },
  {
   "cell_type": "code",
   "execution_count": null,
   "id": "5421798b",
   "metadata": {},
   "outputs": [],
   "source": [
    "# check for the current orchestration context\n",
    "pulceo_api.get_orchestration_context()"
   ]
  },
  {
   "cell_type": "markdown",
   "id": "214f3ea1",
   "metadata": {},
   "source": [
    "## Creation"
   ]
  },
  {
   "cell_type": "markdown",
   "id": "d05fa2b1",
   "metadata": {},
   "source": [
    "### Nodes"
   ]
  },
  {
   "cell_type": "code",
   "execution_count": null,
   "id": "a3e1906c",
   "metadata": {},
   "outputs": [],
   "source": [
    "# TODO: Possibility 1 (manually)\n",
    "\n",
    "# create nodes via json\n",
    "pulceo_api.create_node(\"resources/nodes/edge0.json\")\n",
    "pulceo_api.create_node(\"resources/nodes/edge1.json\")"
   ]
  },
  {
   "cell_type": "code",
   "execution_count": null,
   "id": "f181359f",
   "metadata": {},
   "outputs": [],
   "source": [
    "# read nodes\n",
    "pulceo_api.read_nodes()"
   ]
  },
  {
   "cell_type": "markdown",
   "id": "07e52f51",
   "metadata": {},
   "source": [
    "### Links"
   ]
  },
  {
   "cell_type": "code",
   "execution_count": null,
   "id": "41eb4171",
   "metadata": {},
   "outputs": [],
   "source": [
    "# TODO: Possibility 1 (manually)\n",
    "\n",
    "# create links via json\n",
    "pulceo_api.create_link(\"resources/links/edge0-edge1.json\")\n",
    "pulceo_api.create_link(\"resources/links/edge1-edge0.json\")"
   ]
  },
  {
   "cell_type": "code",
   "execution_count": null,
   "id": "b09d7f6f",
   "metadata": {},
   "outputs": [],
   "source": [
    "# read links\n",
    "pulceo_api.read_links()"
   ]
  },
  {
   "cell_type": "markdown",
   "id": "c6d8be43",
   "metadata": {},
   "source": [
    "## Operation"
   ]
  },
  {
   "cell_type": "code",
   "execution_count": null,
   "id": "6620b41c",
   "metadata": {},
   "outputs": [],
   "source": [
    "# TODO: deploy workload on edge0\n"
   ]
  },
  {
   "cell_type": "markdown",
   "id": "1942b880",
   "metadata": {},
   "source": [
    "## Monitoring"
   ]
  },
  {
   "cell_type": "code",
   "execution_count": null,
   "id": "b8cfdcff",
   "metadata": {},
   "outputs": [],
   "source": [
    "# check health\n",
    "pulceo_api.monitoring.check_health()"
   ]
  },
  {
   "cell_type": "markdown",
   "id": "6d1315c1",
   "metadata": {},
   "source": [
    "### Nodes"
   ]
  },
  {
   "cell_type": "code",
   "execution_count": null,
   "id": "9981f01f",
   "metadata": {},
   "outputs": [],
   "source": [
    "# TODO: Possibility 1 (manually)\n",
    "\n",
    "# TODO: via json\n",
    "\n",
    "# edge0\n",
    "pulceo_api.monitoring.create_metric_request(\"resources/metric-requests/nodes/edge0_cpu-util.json\")\n",
    "pulceo_api.monitoring.create_metric_request(\"resources/metric-requests/nodes/edge0_mem-util.json\")\n",
    "pulceo_api.monitoring.create_metric_request(\"resources/metric-requests/nodes/edge0_storage-util.json\")\n",
    "pulceo_api.monitoring.create_metric_request(\"resources/metric-requests/nodes/edge0_net-util.json\")\n",
    "\n",
    "# edge1\n",
    "pulceo_api.monitoring.create_metric_request(\"resources/metric-requests/nodes/edge1_cpu-util.json\")\n",
    "pulceo_api.monitoring.create_metric_request(\"resources/metric-requests/nodes/edge1_mem-util.json\")\n",
    "pulceo_api.monitoring.create_metric_request(\"resources/metric-requests/nodes/edge1_storage-util.json\")\n",
    "pulceo_api.monitoring.create_metric_request(\"resources/metric-requests/nodes/edge1_net-util.json\")"
   ]
  },
  {
   "cell_type": "code",
   "execution_count": null,
   "id": "5a8a576a",
   "metadata": {},
   "outputs": [],
   "source": [
    "# TODO: read metric requests\n",
    "pulceo_api.monitoring.read_metric_requests()"
   ]
  },
  {
   "cell_type": "code",
   "execution_count": null,
   "id": "32955bc4",
   "metadata": {},
   "outputs": [],
   "source": [
    "# TODO: metric requests links\n",
    "\n",
    "# edge0-edge1"
   ]
  },
  {
   "cell_type": "markdown",
   "id": "4891fdb7",
   "metadata": {},
   "source": [
    "## Evaluation"
   ]
  },
  {
   "cell_type": "code",
   "execution_count": null,
   "id": "f0f0e7d1",
   "metadata": {},
   "outputs": [],
   "source": []
  },
  {
   "cell_type": "markdown",
   "id": "7ca0b856",
   "metadata": {},
   "source": []
  },
  {
   "cell_type": "markdown",
   "id": "4ce8d84f",
   "metadata": {},
   "source": [
    "## Documentation"
   ]
  },
  {
   "cell_type": "code",
   "execution_count": null,
   "id": "2ee4577c",
   "metadata": {},
   "outputs": [],
   "source": []
  },
  {
   "cell_type": "code",
   "execution_count": null,
   "id": "435914bc",
   "metadata": {},
   "outputs": [],
   "source": [
    "## terminate orchestration\n",
    "# TODO: terminate orchestration\n",
    "\n",
    "## reset orchestration context\n",
    "pulceo_api.reset_orchestration_context()"
   ]
  }
 ],
 "metadata": {
  "kernelspec": {
   "display_name": "venv",
   "language": "python",
   "name": "python3"
  },
  "language_info": {
   "codemirror_mode": {
    "name": "ipython",
    "version": 3
   },
   "file_extension": ".py",
   "mimetype": "text/x-python",
   "name": "python",
   "nbconvert_exporter": "python",
   "pygments_lexer": "ipython3",
   "version": "3.13.3"
  }
 },
 "nbformat": 4,
 "nbformat_minor": 5
}

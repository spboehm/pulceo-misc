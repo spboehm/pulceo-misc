{
 "cells": [
  {
   "cell_type": "markdown",
   "id": "3720168c",
   "metadata": {},
   "source": [
    "## Connect to PULCEO"
   ]
  },
  {
   "cell_type": "code",
   "execution_count": 5,
   "id": "3c19da6d",
   "metadata": {},
   "outputs": [
    {
     "name": "stdout",
     "output_type": "stream",
     "text": [
      "PRM health check passed.\n",
      "PSM health check passed.\n",
      "PMS health check passed.\n"
     ]
    }
   ],
   "source": [
    "from pulceo.sdk import *\n",
    "\n",
    "# configuration\n",
    "scheme = \"http\"\n",
    "host = \"localhost\"\n",
    "prm_port = 7878 # default 7878\n",
    "psm_port = 7979 # default 7979\n",
    "pms_port = 7777 # default 7777\n",
    "\n",
    "# initiate the API\n",
    "pulceo_api = API(prm_port = prm_port)\n",
    "\n",
    "# check health of all services\n",
    "pulceo_api.check_health()"
   ]
  },
  {
   "cell_type": "markdown",
   "id": "3df85fc1",
   "metadata": {},
   "source": [
    "## Orchestration Context"
   ]
  },
  {
   "cell_type": "code",
   "execution_count": 6,
   "id": "5421798b",
   "metadata": {},
   "outputs": [
    {
     "data": {
      "text/plain": [
       "{'uuid': 'e201e15e-39cc-48a7-93ba-94e79943e84c', 'name': 'default'}"
      ]
     },
     "execution_count": 6,
     "metadata": {},
     "output_type": "execute_result"
    }
   ],
   "source": [
    "# check for the current orchestration context\n",
    "pulceo_api.get_orchestration_context()"
   ]
  },
  {
   "cell_type": "markdown",
   "id": "214f3ea1",
   "metadata": {},
   "source": [
    "## Creation"
   ]
  },
  {
   "cell_type": "markdown",
   "id": "d05fa2b1",
   "metadata": {},
   "source": [
    "### Nodes"
   ]
  },
  {
   "cell_type": "code",
   "execution_count": 7,
   "id": "a3e1906c",
   "metadata": {},
   "outputs": [
    {
     "name": "stdout",
     "output_type": "stream",
     "text": [
      "Node created successfully.\n",
      "Node created successfully.\n"
     ]
    },
    {
     "data": {
      "text/plain": [
       "{'uuid': '5f18fb1b-f1d1-4e48-9718-474dbd22d89b',\n",
       " 'providerName': 'default',\n",
       " 'hostname': '127.0.0.2',\n",
       " 'pnaUUID': 'baf9d0d0-2902-4f55-a808-c580a3d7cba6',\n",
       " 'node': {'name': 'edge1',\n",
       "  'type': 'EDGE',\n",
       "  'layer': 1,\n",
       "  'role': 'WORKLOAD',\n",
       "  'group': '',\n",
       "  'country': 'Germany',\n",
       "  'state': 'Bavaria',\n",
       "  'city': 'Bamberg',\n",
       "  'longitude': 0.0,\n",
       "  'latitude': 0.0,\n",
       "  'tags': []}}"
      ]
     },
     "execution_count": 7,
     "metadata": {},
     "output_type": "execute_result"
    }
   ],
   "source": [
    "# TODO: Possibility 1 (manually)\n",
    "\n",
    "# create nodes via json\n",
    "pulceo_api.create_node(\"resources/nodes/edge0.json\")\n",
    "pulceo_api.create_node(\"resources/nodes/edge1.json\")"
   ]
  },
  {
   "cell_type": "code",
   "execution_count": 8,
   "id": "f181359f",
   "metadata": {},
   "outputs": [
    {
     "data": {
      "text/plain": [
       "[{'uuid': '1fcf659f-aaeb-4d4d-af0e-3bd96ef79980',\n",
       "  'providerName': 'default',\n",
       "  'hostname': '127.0.0.1',\n",
       "  'pnaUUID': '0247fea1-3ca3-401b-8fa2-b6f83a469680',\n",
       "  'node': {'name': 'edge0',\n",
       "   'type': 'EDGE',\n",
       "   'layer': 1,\n",
       "   'role': 'WORKLOAD',\n",
       "   'group': '',\n",
       "   'country': 'Germany',\n",
       "   'state': 'Bavaria',\n",
       "   'city': 'Bamberg',\n",
       "   'longitude': 0.0,\n",
       "   'latitude': 0.0,\n",
       "   'tags': [{'key': 'properties', 'value': 'Java, MySQL'}]}},\n",
       " {'uuid': '5f18fb1b-f1d1-4e48-9718-474dbd22d89b',\n",
       "  'providerName': 'default',\n",
       "  'hostname': '127.0.0.2',\n",
       "  'pnaUUID': 'baf9d0d0-2902-4f55-a808-c580a3d7cba6',\n",
       "  'node': {'name': 'edge1',\n",
       "   'type': 'EDGE',\n",
       "   'layer': 1,\n",
       "   'role': 'WORKLOAD',\n",
       "   'group': '',\n",
       "   'country': 'Germany',\n",
       "   'state': 'Bavaria',\n",
       "   'city': 'Bamberg',\n",
       "   'longitude': 0.0,\n",
       "   'latitude': 0.0,\n",
       "   'tags': []}}]"
      ]
     },
     "execution_count": 8,
     "metadata": {},
     "output_type": "execute_result"
    }
   ],
   "source": [
    "# read nodes\n",
    "pulceo_api.read_nodes()"
   ]
  },
  {
   "cell_type": "markdown",
   "id": "07e52f51",
   "metadata": {},
   "source": [
    "### Links"
   ]
  },
  {
   "cell_type": "code",
   "execution_count": 9,
   "id": "41eb4171",
   "metadata": {},
   "outputs": [
    {
     "name": "stdout",
     "output_type": "stream",
     "text": [
      "Link created successfully.\n",
      "Link created successfully.\n"
     ]
    },
    {
     "data": {
      "text/plain": [
       "{'linkType': 'NODE_LINK',\n",
       " 'linkUUID': '46260cc9-283d-47d1-aa14-a30c494df7c8',\n",
       " 'remoteNodeLinkUUID': '54366429-a3a5-45d6-bde9-51d5460017a2',\n",
       " 'name': 'edge1-edge0',\n",
       " 'srcNodeUUID': '5f18fb1b-f1d1-4e48-9718-474dbd22d89b',\n",
       " 'destNodeUUID': '1fcf659f-aaeb-4d4d-af0e-3bd96ef79980'}"
      ]
     },
     "execution_count": 9,
     "metadata": {},
     "output_type": "execute_result"
    }
   ],
   "source": [
    "# TODO: Possibility 1 (manually)\n",
    "\n",
    "# create links via json\n",
    "pulceo_api.create_link(\"resources/links/edge0-edge1.json\")\n",
    "pulceo_api.create_link(\"resources/links/edge1-edge0.json\")"
   ]
  },
  {
   "cell_type": "code",
   "execution_count": 10,
   "id": "b09d7f6f",
   "metadata": {},
   "outputs": [
    {
     "data": {
      "text/plain": [
       "[{'linkType': 'NODE_LINK',\n",
       "  'linkUUID': 'f2c0a5ed-36de-42aa-b401-9f4b3480b839',\n",
       "  'remoteNodeLinkUUID': '29179a17-2259-428b-b46a-00c48b0551e8',\n",
       "  'name': 'edge0-edge1',\n",
       "  'srcNodeUUID': '1fcf659f-aaeb-4d4d-af0e-3bd96ef79980',\n",
       "  'destNodeUUID': '5f18fb1b-f1d1-4e48-9718-474dbd22d89b'},\n",
       " {'linkType': 'NODE_LINK',\n",
       "  'linkUUID': '46260cc9-283d-47d1-aa14-a30c494df7c8',\n",
       "  'remoteNodeLinkUUID': '54366429-a3a5-45d6-bde9-51d5460017a2',\n",
       "  'name': 'edge1-edge0',\n",
       "  'srcNodeUUID': '5f18fb1b-f1d1-4e48-9718-474dbd22d89b',\n",
       "  'destNodeUUID': '1fcf659f-aaeb-4d4d-af0e-3bd96ef79980'}]"
      ]
     },
     "execution_count": 10,
     "metadata": {},
     "output_type": "execute_result"
    }
   ],
   "source": [
    "# read links\n",
    "pulceo_api.read_links()"
   ]
  },
  {
   "cell_type": "markdown",
   "id": "c6d8be43",
   "metadata": {},
   "source": [
    "## Operation"
   ]
  },
  {
   "cell_type": "markdown",
   "id": "1942b880",
   "metadata": {},
   "source": [
    "## Monitoring"
   ]
  },
  {
   "cell_type": "code",
   "execution_count": 11,
   "id": "b8cfdcff",
   "metadata": {},
   "outputs": [
    {
     "name": "stdout",
     "output_type": "stream",
     "text": [
      "PMS health check passed.\n"
     ]
    }
   ],
   "source": [
    "# check health\n",
    "pulceo_api.monitoring.check_health()"
   ]
  },
  {
   "cell_type": "markdown",
   "id": "4891fdb7",
   "metadata": {},
   "source": [
    "## Evaluation"
   ]
  },
  {
   "cell_type": "markdown",
   "id": "4ce8d84f",
   "metadata": {},
   "source": [
    "## Documentation"
   ]
  },
  {
   "cell_type": "code",
   "execution_count": null,
   "id": "2ee4577c",
   "metadata": {},
   "outputs": [],
   "source": []
  },
  {
   "cell_type": "code",
   "execution_count": 12,
   "id": "435914bc",
   "metadata": {},
   "outputs": [
    {
     "name": "stdout",
     "output_type": "stream",
     "text": [
      "Orchestration context successfully reset.\n"
     ]
    }
   ],
   "source": [
    "## terminate orchestration\n",
    "# TODO: terminate orchestration\n",
    "\n",
    "## reset orchestration context\n",
    "pulceo_api.reset_orchestration_context()"
   ]
  }
 ],
 "metadata": {
  "kernelspec": {
   "display_name": "venv",
   "language": "python",
   "name": "python3"
  },
  "language_info": {
   "codemirror_mode": {
    "name": "ipython",
    "version": 3
   },
   "file_extension": ".py",
   "mimetype": "text/x-python",
   "name": "python",
   "nbconvert_exporter": "python",
   "pygments_lexer": "ipython3",
   "version": "3.13.3"
  }
 },
 "nbformat": 4,
 "nbformat_minor": 5
}

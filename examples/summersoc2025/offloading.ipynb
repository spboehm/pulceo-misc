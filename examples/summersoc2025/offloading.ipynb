{
 "cells": [
  {
   "cell_type": "markdown",
   "id": "3720168c",
   "metadata": {},
   "source": [
    "## Connect to PULCEO"
   ]
  },
  {
   "cell_type": "code",
   "execution_count": 11,
   "id": "3c19da6d",
   "metadata": {},
   "outputs": [
    {
     "name": "stdout",
     "output_type": "stream",
     "text": [
      "PRM health check passed.\n",
      "PSM health check passed.\n",
      "PMS health check passed.\n"
     ]
    }
   ],
   "source": [
    "from pulceo.sdk import *\n",
    "\n",
    "# configuration\n",
    "scheme = \"http\"\n",
    "host = \"localhost\"\n",
    "prm_port = 7878 # default 7878\n",
    "psm_port = 7979 # default 7979\n",
    "pms_port = 7777 # default 7777\n",
    "\n",
    "# initiate the API\n",
    "pulceo_api = API(prm_port = prm_port)\n",
    "\n",
    "# check health of all services\n",
    "pulceo_api.check_health()"
   ]
  },
  {
   "cell_type": "markdown",
   "id": "3df85fc1",
   "metadata": {},
   "source": [
    "## Orchestration Context"
   ]
  },
  {
   "cell_type": "code",
   "execution_count": 12,
   "id": "5421798b",
   "metadata": {},
   "outputs": [
    {
     "data": {
      "text/plain": [
       "{'uuid': '00000000-0000-0000-0000-000000000000', 'name': 'default'}"
      ]
     },
     "execution_count": 12,
     "metadata": {},
     "output_type": "execute_result"
    }
   ],
   "source": [
    "# check for the current orchestration context\n",
    "pulceo_api.get_orchestration_context()"
   ]
  },
  {
   "cell_type": "code",
   "execution_count": 13,
   "id": "efc197cd",
   "metadata": {},
   "outputs": [
    {
     "name": "stdout",
     "output_type": "stream",
     "text": [
      "Orchestration status updated to RUNNING.\n"
     ]
    }
   ],
   "source": [
    "# start orchestration\n",
    "pulceo_api.start_orchestration(\"default\")"
   ]
  },
  {
   "cell_type": "markdown",
   "id": "214f3ea1",
   "metadata": {},
   "source": [
    "## Creation"
   ]
  },
  {
   "cell_type": "markdown",
   "id": "d05fa2b1",
   "metadata": {},
   "source": [
    "### Nodes"
   ]
  },
  {
   "cell_type": "code",
   "execution_count": null,
   "id": "a3e1906c",
   "metadata": {},
   "outputs": [],
   "source": [
    "# TODO: Possibility 1 (manually)\n",
    "\n",
    "# create nodes via json\n",
    "pulceo_api.create_node(\"resources/nodes/edge0.json\")\n",
    "pulceo_api.create_node(\"resources/nodes/edge1.json\")"
   ]
  },
  {
   "cell_type": "code",
   "execution_count": 5,
   "id": "f181359f",
   "metadata": {},
   "outputs": [
    {
     "data": {
      "text/plain": [
       "[]"
      ]
     },
     "execution_count": 5,
     "metadata": {},
     "output_type": "execute_result"
    }
   ],
   "source": [
    "# read nodes\n",
    "pulceo_api.read_nodes()"
   ]
  },
  {
   "cell_type": "markdown",
   "id": "07e52f51",
   "metadata": {},
   "source": [
    "### Links"
   ]
  },
  {
   "cell_type": "code",
   "execution_count": null,
   "id": "41eb4171",
   "metadata": {},
   "outputs": [],
   "source": [
    "# TODO: Possibility 1 (manually)\n",
    "\n",
    "# create links via json\n",
    "pulceo_api.create_link(\"resources/links/edge0-edge1.json\")\n",
    "pulceo_api.create_link(\"resources/links/edge1-edge0.json\")"
   ]
  },
  {
   "cell_type": "code",
   "execution_count": 6,
   "id": "b09d7f6f",
   "metadata": {},
   "outputs": [
    {
     "data": {
      "text/plain": [
       "[]"
      ]
     },
     "execution_count": 6,
     "metadata": {},
     "output_type": "execute_result"
    }
   ],
   "source": [
    "# read links\n",
    "pulceo_api.read_links()"
   ]
  },
  {
   "cell_type": "markdown",
   "id": "c6d8be43",
   "metadata": {},
   "source": [
    "## Operation"
   ]
  },
  {
   "cell_type": "code",
   "execution_count": null,
   "id": "6620b41c",
   "metadata": {},
   "outputs": [],
   "source": [
    "# TODO: deploy workload on edge0\n"
   ]
  },
  {
   "cell_type": "markdown",
   "id": "1942b880",
   "metadata": {},
   "source": [
    "## Monitoring"
   ]
  },
  {
   "cell_type": "code",
   "execution_count": null,
   "id": "b8cfdcff",
   "metadata": {},
   "outputs": [],
   "source": [
    "# check health\n",
    "pulceo_api.monitoring.check_health()"
   ]
  },
  {
   "cell_type": "markdown",
   "id": "6d1315c1",
   "metadata": {},
   "source": [
    "### Nodes"
   ]
  },
  {
   "cell_type": "code",
   "execution_count": null,
   "id": "9981f01f",
   "metadata": {},
   "outputs": [],
   "source": [
    "# TODO: Possibility 1 (manually)\n",
    "\n",
    "# TODO: via json\n",
    "\n",
    "# edge0\n",
    "pulceo_api.monitoring.create_metric_request(\"resources/metric-requests/nodes/edge0_cpu-util.json\")\n",
    "pulceo_api.monitoring.create_metric_request(\"resources/metric-requests/nodes/edge0_mem-util.json\")\n",
    "pulceo_api.monitoring.create_metric_request(\"resources/metric-requests/nodes/edge0_storage-util.json\")\n",
    "pulceo_api.monitoring.create_metric_request(\"resources/metric-requests/nodes/edge0_net-util.json\")\n",
    "\n",
    "# edge1\n",
    "pulceo_api.monitoring.create_metric_request(\"resources/metric-requests/nodes/edge1_cpu-util.json\")\n",
    "pulceo_api.monitoring.create_metric_request(\"resources/metric-requests/nodes/edge1_mem-util.json\")\n",
    "pulceo_api.monitoring.create_metric_request(\"resources/metric-requests/nodes/edge1_storage-util.json\")\n",
    "pulceo_api.monitoring.create_metric_request(\"resources/metric-requests/nodes/edge1_net-util.json\")"
   ]
  },
  {
   "cell_type": "code",
   "execution_count": null,
   "id": "5a8a576a",
   "metadata": {},
   "outputs": [],
   "source": [
    "# TODO: read metric requests\n",
    "pulceo_api.monitoring.read_metric_requests()"
   ]
  },
  {
   "cell_type": "code",
   "execution_count": null,
   "id": "32955bc4",
   "metadata": {},
   "outputs": [],
   "source": [
    "# TODO: metric requests links\n",
    "\n",
    "# edge0-edge1"
   ]
  },
  {
   "cell_type": "markdown",
   "id": "4891fdb7",
   "metadata": {},
   "source": [
    "## Evaluation"
   ]
  },
  {
   "cell_type": "code",
   "execution_count": 14,
   "id": "2ee4577c",
   "metadata": {},
   "outputs": [
    {
     "name": "stdout",
     "output_type": "stream",
     "text": [
      "Orchestration status updated to COMPLETED.\n"
     ]
    }
   ],
   "source": [
    "# stop orchestration\n",
    "pulceo_api.stop_orchestration(\"default\")"
   ]
  },
  {
   "cell_type": "code",
   "execution_count": 89,
   "id": "055f9e21",
   "metadata": {},
   "outputs": [
    {
     "name": "stdout",
     "output_type": "stream",
     "text": [
      "Orchestration report created successfully.\n"
     ]
    },
    {
     "ename": "JSONDecodeError",
     "evalue": "Expecting value: line 1 column 1 (char 0)",
     "output_type": "error",
     "traceback": [
      "\u001b[31m---------------------------------------------------------------------------\u001b[39m",
      "\u001b[31mJSONDecodeError\u001b[39m                           Traceback (most recent call last)",
      "\u001b[36mFile \u001b[39m\u001b[32m~/git/dissertation/pulceo-misc/examples/summersoc2025/venv/lib64/python3.13/site-packages/requests/models.py:974\u001b[39m, in \u001b[36mResponse.json\u001b[39m\u001b[34m(self, **kwargs)\u001b[39m\n\u001b[32m    973\u001b[39m \u001b[38;5;28;01mtry\u001b[39;00m:\n\u001b[32m--> \u001b[39m\u001b[32m974\u001b[39m     \u001b[38;5;28;01mreturn\u001b[39;00m \u001b[43mcomplexjson\u001b[49m\u001b[43m.\u001b[49m\u001b[43mloads\u001b[49m\u001b[43m(\u001b[49m\u001b[38;5;28;43mself\u001b[39;49m\u001b[43m.\u001b[49m\u001b[43mtext\u001b[49m\u001b[43m,\u001b[49m\u001b[43m \u001b[49m\u001b[43m*\u001b[49m\u001b[43m*\u001b[49m\u001b[43mkwargs\u001b[49m\u001b[43m)\u001b[49m\n\u001b[32m    975\u001b[39m \u001b[38;5;28;01mexcept\u001b[39;00m JSONDecodeError \u001b[38;5;28;01mas\u001b[39;00m e:\n\u001b[32m    976\u001b[39m     \u001b[38;5;66;03m# Catch JSON-related errors and raise as requests.JSONDecodeError\u001b[39;00m\n\u001b[32m    977\u001b[39m     \u001b[38;5;66;03m# This aliases json.JSONDecodeError and simplejson.JSONDecodeError\u001b[39;00m\n",
      "\u001b[36mFile \u001b[39m\u001b[32m/usr/lib64/python3.13/json/__init__.py:346\u001b[39m, in \u001b[36mloads\u001b[39m\u001b[34m(s, cls, object_hook, parse_float, parse_int, parse_constant, object_pairs_hook, **kw)\u001b[39m\n\u001b[32m    343\u001b[39m \u001b[38;5;28;01mif\u001b[39;00m (\u001b[38;5;28mcls\u001b[39m \u001b[38;5;129;01mis\u001b[39;00m \u001b[38;5;28;01mNone\u001b[39;00m \u001b[38;5;129;01mand\u001b[39;00m object_hook \u001b[38;5;129;01mis\u001b[39;00m \u001b[38;5;28;01mNone\u001b[39;00m \u001b[38;5;129;01mand\u001b[39;00m\n\u001b[32m    344\u001b[39m         parse_int \u001b[38;5;129;01mis\u001b[39;00m \u001b[38;5;28;01mNone\u001b[39;00m \u001b[38;5;129;01mand\u001b[39;00m parse_float \u001b[38;5;129;01mis\u001b[39;00m \u001b[38;5;28;01mNone\u001b[39;00m \u001b[38;5;129;01mand\u001b[39;00m\n\u001b[32m    345\u001b[39m         parse_constant \u001b[38;5;129;01mis\u001b[39;00m \u001b[38;5;28;01mNone\u001b[39;00m \u001b[38;5;129;01mand\u001b[39;00m object_pairs_hook \u001b[38;5;129;01mis\u001b[39;00m \u001b[38;5;28;01mNone\u001b[39;00m \u001b[38;5;129;01mand\u001b[39;00m \u001b[38;5;129;01mnot\u001b[39;00m kw):\n\u001b[32m--> \u001b[39m\u001b[32m346\u001b[39m     \u001b[38;5;28;01mreturn\u001b[39;00m \u001b[43m_default_decoder\u001b[49m\u001b[43m.\u001b[49m\u001b[43mdecode\u001b[49m\u001b[43m(\u001b[49m\u001b[43ms\u001b[49m\u001b[43m)\u001b[49m\n\u001b[32m    347\u001b[39m \u001b[38;5;28;01mif\u001b[39;00m \u001b[38;5;28mcls\u001b[39m \u001b[38;5;129;01mis\u001b[39;00m \u001b[38;5;28;01mNone\u001b[39;00m:\n",
      "\u001b[36mFile \u001b[39m\u001b[32m/usr/lib64/python3.13/json/decoder.py:345\u001b[39m, in \u001b[36mJSONDecoder.decode\u001b[39m\u001b[34m(self, s, _w)\u001b[39m\n\u001b[32m    341\u001b[39m \u001b[38;5;250m\u001b[39m\u001b[33;03m\"\"\"Return the Python representation of ``s`` (a ``str`` instance\u001b[39;00m\n\u001b[32m    342\u001b[39m \u001b[33;03mcontaining a JSON document).\u001b[39;00m\n\u001b[32m    343\u001b[39m \n\u001b[32m    344\u001b[39m \u001b[33;03m\"\"\"\u001b[39;00m\n\u001b[32m--> \u001b[39m\u001b[32m345\u001b[39m obj, end = \u001b[38;5;28;43mself\u001b[39;49m\u001b[43m.\u001b[49m\u001b[43mraw_decode\u001b[49m\u001b[43m(\u001b[49m\u001b[43ms\u001b[49m\u001b[43m,\u001b[49m\u001b[43m \u001b[49m\u001b[43midx\u001b[49m\u001b[43m=\u001b[49m\u001b[43m_w\u001b[49m\u001b[43m(\u001b[49m\u001b[43ms\u001b[49m\u001b[43m,\u001b[49m\u001b[43m \u001b[49m\u001b[32;43m0\u001b[39;49m\u001b[43m)\u001b[49m\u001b[43m.\u001b[49m\u001b[43mend\u001b[49m\u001b[43m(\u001b[49m\u001b[43m)\u001b[49m\u001b[43m)\u001b[49m\n\u001b[32m    346\u001b[39m end = _w(s, end).end()\n",
      "\u001b[36mFile \u001b[39m\u001b[32m/usr/lib64/python3.13/json/decoder.py:363\u001b[39m, in \u001b[36mJSONDecoder.raw_decode\u001b[39m\u001b[34m(self, s, idx)\u001b[39m\n\u001b[32m    362\u001b[39m \u001b[38;5;28;01mexcept\u001b[39;00m \u001b[38;5;167;01mStopIteration\u001b[39;00m \u001b[38;5;28;01mas\u001b[39;00m err:\n\u001b[32m--> \u001b[39m\u001b[32m363\u001b[39m     \u001b[38;5;28;01mraise\u001b[39;00m JSONDecodeError(\u001b[33m\"\u001b[39m\u001b[33mExpecting value\u001b[39m\u001b[33m\"\u001b[39m, s, err.value) \u001b[38;5;28;01mfrom\u001b[39;00m\u001b[38;5;250m \u001b[39m\u001b[38;5;28;01mNone\u001b[39;00m\n\u001b[32m    364\u001b[39m \u001b[38;5;28;01mreturn\u001b[39;00m obj, end\n",
      "\u001b[31mJSONDecodeError\u001b[39m: Expecting value: line 1 column 1 (char 0)",
      "\nDuring handling of the above exception, another exception occurred:\n",
      "\u001b[31mJSONDecodeError\u001b[39m                           Traceback (most recent call last)",
      "\u001b[36mCell\u001b[39m\u001b[36m \u001b[39m\u001b[32mIn[89]\u001b[39m\u001b[32m, line 2\u001b[39m\n\u001b[32m      1\u001b[39m \u001b[38;5;66;03m# generate orchestration report\u001b[39;00m\n\u001b[32m----> \u001b[39m\u001b[32m2\u001b[39m \u001b[43mpulceo_api\u001b[49m\u001b[43m.\u001b[49m\u001b[43mcreate_orchestration_report\u001b[49m\u001b[43m(\u001b[49m\u001b[33;43m\"\u001b[39;49m\u001b[33;43mdefault\u001b[39;49m\u001b[33;43m\"\u001b[39;49m\u001b[43m)\u001b[49m\n",
      "\u001b[36mFile \u001b[39m\u001b[32m~/git/dissertation/pulceo-misc/examples/summersoc2025/pulceo/sdk.py:289\u001b[39m, in \u001b[36mAPI.create_orchestration_report\u001b[39m\u001b[34m(self, orchestration_id)\u001b[39m\n\u001b[32m    287\u001b[39m \u001b[38;5;28;01mif\u001b[39;00m response.status_code == \u001b[32m201\u001b[39m:\n\u001b[32m    288\u001b[39m     \u001b[38;5;28mprint\u001b[39m(\u001b[33m\"\u001b[39m\u001b[33mOrchestration report created successfully.\u001b[39m\u001b[33m\"\u001b[39m)\n\u001b[32m--> \u001b[39m\u001b[32m289\u001b[39m     \u001b[38;5;28;01mreturn\u001b[39;00m \u001b[43mresponse\u001b[49m\u001b[43m.\u001b[49m\u001b[43mjson\u001b[49m\u001b[43m(\u001b[49m\u001b[43m)\u001b[49m\n\u001b[32m    290\u001b[39m \u001b[38;5;28;01melse\u001b[39;00m:\n\u001b[32m    291\u001b[39m     \u001b[38;5;28mprint\u001b[39m(\u001b[33mf\u001b[39m\u001b[33m\"\u001b[39m\u001b[33mFailed to create orchestration report: \u001b[39m\u001b[38;5;132;01m{\u001b[39;00mresponse.status_code\u001b[38;5;132;01m}\u001b[39;00m\u001b[33m, \u001b[39m\u001b[38;5;132;01m{\u001b[39;00mresponse.text\u001b[38;5;132;01m}\u001b[39;00m\u001b[33m\"\u001b[39m)\n",
      "\u001b[36mFile \u001b[39m\u001b[32m~/git/dissertation/pulceo-misc/examples/summersoc2025/venv/lib64/python3.13/site-packages/requests/models.py:978\u001b[39m, in \u001b[36mResponse.json\u001b[39m\u001b[34m(self, **kwargs)\u001b[39m\n\u001b[32m    974\u001b[39m     \u001b[38;5;28;01mreturn\u001b[39;00m complexjson.loads(\u001b[38;5;28mself\u001b[39m.text, **kwargs)\n\u001b[32m    975\u001b[39m \u001b[38;5;28;01mexcept\u001b[39;00m JSONDecodeError \u001b[38;5;28;01mas\u001b[39;00m e:\n\u001b[32m    976\u001b[39m     \u001b[38;5;66;03m# Catch JSON-related errors and raise as requests.JSONDecodeError\u001b[39;00m\n\u001b[32m    977\u001b[39m     \u001b[38;5;66;03m# This aliases json.JSONDecodeError and simplejson.JSONDecodeError\u001b[39;00m\n\u001b[32m--> \u001b[39m\u001b[32m978\u001b[39m     \u001b[38;5;28;01mraise\u001b[39;00m RequestsJSONDecodeError(e.msg, e.doc, e.pos)\n",
      "\u001b[31mJSONDecodeError\u001b[39m: Expecting value: line 1 column 1 (char 0)"
     ]
    }
   ],
   "source": [
    "# generate orchestration report\n",
    "pulceo_api.create_orchestration_report(\"default\")"
   ]
  },
  {
   "cell_type": "markdown",
   "id": "4ce8d84f",
   "metadata": {},
   "source": [
    "## Documentation"
   ]
  },
  {
   "cell_type": "code",
   "execution_count": null,
   "id": "435914bc",
   "metadata": {},
   "outputs": [],
   "source": [
    "## reset orchestration context\n",
    "pulceo_api.reset_orchestration_context()"
   ]
  }
 ],
 "metadata": {
  "kernelspec": {
   "display_name": "venv",
   "language": "python",
   "name": "python3"
  },
  "language_info": {
   "codemirror_mode": {
    "name": "ipython",
    "version": 3
   },
   "file_extension": ".py",
   "mimetype": "text/x-python",
   "name": "python",
   "nbconvert_exporter": "python",
   "pygments_lexer": "ipython3",
   "version": "3.13.5"
  }
 },
 "nbformat": 4,
 "nbformat_minor": 5
}

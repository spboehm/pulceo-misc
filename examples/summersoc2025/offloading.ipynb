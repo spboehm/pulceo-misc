{
 "cells": [
  {
   "cell_type": "markdown",
   "id": "3720168c",
   "metadata": {},
   "source": [
    "## Connect to PULCEO"
   ]
  },
  {
   "cell_type": "code",
   "execution_count": 1,
   "id": "3c19da6d",
   "metadata": {},
   "outputs": [],
   "source": [
    "scheme = \"http\"\n",
    "host = \"localhost\"\n",
    "prm_port = 7878\n",
    "psm_port = 7979\n",
    "pms_port = 7777"
   ]
  },
  {
   "cell_type": "code",
   "execution_count": null,
   "id": "b32d1ddf",
   "metadata": {},
   "outputs": [
    {
     "ename": "ImportError",
     "evalue": "module API not in sys.modules",
     "output_type": "error",
     "traceback": [
      "\u001b[0;31m---------------------------------------------------------------------------\u001b[0m",
      "\u001b[0;31mImportError\u001b[0m                               Traceback (most recent call last)",
      "Cell \u001b[0;32mIn[8], line 4\u001b[0m\n\u001b[1;32m      2\u001b[0m \u001b[38;5;28;01mimport\u001b[39;00m\u001b[38;5;250m \u001b[39m\u001b[38;5;21;01mimportlib\u001b[39;00m\n\u001b[1;32m      3\u001b[0m \u001b[38;5;28;01mfrom\u001b[39;00m\u001b[38;5;250m \u001b[39m\u001b[38;5;21;01mpulceo\u001b[39;00m\u001b[38;5;21;01m.\u001b[39;00m\u001b[38;5;21;01msdk\u001b[39;00m\u001b[38;5;250m \u001b[39m\u001b[38;5;28;01mimport\u001b[39;00m API\n\u001b[0;32m----> 4\u001b[0m \u001b[43mimportlib\u001b[49m\u001b[38;5;241;43m.\u001b[39;49m\u001b[43mreload\u001b[49m\u001b[43m(\u001b[49m\u001b[43mAPI\u001b[49m\u001b[43m)\u001b[49m\n\u001b[1;32m      5\u001b[0m pulceo_api \u001b[38;5;241m=\u001b[39m API(scheme, host, prm_port, psm_port, pms_port)\n\u001b[1;32m      6\u001b[0m \u001b[38;5;66;03m# check availability\u001b[39;00m\n",
      "File \u001b[0;32m/usr/lib64/python3.11/importlib/__init__.py:148\u001b[0m, in \u001b[0;36mreload\u001b[0;34m(module)\u001b[0m\n\u001b[1;32m    146\u001b[0m \u001b[38;5;28;01mif\u001b[39;00m sys\u001b[38;5;241m.\u001b[39mmodules\u001b[38;5;241m.\u001b[39mget(name) \u001b[38;5;129;01mis\u001b[39;00m \u001b[38;5;129;01mnot\u001b[39;00m module:\n\u001b[1;32m    147\u001b[0m     msg \u001b[38;5;241m=\u001b[39m \u001b[38;5;124m\"\u001b[39m\u001b[38;5;124mmodule \u001b[39m\u001b[38;5;132;01m{}\u001b[39;00m\u001b[38;5;124m not in sys.modules\u001b[39m\u001b[38;5;124m\"\u001b[39m\n\u001b[0;32m--> 148\u001b[0m     \u001b[38;5;28;01mraise\u001b[39;00m \u001b[38;5;167;01mImportError\u001b[39;00m(msg\u001b[38;5;241m.\u001b[39mformat(name), name\u001b[38;5;241m=\u001b[39mname)\n\u001b[1;32m    149\u001b[0m \u001b[38;5;28;01mif\u001b[39;00m name \u001b[38;5;129;01min\u001b[39;00m _RELOADING:\n\u001b[1;32m    150\u001b[0m     \u001b[38;5;28;01mreturn\u001b[39;00m _RELOADING[name]\n",
      "\u001b[0;31mImportError\u001b[0m: module API not in sys.modules"
     ]
    }
   ],
   "source": [
    "# import pulceo API\n",
    "from pulceo.sdk import API\n",
    "pulceo_api = API(scheme, host, prm_port, psm_port, pms_port)\n",
    "pulceo_api.check_health()"
   ]
  },
  {
   "cell_type": "markdown",
   "id": "214f3ea1",
   "metadata": {},
   "source": [
    "## Create"
   ]
  },
  {
   "cell_type": "markdown",
   "id": "20e02ae9",
   "metadata": {},
   "source": [
    "### Manage Orchestrations and Orchestration Context"
   ]
  },
  {
   "cell_type": "code",
   "execution_count": null,
   "id": "0d484cf1",
   "metadata": {},
   "outputs": [],
   "source": [
    "# create a new orchestration\n"
   ]
  },
  {
   "cell_type": "code",
   "execution_count": 6,
   "id": "e401b3b8",
   "metadata": {},
   "outputs": [
    {
     "data": {
      "text/plain": [
       "{'uuid': '8da30b2c-2d4f-46b6-b094-c08457b45c14', 'name': 'default'}"
      ]
     },
     "execution_count": 6,
     "metadata": {},
     "output_type": "execute_result"
    }
   ],
   "source": [
    "# check the orchestration context\n",
    "pulceo_api.get_orchestration_context()"
   ]
  },
  {
   "cell_type": "code",
   "execution_count": 4,
   "id": "07e52f51",
   "metadata": {},
   "outputs": [
    {
     "name": "stdout",
     "output_type": "stream",
     "text": [
      "Orchestration context successfully reset.\n"
     ]
    }
   ],
   "source": [
    "# reset the orchestration context\n",
    "pulceo_api.reset_orchestration_context()"
   ]
  },
  {
   "cell_type": "markdown",
   "id": "c6d8be43",
   "metadata": {},
   "source": [
    "## Operate\n",
    "\n"
   ]
  },
  {
   "cell_type": "markdown",
   "id": "4891fdb7",
   "metadata": {},
   "source": [
    "## Monitor"
   ]
  }
 ],
 "metadata": {
  "kernelspec": {
   "display_name": "Python 3",
   "language": "python",
   "name": "python3"
  },
  "language_info": {
   "codemirror_mode": {
    "name": "ipython",
    "version": 3
   },
   "file_extension": ".py",
   "mimetype": "text/x-python",
   "name": "python",
   "nbconvert_exporter": "python",
   "pygments_lexer": "ipython3",
   "version": "3.11.12"
  }
 },
 "nbformat": 4,
 "nbformat_minor": 5
}

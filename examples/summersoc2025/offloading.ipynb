{
 "cells": [
  {
   "cell_type": "markdown",
   "id": "3720168c",
   "metadata": {},
   "source": [
    "## Connect to PULCEO"
   ]
  },
  {
   "cell_type": "code",
   "execution_count": 56,
   "id": "3c19da6d",
   "metadata": {},
   "outputs": [
    {
     "name": "stdout",
     "output_type": "stream",
     "text": [
      "PRM health check passed.\n",
      "PSM health check passed.\n",
      "PMS health check passed.\n"
     ]
    }
   ],
   "source": [
    "from pulceo.sdk import *\n",
    "\n",
    "# configuration\n",
    "scheme = \"http\"\n",
    "host = \"localhost\"\n",
    "prm_port = 7878 # default 7878\n",
    "psm_port = 7979 # default 7979\n",
    "pms_port = 7777 # default 7777\n",
    "\n",
    "# initiate the API\n",
    "pulceo_api = API(prm_port = prm_port)\n",
    "\n",
    "# check health of all services\n",
    "pulceo_api.check_health()"
   ]
  },
  {
   "cell_type": "markdown",
   "id": "3df85fc1",
   "metadata": {},
   "source": [
    "## Orchestration Context"
   ]
  },
  {
   "cell_type": "code",
   "execution_count": 51,
   "id": "5421798b",
   "metadata": {},
   "outputs": [
    {
     "data": {
      "text/plain": [
       "[{'service': 'psm',\n",
       "  'uuid': '12b70851-2f45-48aa-ab28-6d61effb8837',\n",
       "  'name': 'offloading'},\n",
       " {'service': 'prm',\n",
       "  'uuid': '12b70851-2f45-48aa-ab28-6d61effb8837',\n",
       "  'name': 'offloading'},\n",
       " {'service': 'pms',\n",
       "  'uuid': '12b70851-2f45-48aa-ab28-6d61effb8837',\n",
       "  'name': 'offloading'}]"
      ]
     },
     "execution_count": 51,
     "metadata": {},
     "output_type": "execute_result"
    }
   ],
   "source": [
    "# check for the current orchestration context\n",
    "pulceo_api.get_orchestration_context(scope=\"all\")"
   ]
  },
  {
   "cell_type": "code",
   "execution_count": 50,
   "id": "32173f21",
   "metadata": {},
   "outputs": [
    {
     "name": "stdout",
     "output_type": "stream",
     "text": [
      "Orchestration created successfully.\n"
     ]
    },
    {
     "data": {
      "text/plain": [
       "{'uuid': '12b70851-2f45-48aa-ab28-6d61effb8837',\n",
       " 'name': 'offloading',\n",
       " 'description': 'test orchestration for offloading',\n",
       " 'status': 'NEW',\n",
       " 'properties': {'key': 'value'}}"
      ]
     },
     "execution_count": 50,
     "metadata": {},
     "output_type": "execute_result"
    }
   ],
   "source": [
    "# create an orchestration\n",
    "pulceo_api.create_orchestration(\"offloading\", \"test orchestration for offloading\", {\"key\":\"value\"})"
   ]
  },
  {
   "cell_type": "code",
   "execution_count": 52,
   "id": "efc197cd",
   "metadata": {},
   "outputs": [
    {
     "name": "stdout",
     "output_type": "stream",
     "text": [
      "Orchestration status updated to RUNNING.\n"
     ]
    }
   ],
   "source": [
    "# start orchestration\n",
    "pulceo_api.start_orchestration(\"offloading\")"
   ]
  },
  {
   "cell_type": "markdown",
   "id": "214f3ea1",
   "metadata": {},
   "source": [
    "## Creation"
   ]
  },
  {
   "cell_type": "markdown",
   "id": "d05fa2b1",
   "metadata": {},
   "source": [
    "### Nodes"
   ]
  },
  {
   "cell_type": "code",
   "execution_count": 57,
   "id": "ef2cd53b",
   "metadata": {},
   "outputs": [
    {
     "name": "stdout",
     "output_type": "stream",
     "text": [
      "Failed to create node: 400, {\"errorCode\":\"BAD_REQUEST\",\"errorMsg\":\"Hostname already exists!\",\"status\":400,\"timestamp\":\"2025-07-25 02:54:43\"}\n"
     ]
    }
   ],
   "source": [
    "# pdh-pna1\n",
    "pulceo_api.create_node(\"resources/nodes/pdh-pna1.json\")"
   ]
  },
  {
   "cell_type": "code",
   "execution_count": null,
   "id": "a3e1906c",
   "metadata": {},
   "outputs": [],
   "source": [
    "# TODO: Possibility 1 (manually)\n",
    "\n",
    "# create nodes via json\n",
    "#pulceo_api.create_node(\"resources/nodes/edge0.json\")\n",
    "#pulceo_api.create_node(\"resources/nodes/edge1.json\")"
   ]
  },
  {
   "cell_type": "code",
   "execution_count": 54,
   "id": "f181359f",
   "metadata": {},
   "outputs": [
    {
     "data": {
      "text/plain": [
       "[{'uuid': 'ce69276d-857d-4918-8b61-a0960ae7fd66',\n",
       "  'providerName': 'default',\n",
       "  'hostname': '141.13.163.183',\n",
       "  'pnaUUID': '0247fea1-3ca3-401b-8fa2-b6f83a469680',\n",
       "  'node': {'name': 'pdh-pna1',\n",
       "   'type': 'EDGE',\n",
       "   'layer': 1,\n",
       "   'role': 'WORKLOAD',\n",
       "   'group': '',\n",
       "   'country': 'Germany',\n",
       "   'state': 'Bavaria',\n",
       "   'city': 'Bamberg',\n",
       "   'longitude': 0.0,\n",
       "   'latitude': 0.0,\n",
       "   'tags': [{'key': 'properties', 'value': 'Java, MySQL'}]}}]"
      ]
     },
     "execution_count": 54,
     "metadata": {},
     "output_type": "execute_result"
    }
   ],
   "source": [
    "# read nodes\n",
    "pulceo_api.read_nodes()"
   ]
  },
  {
   "cell_type": "markdown",
   "id": "07e52f51",
   "metadata": {},
   "source": [
    "### Links"
   ]
  },
  {
   "cell_type": "code",
   "execution_count": null,
   "id": "41eb4171",
   "metadata": {},
   "outputs": [],
   "source": [
    "# TODO: Possibility 1 (manually)\n",
    "\n",
    "# create links via json\n",
    "pulceo_api.create_link(\"resources/links/edge0-edge1.json\")\n",
    "pulceo_api.create_link(\"resources/links/edge1-edge0.json\")"
   ]
  },
  {
   "cell_type": "code",
   "execution_count": 11,
   "id": "b09d7f6f",
   "metadata": {},
   "outputs": [
    {
     "data": {
      "text/plain": [
       "[]"
      ]
     },
     "execution_count": 11,
     "metadata": {},
     "output_type": "execute_result"
    }
   ],
   "source": [
    "# read links\n",
    "pulceo_api.read_links()"
   ]
  },
  {
   "cell_type": "markdown",
   "id": "c6d8be43",
   "metadata": {},
   "source": [
    "## Operation"
   ]
  },
  {
   "cell_type": "code",
   "execution_count": null,
   "id": "6620b41c",
   "metadata": {},
   "outputs": [],
   "source": [
    "# TODO: deploy workload on edge0\n"
   ]
  },
  {
   "cell_type": "markdown",
   "id": "1942b880",
   "metadata": {},
   "source": [
    "## Monitoring"
   ]
  },
  {
   "cell_type": "code",
   "execution_count": 55,
   "id": "b8cfdcff",
   "metadata": {},
   "outputs": [
    {
     "name": "stdout",
     "output_type": "stream",
     "text": [
      "PMS health check passed.\n"
     ]
    }
   ],
   "source": [
    "# check health\n",
    "pulceo_api.monitoring.check_health()"
   ]
  },
  {
   "cell_type": "markdown",
   "id": "6d1315c1",
   "metadata": {},
   "source": [
    "### Nodes"
   ]
  },
  {
   "cell_type": "code",
   "execution_count": null,
   "id": "ad58093f",
   "metadata": {},
   "outputs": [],
   "source": [
    "pulceo_api.monitoring.create_metric_request(\"resources/metric-requests/nodes/pdh-pna1_cpu-util.json\")"
   ]
  },
  {
   "cell_type": "code",
   "execution_count": null,
   "id": "9981f01f",
   "metadata": {},
   "outputs": [],
   "source": [
    "# TODO: Possibility 1 (manually)\n",
    "\n",
    "# TODO: via json\n",
    "\n",
    "# edge0\n",
    "pulceo_api.monitoring.create_metric_request(\"resources/metric-requests/nodes/edge0_cpu-util.json\")\n",
    "pulceo_api.monitoring.create_metric_request(\"resources/metric-requests/nodes/edge0_mem-util.json\")\n",
    "pulceo_api.monitoring.create_metric_request(\"resources/metric-requests/nodes/edge0_storage-util.json\")\n",
    "pulceo_api.monitoring.create_metric_request(\"resources/metric-requests/nodes/edge0_net-util.json\")\n",
    "\n",
    "# edge1\n",
    "pulceo_api.monitoring.create_metric_request(\"resources/metric-requests/nodes/edge1_cpu-util.json\")\n",
    "pulceo_api.monitoring.create_metric_request(\"resources/metric-requests/nodes/edge1_mem-util.json\")\n",
    "pulceo_api.monitoring.create_metric_request(\"resources/metric-requests/nodes/edge1_storage-util.json\")\n",
    "pulceo_api.monitoring.create_metric_request(\"resources/metric-requests/nodes/edge1_net-util.json\")"
   ]
  },
  {
   "cell_type": "code",
   "execution_count": null,
   "id": "5a8a576a",
   "metadata": {},
   "outputs": [],
   "source": [
    "# TODO: read metric requests\n",
    "pulceo_api.monitoring.read_metric_requests()"
   ]
  },
  {
   "cell_type": "code",
   "execution_count": null,
   "id": "32955bc4",
   "metadata": {},
   "outputs": [],
   "source": [
    "# TODO: metric requests links\n",
    "\n",
    "# edge0-edge1"
   ]
  },
  {
   "cell_type": "markdown",
   "id": "4891fdb7",
   "metadata": {},
   "source": [
    "## Evaluation"
   ]
  },
  {
   "cell_type": "code",
   "execution_count": 42,
   "id": "2ee4577c",
   "metadata": {},
   "outputs": [
    {
     "name": "stdout",
     "output_type": "stream",
     "text": [
      "Orchestration status updated to COMPLETED.\n"
     ]
    }
   ],
   "source": [
    "# stop orchestration\n",
    "pulceo_api.stop_orchestration(\"offloading-test2\")"
   ]
  },
  {
   "cell_type": "code",
   "execution_count": 44,
   "id": "055f9e21",
   "metadata": {},
   "outputs": [
    {
     "name": "stdout",
     "output_type": "stream",
     "text": [
      "Orchestration report created successfully.\n"
     ]
    }
   ],
   "source": [
    "# generate orchestration report\n",
    "pulceo_api.create_orchestration_report(\"offloading-test2\")"
   ]
  },
  {
   "cell_type": "markdown",
   "id": "4ce8d84f",
   "metadata": {},
   "source": [
    "## Documentation"
   ]
  },
  {
   "cell_type": "code",
   "execution_count": 45,
   "id": "435914bc",
   "metadata": {},
   "outputs": [
    {
     "name": "stdout",
     "output_type": "stream",
     "text": [
      "Orchestration context successfully reset.\n"
     ]
    }
   ],
   "source": [
    "## reset orchestration context\n",
    "pulceo_api.reset_orchestration_context()"
   ]
  }
 ],
 "metadata": {
  "kernelspec": {
   "display_name": "venv",
   "language": "python",
   "name": "python3"
  },
  "language_info": {
   "codemirror_mode": {
    "name": "ipython",
    "version": 3
   },
   "file_extension": ".py",
   "mimetype": "text/x-python",
   "name": "python",
   "nbconvert_exporter": "python",
   "pygments_lexer": "ipython3",
   "version": "3.13.5"
  }
 },
 "nbformat": 4,
 "nbformat_minor": 5
}
